{
 "cells": [
  {
   "cell_type": "markdown",
   "source": [
    "# 002 线性回归的简洁实现"
   ],
   "metadata": {}
  },
  {
   "cell_type": "code",
   "execution_count": 1,
   "source": [
    "# import package\n",
    "import numpy as np\n",
    "import torch\n",
    "from torch.utils import data\n",
    "from torch import nn\n"
   ],
   "outputs": [],
   "metadata": {}
  },
  {
   "cell_type": "markdown",
   "source": [
    "## 构造一个人造的数据集"
   ],
   "metadata": {}
  },
  {
   "cell_type": "markdown",
   "source": [
    "### 定义线性模型参数\n",
    "\n",
    "- Weight: $w=[2, -3.4]^T$\n",
    "- Bias: $b=4.2$\n",
    "- 噪声: $\\epsilon$\n",
    "- 标签: $y = Xw + b + \\epsilon$"
   ],
   "metadata": {}
  },
  {
   "cell_type": "code",
   "execution_count": 2,
   "source": [
    "def create_data(w, b, size):\n",
    "    # X: 均值为0, 方差为1, 大小为size*len(w)\n",
    "    X = torch.normal(0, 1, (size, len(w)))\n",
    "    y = torch.matmul(X, w) + b\n",
    "    # 创造噪音epsilon\n",
    "    epsilon = torch.normal(0, 0.01, y.shape)\n",
    "    y += epsilon\n",
    "    # reshape(x, y): 将张量变形，值为-1时表示自动.\n",
    "    return X, y.reshape((-1, 1))\n",
    "\n",
    "\n",
    "real_w, real_b = torch.tensor([2, -3.4]), 4.2\n",
    "features, labels = create_data(w=real_w, b=real_b, size=1000)\n",
    "\n",
    "features[0], labels[0]\n"
   ],
   "outputs": [
    {
     "output_type": "execute_result",
     "data": {
      "text/plain": [
       "(tensor([ 1.0600, -0.2760]), tensor([7.2651]))"
      ]
     },
     "metadata": {},
     "execution_count": 2
    }
   ],
   "metadata": {}
  },
  {
   "cell_type": "markdown",
   "source": [
    "### 调用API读取参数"
   ],
   "metadata": {}
  },
  {
   "cell_type": "code",
   "execution_count": 3,
   "source": [
    "def load_data(data_arrays, batch_size, is_train=True):\n",
    "    dataset = data.TensorDataset(*data_arrays)\n",
    "    return data.DataLoader(dataset, batch_size, shuffle=is_train)\n",
    "\n",
    "\n",
    "batch_size = 10\n",
    "data_iter = load_data((features, labels), batch_size)\n",
    "\n",
    "next(iter(data_iter))\n"
   ],
   "outputs": [
    {
     "output_type": "execute_result",
     "data": {
      "text/plain": [
       "[tensor([[ 0.3182,  0.2601],\n",
       "         [-1.0888, -1.0948],\n",
       "         [ 1.5087,  0.7775],\n",
       "         [-1.1778,  1.3631],\n",
       "         [-0.1293,  0.0852],\n",
       "         [-1.5048,  0.6720],\n",
       "         [ 1.1586,  1.2535],\n",
       "         [-0.5643, -1.7203],\n",
       "         [-0.0268, -0.0390],\n",
       "         [-1.1336, -0.4565]]),\n",
       " tensor([[ 3.9654],\n",
       "         [ 5.7510],\n",
       "         [ 4.5785],\n",
       "         [-2.7883],\n",
       "         [ 3.6623],\n",
       "         [-1.0922],\n",
       "         [ 2.2574],\n",
       "         [ 8.9123],\n",
       "         [ 4.2725],\n",
       "         [ 3.4643]])]"
      ]
     },
     "metadata": {},
     "execution_count": 3
    }
   ],
   "metadata": {}
  },
  {
   "cell_type": "markdown",
   "source": [
    "## 定义模型"
   ],
   "metadata": {}
  },
  {
   "cell_type": "markdown",
   "source": [
    "### 使用框架预定义好的层并初始化模型参数"
   ],
   "metadata": {}
  },
  {
   "cell_type": "code",
   "execution_count": 4,
   "source": [
    "net = nn.Sequential(nn.Linear(2, 1))\n",
    "net[0].weight.data.normal_(0, 0.01)\n",
    "net[0].bias.data.fill_(0)\n"
   ],
   "outputs": [
    {
     "output_type": "execute_result",
     "data": {
      "text/plain": [
       "tensor([0.])"
      ]
     },
     "metadata": {},
     "execution_count": 4
    }
   ],
   "metadata": {}
  },
  {
   "cell_type": "markdown",
   "source": [
    "### 定义Loss函数MSELoss"
   ],
   "metadata": {}
  },
  {
   "cell_type": "code",
   "execution_count": 5,
   "source": [
    "loss = nn.MSELoss()\n"
   ],
   "outputs": [],
   "metadata": {}
  },
  {
   "cell_type": "markdown",
   "source": [
    "### 实例化SGD实例"
   ],
   "metadata": {}
  },
  {
   "cell_type": "code",
   "execution_count": 6,
   "source": [
    "trainer = torch.optim.SGD(net.parameters(), lr=0.03)\n"
   ],
   "outputs": [],
   "metadata": {}
  },
  {
   "cell_type": "markdown",
   "source": [
    "## 开始训练"
   ],
   "metadata": {}
  },
  {
   "cell_type": "code",
   "execution_count": 7,
   "source": [
    "epoch_times = 10\n",
    "for epoch in range(epoch_times):\n",
    "    for X, y in data_iter:\n",
    "        l = loss(net(X), y)\n",
    "        trainer.zero_grad()\n",
    "        l.backward()\n",
    "        trainer.step()\n",
    "    l = loss(net(features), labels)\n",
    "    print(f'epoch: {epoch+1}, loss: {l:f}')\n",
    "\n"
   ],
   "outputs": [
    {
     "output_type": "stream",
     "name": "stdout",
     "text": [
      "epoch: 1, loss: 0.000328\n",
      "epoch: 2, loss: 0.000095\n",
      "epoch: 3, loss: 0.000094\n",
      "epoch: 4, loss: 0.000095\n",
      "epoch: 5, loss: 0.000095\n",
      "epoch: 6, loss: 0.000094\n",
      "epoch: 7, loss: 0.000094\n",
      "epoch: 8, loss: 0.000094\n",
      "epoch: 9, loss: 0.000094\n",
      "epoch: 10, loss: 0.000094\n"
     ]
    }
   ],
   "metadata": {}
  },
  {
   "cell_type": "code",
   "execution_count": 8,
   "source": [
    "w = net[0].weight.data\n",
    "b = net[0].bias.data\n",
    "\n",
    "diff_w = real_w - w.reshape(real_w.shape)\n",
    "diff_b = real_b - b\n",
    "\n",
    "diff_w, diff_b"
   ],
   "outputs": [
    {
     "output_type": "execute_result",
     "data": {
      "text/plain": [
       "(tensor([ 0.0004, -0.0004]), tensor([0.0006]))"
      ]
     },
     "metadata": {},
     "execution_count": 8
    }
   ],
   "metadata": {}
  }
 ],
 "metadata": {
  "orig_nbformat": 4,
  "language_info": {
   "name": "python",
   "version": "3.8.11",
   "mimetype": "text/x-python",
   "codemirror_mode": {
    "name": "ipython",
    "version": 3
   },
   "pygments_lexer": "ipython3",
   "nbconvert_exporter": "python",
   "file_extension": ".py"
  },
  "kernelspec": {
   "name": "python3",
   "display_name": "Python 3.8.11 64-bit ('mlbook': conda)"
  },
  "interpreter": {
   "hash": "ea64c712707e49a20f050f4e48b68e51b1a6570ba2a7e0b1ff22890beb7f7edb"
  }
 },
 "nbformat": 4,
 "nbformat_minor": 2
}