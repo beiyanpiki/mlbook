{
 "cells": [
  {
   "cell_type": "markdown",
   "source": [
    "# 003 读取数据"
   ],
   "metadata": {}
  },
  {
   "cell_type": "code",
   "execution_count": 18,
   "source": [
    "# Import packages\r\n",
    "import torch\r\n",
    "import torchvision\r\n",
    "from torch.utils import data\r\n",
    "from torchvision import transforms\r\n",
    "import matplotlib.pyplot as plt\r\n",
    "import time\r\n",
    "%matplotlib inline\r\n"
   ],
   "outputs": [],
   "metadata": {}
  },
  {
   "cell_type": "markdown",
   "source": [
    "## 读取数据集"
   ],
   "metadata": {}
  },
  {
   "cell_type": "markdown",
   "source": [
    "### 读取Fashion-MNIST数据集"
   ],
   "metadata": {}
  },
  {
   "cell_type": "code",
   "execution_count": 19,
   "source": [
    "trans = transforms.ToTensor()\r\n",
    "mnist_train = torchvision.datasets.FashionMNIST(\r\n",
    "    root='../data',\r\n",
    "    train=True,\r\n",
    "    transform=trans,\r\n",
    "    download=True\r\n",
    ")\r\n",
    "mnist_test = torchvision.datasets.FashionMNIST(\r\n",
    "    root=\"../data\",\r\n",
    "    train=False,\r\n",
    "    transform=trans,\r\n",
    "    download=True\r\n",
    ")\r\n",
    "\r\n",
    "len(mnist_train), len(mnist_test)\r\n"
   ],
   "outputs": [
    {
     "output_type": "execute_result",
     "data": {
      "text/plain": [
       "(60000, 10000)"
      ]
     },
     "metadata": {},
     "execution_count": 19
    }
   ],
   "metadata": {}
  },
  {
   "cell_type": "markdown",
   "source": [
    "### 查看数据的Shape"
   ],
   "metadata": {}
  },
  {
   "cell_type": "code",
   "execution_count": 20,
   "source": [
    "mnist_train[0][0].shape\r\n"
   ],
   "outputs": [
    {
     "output_type": "error",
     "ename": "AttributeError",
     "evalue": "shape",
     "traceback": [
      "\u001b[1;31m---------------------------------------------------------------------------\u001b[0m",
      "\u001b[1;31mAttributeError\u001b[0m                            Traceback (most recent call last)",
      "\u001b[1;32m<ipython-input-20-5cc5f8f5ec7e>\u001b[0m in \u001b[0;36m<module>\u001b[1;34m\u001b[0m\n\u001b[1;32m----> 1\u001b[1;33m \u001b[0mmnist_train\u001b[0m\u001b[1;33m[\u001b[0m\u001b[1;36m0\u001b[0m\u001b[1;33m]\u001b[0m\u001b[1;33m[\u001b[0m\u001b[1;36m0\u001b[0m\u001b[1;33m]\u001b[0m\u001b[1;33m.\u001b[0m\u001b[0mshape\u001b[0m\u001b[1;33m\u001b[0m\u001b[1;33m\u001b[0m\u001b[0m\n\u001b[0m",
      "\u001b[1;32mF:\\miniconda\\envs\\mlbook\\lib\\site-packages\\PIL\\Image.py\u001b[0m in \u001b[0;36m__getattr__\u001b[1;34m(self, name)\u001b[0m\n\u001b[0;32m    544\u001b[0m             )\n\u001b[0;32m    545\u001b[0m             \u001b[1;32mreturn\u001b[0m \u001b[0mself\u001b[0m\u001b[1;33m.\u001b[0m\u001b[0m_category\u001b[0m\u001b[1;33m\u001b[0m\u001b[1;33m\u001b[0m\u001b[0m\n\u001b[1;32m--> 546\u001b[1;33m         \u001b[1;32mraise\u001b[0m \u001b[0mAttributeError\u001b[0m\u001b[1;33m(\u001b[0m\u001b[0mname\u001b[0m\u001b[1;33m)\u001b[0m\u001b[1;33m\u001b[0m\u001b[1;33m\u001b[0m\u001b[0m\n\u001b[0m\u001b[0;32m    547\u001b[0m \u001b[1;33m\u001b[0m\u001b[0m\n\u001b[0;32m    548\u001b[0m     \u001b[1;33m@\u001b[0m\u001b[0mproperty\u001b[0m\u001b[1;33m\u001b[0m\u001b[1;33m\u001b[0m\u001b[0m\n",
      "\u001b[1;31mAttributeError\u001b[0m: shape"
     ]
    }
   ],
   "metadata": {}
  },
  {
   "cell_type": "markdown",
   "source": [
    "### 定义数据集的Label\r\n",
    "\r\n",
    "> https://github.com/zalandoresearch/fashion-mnist#labels"
   ],
   "metadata": {}
  },
  {
   "cell_type": "code",
   "execution_count": null,
   "source": [
    "def get_labels(labels):\r\n",
    "    text_labels = ['T-shirt/top', 'Trouser', 'Pullover', 'Dress',\r\n",
    "                   'Coat', 'Sandal', 'Shirt', 'Sneaker', 'Bag', 'Ankle boot']\r\n",
    "    return [text_labels[int(i)] for i in labels]\r\n"
   ],
   "outputs": [],
   "metadata": {}
  },
  {
   "cell_type": "markdown",
   "source": [
    "### 查看样本图片"
   ],
   "metadata": {}
  },
  {
   "cell_type": "code",
   "execution_count": null,
   "source": [
    "def show_image(imgs, rows, cols, titles=None, scale=2):\r\n",
    "    figsize = (cols*scale, rows*scale)\r\n",
    "    _, axes = plt.subplots(rows, cols, figsize=figsize)\r\n",
    "    axes = axes.flatten()\r\n",
    "    for i, (ax, img) in enumerate(zip(axes, imgs)):\r\n",
    "        if torch.is_tensor(img):\r\n",
    "            ax.imshow(img.numpy())\r\n",
    "        else:\r\n",
    "            ax.imshow(img)\r\n",
    "        ax.axes.get_xaxis().set_visible(False)\r\n",
    "        ax.axes.get_yaxis().set_visible(False)\r\n",
    "        if titles:\r\n",
    "            ax.set_title(titles[i])\r\n",
    "    return axes\r\n"
   ],
   "outputs": [],
   "metadata": {}
  },
  {
   "cell_type": "code",
   "execution_count": null,
   "source": [
    "X, y = next(iter(data.DataLoader(mnist_train, batch_size=18)))\r\n",
    "\r\n",
    "show_image(X.reshape(18, 28, 28), 3, 6, titles=get_labels(y))\r\n"
   ],
   "outputs": [],
   "metadata": {}
  },
  {
   "cell_type": "markdown",
   "source": [
    "## 读取批量大小的数据"
   ],
   "metadata": {}
  },
  {
   "cell_type": "code",
   "execution_count": null,
   "source": [
    "batch_size = 256\r\n",
    "dataloader_workers = 4\r\n",
    "\r\n",
    "train_iter = data.DataLoader(\r\n",
    "    mnist_train,\r\n",
    "    batch_size,\r\n",
    "    shuffle=True,\r\n",
    "    num_workers=dataloader_workers\r\n",
    ")\r\n",
    "\r\n",
    "timer = time.time()\r\n",
    "for X, y in train_iter:\r\n",
    "    continue\r\n",
    "\r\n",
    "f'cost: {time.time()-timer} seconds'\r\n"
   ],
   "outputs": [],
   "metadata": {}
  },
  {
   "cell_type": "markdown",
   "source": [
    "## 将读取数据封装为函数\r\n"
   ],
   "metadata": {}
  },
  {
   "cell_type": "code",
   "execution_count": null,
   "source": [
    "def load_data_fashion_mnist(batch_size, resize=None, workers=4):\r\n",
    "    trans = [transforms.ToTensor()]\r\n",
    "    if resize:\r\n",
    "        trans.insert(0, transforms.Resize(resize))\r\n",
    "    trans = transforms.Compose(trans)\r\n",
    "    mnist_train = torchvision.datasets.FashionMNIST(\r\n",
    "        root=\"../data\",\r\n",
    "        train=True,\r\n",
    "        transform=trans,\r\n",
    "        download=True\r\n",
    "    )\r\n",
    "    mnist_test = torchvision.datasets.FashionMNIST(\r\n",
    "        root=\"../data\",\r\n",
    "        train=False,\r\n",
    "        transform=trans, download=True\r\n",
    "    )\r\n",
    "    return (\r\n",
    "        data.DataLoader(\r\n",
    "            mnist_train,\r\n",
    "            batch_size,\r\n",
    "            shuffle=True,\r\n",
    "            num_workers=workers\r\n",
    "        ),\r\n",
    "        data.DataLoader(\r\n",
    "            mnist_test,\r\n",
    "            batch_size,\r\n",
    "            shuffle=False,\r\n",
    "            num_workers=workers\r\n",
    "        )\r\n",
    "    )\r\n",
    "\r\n",
    "\r\n",
    "train_iter, test_iter = load_data_fashion_mnist(32, resize=64)\r\n",
    "for X, y in train_iter:\r\n",
    "    print(X.shape, X.dtype, y.shape, y.dtype)\r\n",
    "    break\r\n"
   ],
   "outputs": [],
   "metadata": {}
  }
 ],
 "metadata": {
  "orig_nbformat": 4,
  "language_info": {
   "name": "python",
   "version": "3.8.11",
   "mimetype": "text/x-python",
   "codemirror_mode": {
    "name": "ipython",
    "version": 3
   },
   "pygments_lexer": "ipython3",
   "nbconvert_exporter": "python",
   "file_extension": ".py"
  },
  "kernelspec": {
   "name": "python3",
   "display_name": "Python 3.8.11 64-bit ('mlbook': conda)"
  },
  "interpreter": {
   "hash": "ea64c712707e49a20f050f4e48b68e51b1a6570ba2a7e0b1ff22890beb7f7edb"
  }
 },
 "nbformat": 4,
 "nbformat_minor": 2
}