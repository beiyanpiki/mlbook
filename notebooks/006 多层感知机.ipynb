{
 "cells": [
  {
   "cell_type": "markdown",
   "source": [
    "# 006 多层感知机"
   ],
   "metadata": {}
  },
  {
   "cell_type": "code",
   "execution_count": 35,
   "source": [
    "# Import package\r\n",
    "import torch\r\n",
    "from torch import nn\r\n",
    "from torch.utils import data\r\n",
    "import torchvision\r\n",
    "from torchvision import transforms\r\n",
    "from IPython import display\r\n",
    "import matplotlib.pyplot as plt\r\n",
    "%matplotlib inline"
   ],
   "outputs": [],
   "metadata": {}
  },
  {
   "cell_type": "markdown",
   "source": [
    "## 读取数据并处理数据"
   ],
   "metadata": {}
  },
  {
   "cell_type": "markdown",
   "source": [
    "### 读取 Fashion-MNIST 数据集"
   ],
   "metadata": {}
  },
  {
   "cell_type": "code",
   "execution_count": 36,
   "source": [
    "def load_data_fashion_mnist(batch_size, resize=None, workers=4):\r\n",
    "    trans = [transforms.ToTensor()]\r\n",
    "    if resize:\r\n",
    "        trans.insert(0, transforms.Resize(resize))\r\n",
    "    trans = transforms.Compose(trans)\r\n",
    "    mnist_train = torchvision.datasets.FashionMNIST(\r\n",
    "        root=\"../data\",\r\n",
    "        train=True,\r\n",
    "        transform=trans,\r\n",
    "        download=True\r\n",
    "    )\r\n",
    "    mnist_test = torchvision.datasets.FashionMNIST(\r\n",
    "        root=\"../data\",\r\n",
    "        train=False,\r\n",
    "        transform=trans, download=True\r\n",
    "    )\r\n",
    "    return (\r\n",
    "        data.DataLoader(\r\n",
    "            mnist_train,\r\n",
    "            batch_size,\r\n",
    "            shuffle=True,\r\n",
    "            num_workers=workers\r\n",
    "        ),\r\n",
    "        data.DataLoader(\r\n",
    "            mnist_test,\r\n",
    "            batch_size,\r\n",
    "            shuffle=False,\r\n",
    "            num_workers=workers\r\n",
    "        )\r\n",
    "    )\r\n",
    "\r\n",
    "\r\n",
    "batch_size = 256\r\n",
    "train_iter, test_iter = load_data_fashion_mnist(\r\n",
    "    batch_size=batch_size,\r\n",
    "    workers=4\r\n",
    ")\r\n"
   ],
   "outputs": [],
   "metadata": {}
  },
  {
   "cell_type": "markdown",
   "source": [
    "## 定义模型"
   ],
   "metadata": {}
  },
  {
   "cell_type": "markdown",
   "source": [
    "### 多层感知机\r\n",
    "\r\n",
    "实现一个具有但隐藏层的多层感知机, 包含256个隐藏单元"
   ],
   "metadata": {}
  },
  {
   "cell_type": "code",
   "execution_count": 37,
   "source": [
    "num_inputs, num_outputs, num_hiddens = 784, 10, 256\r\n",
    "\r\n",
    "W1 = nn.Parameter(\r\n",
    "    torch.randn(num_inputs, num_hiddens, requires_grad=True)*0.01\r\n",
    ")\r\n",
    "b1 = nn.Parameter(\r\n",
    "    torch.zeros(num_hiddens, requires_grad=True)*0.01\r\n",
    ")\r\n",
    "\r\n",
    "W2 = nn.Parameter(\r\n",
    "    torch.randn(num_hiddens, num_outputs, requires_grad=True)\r\n",
    ")\r\n",
    "b2 = nn.Parameter(\r\n",
    "    torch.zeros(num_outputs, requires_grad=True)\r\n",
    ")\r\n",
    "\r\n",
    "params = [W1, b1, W2, b2]\r\n",
    "params\r\n"
   ],
   "outputs": [
    {
     "output_type": "execute_result",
     "data": {
      "text/plain": [
       "[Parameter containing:\n",
       " tensor([[-0.0003,  0.0011, -0.0165,  ..., -0.0019, -0.0022, -0.0040],\n",
       "         [-0.0039, -0.0047,  0.0013,  ..., -0.0055,  0.0028, -0.0027],\n",
       "         [ 0.0087, -0.0181,  0.0091,  ...,  0.0004, -0.0108, -0.0097],\n",
       "         ...,\n",
       "         [-0.0031,  0.0008, -0.0131,  ..., -0.0199, -0.0104,  0.0048],\n",
       "         [-0.0126, -0.0025, -0.0204,  ...,  0.0152,  0.0002, -0.0006],\n",
       "         [ 0.0109, -0.0075,  0.0040,  ..., -0.0018,  0.0152,  0.0097]],\n",
       "        requires_grad=True),\n",
       " Parameter containing:\n",
       " tensor([0., 0., 0., 0., 0., 0., 0., 0., 0., 0., 0., 0., 0., 0., 0., 0., 0., 0., 0., 0., 0., 0., 0., 0.,\n",
       "         0., 0., 0., 0., 0., 0., 0., 0., 0., 0., 0., 0., 0., 0., 0., 0., 0., 0., 0., 0., 0., 0., 0., 0.,\n",
       "         0., 0., 0., 0., 0., 0., 0., 0., 0., 0., 0., 0., 0., 0., 0., 0., 0., 0., 0., 0., 0., 0., 0., 0.,\n",
       "         0., 0., 0., 0., 0., 0., 0., 0., 0., 0., 0., 0., 0., 0., 0., 0., 0., 0., 0., 0., 0., 0., 0., 0.,\n",
       "         0., 0., 0., 0., 0., 0., 0., 0., 0., 0., 0., 0., 0., 0., 0., 0., 0., 0., 0., 0., 0., 0., 0., 0.,\n",
       "         0., 0., 0., 0., 0., 0., 0., 0., 0., 0., 0., 0., 0., 0., 0., 0., 0., 0., 0., 0., 0., 0., 0., 0.,\n",
       "         0., 0., 0., 0., 0., 0., 0., 0., 0., 0., 0., 0., 0., 0., 0., 0., 0., 0., 0., 0., 0., 0., 0., 0.,\n",
       "         0., 0., 0., 0., 0., 0., 0., 0., 0., 0., 0., 0., 0., 0., 0., 0., 0., 0., 0., 0., 0., 0., 0., 0.,\n",
       "         0., 0., 0., 0., 0., 0., 0., 0., 0., 0., 0., 0., 0., 0., 0., 0., 0., 0., 0., 0., 0., 0., 0., 0.,\n",
       "         0., 0., 0., 0., 0., 0., 0., 0., 0., 0., 0., 0., 0., 0., 0., 0., 0., 0., 0., 0., 0., 0., 0., 0.,\n",
       "         0., 0., 0., 0., 0., 0., 0., 0., 0., 0., 0., 0., 0., 0., 0., 0.],\n",
       "        requires_grad=True),\n",
       " Parameter containing:\n",
       " tensor([[ 0.7979,  1.2018,  1.0890,  ...,  0.2250, -0.0949, -0.6771],\n",
       "         [-0.0317,  0.9247, -1.3713,  ...,  0.5478, -1.1761, -0.2919],\n",
       "         [-0.3038, -0.6638, -1.8008,  ...,  1.4631,  1.2433, -0.2191],\n",
       "         ...,\n",
       "         [ 1.6654, -1.1630,  0.7789,  ...,  0.1606, -1.2603, -0.4148],\n",
       "         [ 0.8784, -0.2138,  0.4866,  ..., -0.6734,  1.2548,  0.8768],\n",
       "         [-0.1838, -1.5580, -2.3487,  ..., -1.8646, -0.3734, -2.5564]],\n",
       "        requires_grad=True),\n",
       " Parameter containing:\n",
       " tensor([0., 0., 0., 0., 0., 0., 0., 0., 0., 0.], requires_grad=True)]"
      ]
     },
     "metadata": {},
     "execution_count": 37
    }
   ],
   "metadata": {}
  },
  {
   "cell_type": "markdown",
   "source": [
    "### ReLU激活函数"
   ],
   "metadata": {}
  },
  {
   "cell_type": "code",
   "execution_count": 38,
   "source": [
    "def relu(X):\r\n",
    "    a = torch.zeros_like(X)\r\n",
    "    return torch.max(X, a)\r\n"
   ],
   "outputs": [],
   "metadata": {}
  },
  {
   "cell_type": "markdown",
   "source": [
    "## Loss 与 模型"
   ],
   "metadata": {}
  },
  {
   "cell_type": "code",
   "execution_count": 39,
   "source": [
    "# @: 矩阵(向量)乘法, 同torch.matmul\r\n",
    "def net(X):\r\n",
    "    X = X.reshape((-1, num_inputs))\r\n",
    "    H = relu(X @ W1 + b1)\r\n",
    "    return (H @ W2 + b2)\r\n",
    "\r\n",
    "loss = nn.CrossEntropyLoss()"
   ],
   "outputs": [],
   "metadata": {}
  },
  {
   "cell_type": "markdown",
   "source": [
    "## 开始训练"
   ],
   "metadata": {}
  },
  {
   "cell_type": "markdown",
   "source": [
    "### 训练前准备"
   ],
   "metadata": {}
  },
  {
   "cell_type": "code",
   "execution_count": 40,
   "source": [
    "def set_axes(axes, xlabel, ylabel, xlim, ylim, xscale, yscale, legend):\r\n",
    "    axes.set_xlabel(xlabel)\r\n",
    "    axes.set_ylabel(ylabel)\r\n",
    "    axes.set_xscale(xscale)\r\n",
    "    axes.set_yscale(yscale)\r\n",
    "    axes.set_xlim(xlim)\r\n",
    "    axes.set_ylim(ylim)\r\n",
    "    if legend:\r\n",
    "        axes.legend(legend)\r\n",
    "    axes.grid()\r\n",
    "\r\n",
    "\r\n",
    "class Animator:\r\n",
    "    \"\"\"在动画中绘制数据。\"\"\"\r\n",
    "\r\n",
    "    def __init__(self, xlabel=None, ylabel=None, legend=None, xlim=None,\r\n",
    "                 ylim=None, xscale='linear', yscale='linear',\r\n",
    "                 fmts=('-', 'm--', 'g-.', 'r:'), nrows=1, ncols=1,\r\n",
    "                 figsize=(3.5, 2.5)):\r\n",
    "        if legend is None:\r\n",
    "            legend = []\r\n",
    "        display.set_matplotlib_formats('svg')\r\n",
    "        self.fig, self.axes = plt.subplots(nrows, ncols, figsize=figsize)\r\n",
    "        if nrows * ncols == 1:\r\n",
    "            self.axes = [self.axes, ]\r\n",
    "        self.config_axes = lambda: set_axes(\r\n",
    "            self.axes[0], xlabel, ylabel, xlim, ylim, xscale, yscale, legend)\r\n",
    "        self.X, self.Y, self.fmts = None, None, fmts\r\n",
    "\r\n",
    "    def add(self, x, y):\r\n",
    "        if not hasattr(y, \"__len__\"):\r\n",
    "            y = [y]\r\n",
    "        n = len(y)\r\n",
    "        if not hasattr(x, \"__len__\"):\r\n",
    "            x = [x] * n\r\n",
    "        if not self.X:\r\n",
    "            self.X = [[] for _ in range(n)]\r\n",
    "        if not self.Y:\r\n",
    "            self.Y = [[] for _ in range(n)]\r\n",
    "        for i, (a, b) in enumerate(zip(x, y)):\r\n",
    "            if a is not None and b is not None:\r\n",
    "                self.X[i].append(a)\r\n",
    "                self.Y[i].append(b)\r\n",
    "        self.axes[0].cla()\r\n",
    "        for x, y, fmt in zip(self.X, self.Y, self.fmts):\r\n",
    "            self.axes[0].plot(x, y, fmt)\r\n",
    "        self.config_axes()\r\n",
    "        display.display(self.fig)\r\n",
    "        display.clear_output(wait=True)\r\n",
    "\r\n",
    "\r\n",
    "class Accumulator:\r\n",
    "    def __init__(self, n):\r\n",
    "        self.data = [0.0] * n\r\n",
    "\r\n",
    "    def add(self, *args):\r\n",
    "        self.data = [a + float(b) for a, b in zip(self.data, args)]\r\n",
    "\r\n",
    "    def reset(self):\r\n",
    "        self.data = [0.0] * len(self.data)\r\n",
    "\r\n",
    "    def __getitem__(self, idx):\r\n",
    "        return self.data[idx]\r\n",
    "\r\n",
    "\r\n",
    "def accuracy(y_hat, y):\r\n",
    "    if len(y_hat.shape) > 1 and y_hat.shape[1] > 1:\r\n",
    "        y_hat = y_hat.argmax(axis=1)\r\n",
    "    cmp = y_hat.type(y.dtype) == y\r\n",
    "    return float(cmp.type(y.dtype).sum())\r\n",
    "\r\n",
    "\r\n",
    "def evaluate_accuracy(net, data_iter):\r\n",
    "    if isinstance(net, torch.nn.Module):\r\n",
    "        net.eval()\r\n",
    "    metric = Accumulator(2)\r\n",
    "    for X, y in data_iter:\r\n",
    "        metric.add(accuracy(net(X), y), y.numel())\r\n",
    "    return metric[0] / metric[1]\r\n",
    "\r\n",
    "\r\n",
    "def train_epoch(net, train_iter, loss, updater):\r\n",
    "    if isinstance(net, torch.nn.Module):\r\n",
    "        net.train()\r\n",
    "    metric = Accumulator(3)\r\n",
    "    for X, y in train_iter:\r\n",
    "        y_hat = net(X)\r\n",
    "        l = loss(y_hat, y)\r\n",
    "        if isinstance(updater, torch.optim.Optimizer):\r\n",
    "            updater.zero_grad()\r\n",
    "            l.backward()\r\n",
    "            updater.step()\r\n",
    "            metric.add(float(l) * len(y), accuracy(y_hat, y),\r\n",
    "                       y.size().numel())\r\n",
    "        else:\r\n",
    "            l.sum().backward()\r\n",
    "            updater(X.shape[0])\r\n",
    "            metric.add(float(l.sum()), accuracy(y_hat, y), y.numel())\r\n",
    "    return metric[0] / metric[2], metric[1] / metric[2]\r\n",
    "\r\n",
    "\r\n",
    "def train(net, train_iter, test_iter, loss, num_epochs, updater):\r\n",
    "    animator = Animator(\r\n",
    "        xlabel='epoch',\r\n",
    "        xlim=[1, num_epochs],\r\n",
    "        ylim=[0.3, 0.9],\r\n",
    "        legend=['train loss', 'train acc', 'test acc']\r\n",
    "    )\r\n",
    "    for epoch in range(num_epochs):\r\n",
    "        train_metrics = train_epoch(net, train_iter, loss, updater)\r\n",
    "        test_acc = evaluate_accuracy(net, test_iter)\r\n",
    "        animator.add(epoch + 1, train_metrics + (test_acc,))\r\n",
    "    train_loss, train_acc = train_metrics\r\n",
    "    assert train_loss < 0.5, train_loss\r\n",
    "    assert train_acc <= 1 and train_acc > 0.7, train_acc\r\n",
    "    assert test_acc <= 1 and test_acc > 0.7, test_acc\r\n"
   ],
   "outputs": [],
   "metadata": {}
  },
  {
   "cell_type": "code",
   "execution_count": 41,
   "source": [
    "num_epochs, lr = 10, 0.1\r\n",
    "updater = torch.optim.SGD(params, lr=lr)\r\n"
   ],
   "outputs": [],
   "metadata": {}
  },
  {
   "cell_type": "markdown",
   "source": [
    "### 开始训练"
   ],
   "metadata": {}
  },
  {
   "cell_type": "code",
   "execution_count": 42,
   "source": [
    "train(net, train_iter, test_iter, loss, num_epochs, updater)\r\n"
   ],
   "outputs": [
    {
     "output_type": "display_data",
     "data": {
      "text/plain": [
       "<Figure size 252x180 with 1 Axes>"
      ],
      "image/svg+xml": "<?xml version=\"1.0\" encoding=\"utf-8\" standalone=\"no\"?>\r\n<!DOCTYPE svg PUBLIC \"-//W3C//DTD SVG 1.1//EN\"\r\n  \"http://www.w3.org/Graphics/SVG/1.1/DTD/svg11.dtd\">\r\n<svg height=\"184.15625pt\" version=\"1.1\" viewBox=\"0 0 238.965625 184.15625\" width=\"238.965625pt\" xmlns=\"http://www.w3.org/2000/svg\" xmlns:xlink=\"http://www.w3.org/1999/xlink\">\r\n <metadata>\r\n  <rdf:RDF xmlns:cc=\"http://creativecommons.org/ns#\" xmlns:dc=\"http://purl.org/dc/elements/1.1/\" xmlns:rdf=\"http://www.w3.org/1999/02/22-rdf-syntax-ns#\">\r\n   <cc:Work>\r\n    <dc:type rdf:resource=\"http://purl.org/dc/dcmitype/StillImage\"/>\r\n    <dc:date>2021-08-23T17:47:52.829100</dc:date>\r\n    <dc:format>image/svg+xml</dc:format>\r\n    <dc:creator>\r\n     <cc:Agent>\r\n      <dc:title>Matplotlib v3.4.2, https://matplotlib.org/</dc:title>\r\n     </cc:Agent>\r\n    </dc:creator>\r\n   </cc:Work>\r\n  </rdf:RDF>\r\n </metadata>\r\n <defs>\r\n  <style type=\"text/css\">*{stroke-linecap:butt;stroke-linejoin:round;}</style>\r\n </defs>\r\n <g id=\"figure_1\">\r\n  <g id=\"patch_1\">\r\n   <path d=\"M 0 184.15625 \r\nL 238.965625 184.15625 \r\nL 238.965625 -0 \r\nL 0 -0 \r\nz\r\n\" style=\"fill:none;\"/>\r\n  </g>\r\n  <g id=\"axes_1\">\r\n   <g id=\"patch_2\">\r\n    <path d=\"M 30.103125 146.6 \r\nL 225.403125 146.6 \r\nL 225.403125 10.7 \r\nL 30.103125 10.7 \r\nz\r\n\" style=\"fill:#ffffff;\"/>\r\n   </g>\r\n   <g id=\"matplotlib.axis_1\">\r\n    <g id=\"xtick_1\">\r\n     <g id=\"line2d_1\">\r\n      <path clip-path=\"url(#p89fe175174)\" d=\"M 51.803125 146.6 \r\nL 51.803125 10.7 \r\n\" style=\"fill:none;stroke:#b0b0b0;stroke-linecap:square;stroke-width:0.8;\"/>\r\n     </g>\r\n     <g id=\"line2d_2\">\r\n      <defs>\r\n       <path d=\"M 0 0 \r\nL 0 3.5 \r\n\" id=\"m538bdf5ac5\" style=\"stroke:#000000;stroke-width:0.8;\"/>\r\n      </defs>\r\n      <g>\r\n       <use style=\"stroke:#000000;stroke-width:0.8;\" x=\"51.803125\" xlink:href=\"#m538bdf5ac5\" y=\"146.6\"/>\r\n      </g>\r\n     </g>\r\n     <g id=\"line2d_3\">\r\n      <defs>\r\n       <path d=\"M 0 0 \r\nL 0 -3.5 \r\n\" id=\"m8f5fc27499\" style=\"stroke:#000000;stroke-width:0.8;\"/>\r\n      </defs>\r\n      <g>\r\n       <use style=\"stroke:#000000;stroke-width:0.8;\" x=\"51.803125\" xlink:href=\"#m8f5fc27499\" y=\"10.7\"/>\r\n      </g>\r\n     </g>\r\n     <g id=\"text_1\">\r\n      <!-- 2 -->\r\n      <g transform=\"translate(48.621875 161.198437)scale(0.1 -0.1)\">\r\n       <defs>\r\n        <path d=\"M 1228 531 \r\nL 3431 531 \r\nL 3431 0 \r\nL 469 0 \r\nL 469 531 \r\nQ 828 903 1448 1529 \r\nQ 2069 2156 2228 2338 \r\nQ 2531 2678 2651 2914 \r\nQ 2772 3150 2772 3378 \r\nQ 2772 3750 2511 3984 \r\nQ 2250 4219 1831 4219 \r\nQ 1534 4219 1204 4116 \r\nQ 875 4013 500 3803 \r\nL 500 4441 \r\nQ 881 4594 1212 4672 \r\nQ 1544 4750 1819 4750 \r\nQ 2544 4750 2975 4387 \r\nQ 3406 4025 3406 3419 \r\nQ 3406 3131 3298 2873 \r\nQ 3191 2616 2906 2266 \r\nQ 2828 2175 2409 1742 \r\nQ 1991 1309 1228 531 \r\nz\r\n\" id=\"DejaVuSans-32\" transform=\"scale(0.015625)\"/>\r\n       </defs>\r\n       <use xlink:href=\"#DejaVuSans-32\"/>\r\n      </g>\r\n     </g>\r\n    </g>\r\n    <g id=\"xtick_2\">\r\n     <g id=\"line2d_4\">\r\n      <path clip-path=\"url(#p89fe175174)\" d=\"M 95.203125 146.6 \r\nL 95.203125 10.7 \r\n\" style=\"fill:none;stroke:#b0b0b0;stroke-linecap:square;stroke-width:0.8;\"/>\r\n     </g>\r\n     <g id=\"line2d_5\">\r\n      <g>\r\n       <use style=\"stroke:#000000;stroke-width:0.8;\" x=\"95.203125\" xlink:href=\"#m538bdf5ac5\" y=\"146.6\"/>\r\n      </g>\r\n     </g>\r\n     <g id=\"line2d_6\">\r\n      <g>\r\n       <use style=\"stroke:#000000;stroke-width:0.8;\" x=\"95.203125\" xlink:href=\"#m8f5fc27499\" y=\"10.7\"/>\r\n      </g>\r\n     </g>\r\n     <g id=\"text_2\">\r\n      <!-- 4 -->\r\n      <g transform=\"translate(92.021875 161.198437)scale(0.1 -0.1)\">\r\n       <defs>\r\n        <path d=\"M 2419 4116 \r\nL 825 1625 \r\nL 2419 1625 \r\nL 2419 4116 \r\nz\r\nM 2253 4666 \r\nL 3047 4666 \r\nL 3047 1625 \r\nL 3713 1625 \r\nL 3713 1100 \r\nL 3047 1100 \r\nL 3047 0 \r\nL 2419 0 \r\nL 2419 1100 \r\nL 313 1100 \r\nL 313 1709 \r\nL 2253 4666 \r\nz\r\n\" id=\"DejaVuSans-34\" transform=\"scale(0.015625)\"/>\r\n       </defs>\r\n       <use xlink:href=\"#DejaVuSans-34\"/>\r\n      </g>\r\n     </g>\r\n    </g>\r\n    <g id=\"xtick_3\">\r\n     <g id=\"line2d_7\">\r\n      <path clip-path=\"url(#p89fe175174)\" d=\"M 138.603125 146.6 \r\nL 138.603125 10.7 \r\n\" style=\"fill:none;stroke:#b0b0b0;stroke-linecap:square;stroke-width:0.8;\"/>\r\n     </g>\r\n     <g id=\"line2d_8\">\r\n      <g>\r\n       <use style=\"stroke:#000000;stroke-width:0.8;\" x=\"138.603125\" xlink:href=\"#m538bdf5ac5\" y=\"146.6\"/>\r\n      </g>\r\n     </g>\r\n     <g id=\"line2d_9\">\r\n      <g>\r\n       <use style=\"stroke:#000000;stroke-width:0.8;\" x=\"138.603125\" xlink:href=\"#m8f5fc27499\" y=\"10.7\"/>\r\n      </g>\r\n     </g>\r\n     <g id=\"text_3\">\r\n      <!-- 6 -->\r\n      <g transform=\"translate(135.421875 161.198437)scale(0.1 -0.1)\">\r\n       <defs>\r\n        <path d=\"M 2113 2584 \r\nQ 1688 2584 1439 2293 \r\nQ 1191 2003 1191 1497 \r\nQ 1191 994 1439 701 \r\nQ 1688 409 2113 409 \r\nQ 2538 409 2786 701 \r\nQ 3034 994 3034 1497 \r\nQ 3034 2003 2786 2293 \r\nQ 2538 2584 2113 2584 \r\nz\r\nM 3366 4563 \r\nL 3366 3988 \r\nQ 3128 4100 2886 4159 \r\nQ 2644 4219 2406 4219 \r\nQ 1781 4219 1451 3797 \r\nQ 1122 3375 1075 2522 \r\nQ 1259 2794 1537 2939 \r\nQ 1816 3084 2150 3084 \r\nQ 2853 3084 3261 2657 \r\nQ 3669 2231 3669 1497 \r\nQ 3669 778 3244 343 \r\nQ 2819 -91 2113 -91 \r\nQ 1303 -91 875 529 \r\nQ 447 1150 447 2328 \r\nQ 447 3434 972 4092 \r\nQ 1497 4750 2381 4750 \r\nQ 2619 4750 2861 4703 \r\nQ 3103 4656 3366 4563 \r\nz\r\n\" id=\"DejaVuSans-36\" transform=\"scale(0.015625)\"/>\r\n       </defs>\r\n       <use xlink:href=\"#DejaVuSans-36\"/>\r\n      </g>\r\n     </g>\r\n    </g>\r\n    <g id=\"xtick_4\">\r\n     <g id=\"line2d_10\">\r\n      <path clip-path=\"url(#p89fe175174)\" d=\"M 182.003125 146.6 \r\nL 182.003125 10.7 \r\n\" style=\"fill:none;stroke:#b0b0b0;stroke-linecap:square;stroke-width:0.8;\"/>\r\n     </g>\r\n     <g id=\"line2d_11\">\r\n      <g>\r\n       <use style=\"stroke:#000000;stroke-width:0.8;\" x=\"182.003125\" xlink:href=\"#m538bdf5ac5\" y=\"146.6\"/>\r\n      </g>\r\n     </g>\r\n     <g id=\"line2d_12\">\r\n      <g>\r\n       <use style=\"stroke:#000000;stroke-width:0.8;\" x=\"182.003125\" xlink:href=\"#m8f5fc27499\" y=\"10.7\"/>\r\n      </g>\r\n     </g>\r\n     <g id=\"text_4\">\r\n      <!-- 8 -->\r\n      <g transform=\"translate(178.821875 161.198437)scale(0.1 -0.1)\">\r\n       <defs>\r\n        <path d=\"M 2034 2216 \r\nQ 1584 2216 1326 1975 \r\nQ 1069 1734 1069 1313 \r\nQ 1069 891 1326 650 \r\nQ 1584 409 2034 409 \r\nQ 2484 409 2743 651 \r\nQ 3003 894 3003 1313 \r\nQ 3003 1734 2745 1975 \r\nQ 2488 2216 2034 2216 \r\nz\r\nM 1403 2484 \r\nQ 997 2584 770 2862 \r\nQ 544 3141 544 3541 \r\nQ 544 4100 942 4425 \r\nQ 1341 4750 2034 4750 \r\nQ 2731 4750 3128 4425 \r\nQ 3525 4100 3525 3541 \r\nQ 3525 3141 3298 2862 \r\nQ 3072 2584 2669 2484 \r\nQ 3125 2378 3379 2068 \r\nQ 3634 1759 3634 1313 \r\nQ 3634 634 3220 271 \r\nQ 2806 -91 2034 -91 \r\nQ 1263 -91 848 271 \r\nQ 434 634 434 1313 \r\nQ 434 1759 690 2068 \r\nQ 947 2378 1403 2484 \r\nz\r\nM 1172 3481 \r\nQ 1172 3119 1398 2916 \r\nQ 1625 2713 2034 2713 \r\nQ 2441 2713 2670 2916 \r\nQ 2900 3119 2900 3481 \r\nQ 2900 3844 2670 4047 \r\nQ 2441 4250 2034 4250 \r\nQ 1625 4250 1398 4047 \r\nQ 1172 3844 1172 3481 \r\nz\r\n\" id=\"DejaVuSans-38\" transform=\"scale(0.015625)\"/>\r\n       </defs>\r\n       <use xlink:href=\"#DejaVuSans-38\"/>\r\n      </g>\r\n     </g>\r\n    </g>\r\n    <g id=\"xtick_5\">\r\n     <g id=\"line2d_13\">\r\n      <path clip-path=\"url(#p89fe175174)\" d=\"M 225.403125 146.6 \r\nL 225.403125 10.7 \r\n\" style=\"fill:none;stroke:#b0b0b0;stroke-linecap:square;stroke-width:0.8;\"/>\r\n     </g>\r\n     <g id=\"line2d_14\">\r\n      <g>\r\n       <use style=\"stroke:#000000;stroke-width:0.8;\" x=\"225.403125\" xlink:href=\"#m538bdf5ac5\" y=\"146.6\"/>\r\n      </g>\r\n     </g>\r\n     <g id=\"line2d_15\">\r\n      <g>\r\n       <use style=\"stroke:#000000;stroke-width:0.8;\" x=\"225.403125\" xlink:href=\"#m8f5fc27499\" y=\"10.7\"/>\r\n      </g>\r\n     </g>\r\n     <g id=\"text_5\">\r\n      <!-- 10 -->\r\n      <g transform=\"translate(219.040625 161.198437)scale(0.1 -0.1)\">\r\n       <defs>\r\n        <path d=\"M 794 531 \r\nL 1825 531 \r\nL 1825 4091 \r\nL 703 3866 \r\nL 703 4441 \r\nL 1819 4666 \r\nL 2450 4666 \r\nL 2450 531 \r\nL 3481 531 \r\nL 3481 0 \r\nL 794 0 \r\nL 794 531 \r\nz\r\n\" id=\"DejaVuSans-31\" transform=\"scale(0.015625)\"/>\r\n        <path d=\"M 2034 4250 \r\nQ 1547 4250 1301 3770 \r\nQ 1056 3291 1056 2328 \r\nQ 1056 1369 1301 889 \r\nQ 1547 409 2034 409 \r\nQ 2525 409 2770 889 \r\nQ 3016 1369 3016 2328 \r\nQ 3016 3291 2770 3770 \r\nQ 2525 4250 2034 4250 \r\nz\r\nM 2034 4750 \r\nQ 2819 4750 3233 4129 \r\nQ 3647 3509 3647 2328 \r\nQ 3647 1150 3233 529 \r\nQ 2819 -91 2034 -91 \r\nQ 1250 -91 836 529 \r\nQ 422 1150 422 2328 \r\nQ 422 3509 836 4129 \r\nQ 1250 4750 2034 4750 \r\nz\r\n\" id=\"DejaVuSans-30\" transform=\"scale(0.015625)\"/>\r\n       </defs>\r\n       <use xlink:href=\"#DejaVuSans-31\"/>\r\n       <use x=\"63.623047\" xlink:href=\"#DejaVuSans-30\"/>\r\n      </g>\r\n     </g>\r\n    </g>\r\n    <g id=\"text_6\">\r\n     <!-- epoch -->\r\n     <g transform=\"translate(112.525 174.876562)scale(0.1 -0.1)\">\r\n      <defs>\r\n       <path d=\"M 3597 1894 \r\nL 3597 1613 \r\nL 953 1613 \r\nQ 991 1019 1311 708 \r\nQ 1631 397 2203 397 \r\nQ 2534 397 2845 478 \r\nQ 3156 559 3463 722 \r\nL 3463 178 \r\nQ 3153 47 2828 -22 \r\nQ 2503 -91 2169 -91 \r\nQ 1331 -91 842 396 \r\nQ 353 884 353 1716 \r\nQ 353 2575 817 3079 \r\nQ 1281 3584 2069 3584 \r\nQ 2775 3584 3186 3129 \r\nQ 3597 2675 3597 1894 \r\nz\r\nM 3022 2063 \r\nQ 3016 2534 2758 2815 \r\nQ 2500 3097 2075 3097 \r\nQ 1594 3097 1305 2825 \r\nQ 1016 2553 972 2059 \r\nL 3022 2063 \r\nz\r\n\" id=\"DejaVuSans-65\" transform=\"scale(0.015625)\"/>\r\n       <path d=\"M 1159 525 \r\nL 1159 -1331 \r\nL 581 -1331 \r\nL 581 3500 \r\nL 1159 3500 \r\nL 1159 2969 \r\nQ 1341 3281 1617 3432 \r\nQ 1894 3584 2278 3584 \r\nQ 2916 3584 3314 3078 \r\nQ 3713 2572 3713 1747 \r\nQ 3713 922 3314 415 \r\nQ 2916 -91 2278 -91 \r\nQ 1894 -91 1617 61 \r\nQ 1341 213 1159 525 \r\nz\r\nM 3116 1747 \r\nQ 3116 2381 2855 2742 \r\nQ 2594 3103 2138 3103 \r\nQ 1681 3103 1420 2742 \r\nQ 1159 2381 1159 1747 \r\nQ 1159 1113 1420 752 \r\nQ 1681 391 2138 391 \r\nQ 2594 391 2855 752 \r\nQ 3116 1113 3116 1747 \r\nz\r\n\" id=\"DejaVuSans-70\" transform=\"scale(0.015625)\"/>\r\n       <path d=\"M 1959 3097 \r\nQ 1497 3097 1228 2736 \r\nQ 959 2375 959 1747 \r\nQ 959 1119 1226 758 \r\nQ 1494 397 1959 397 \r\nQ 2419 397 2687 759 \r\nQ 2956 1122 2956 1747 \r\nQ 2956 2369 2687 2733 \r\nQ 2419 3097 1959 3097 \r\nz\r\nM 1959 3584 \r\nQ 2709 3584 3137 3096 \r\nQ 3566 2609 3566 1747 \r\nQ 3566 888 3137 398 \r\nQ 2709 -91 1959 -91 \r\nQ 1206 -91 779 398 \r\nQ 353 888 353 1747 \r\nQ 353 2609 779 3096 \r\nQ 1206 3584 1959 3584 \r\nz\r\n\" id=\"DejaVuSans-6f\" transform=\"scale(0.015625)\"/>\r\n       <path d=\"M 3122 3366 \r\nL 3122 2828 \r\nQ 2878 2963 2633 3030 \r\nQ 2388 3097 2138 3097 \r\nQ 1578 3097 1268 2742 \r\nQ 959 2388 959 1747 \r\nQ 959 1106 1268 751 \r\nQ 1578 397 2138 397 \r\nQ 2388 397 2633 464 \r\nQ 2878 531 3122 666 \r\nL 3122 134 \r\nQ 2881 22 2623 -34 \r\nQ 2366 -91 2075 -91 \r\nQ 1284 -91 818 406 \r\nQ 353 903 353 1747 \r\nQ 353 2603 823 3093 \r\nQ 1294 3584 2113 3584 \r\nQ 2378 3584 2631 3529 \r\nQ 2884 3475 3122 3366 \r\nz\r\n\" id=\"DejaVuSans-63\" transform=\"scale(0.015625)\"/>\r\n       <path d=\"M 3513 2113 \r\nL 3513 0 \r\nL 2938 0 \r\nL 2938 2094 \r\nQ 2938 2591 2744 2837 \r\nQ 2550 3084 2163 3084 \r\nQ 1697 3084 1428 2787 \r\nQ 1159 2491 1159 1978 \r\nL 1159 0 \r\nL 581 0 \r\nL 581 4863 \r\nL 1159 4863 \r\nL 1159 2956 \r\nQ 1366 3272 1645 3428 \r\nQ 1925 3584 2291 3584 \r\nQ 2894 3584 3203 3211 \r\nQ 3513 2838 3513 2113 \r\nz\r\n\" id=\"DejaVuSans-68\" transform=\"scale(0.015625)\"/>\r\n      </defs>\r\n      <use xlink:href=\"#DejaVuSans-65\"/>\r\n      <use x=\"61.523438\" xlink:href=\"#DejaVuSans-70\"/>\r\n      <use x=\"125\" xlink:href=\"#DejaVuSans-6f\"/>\r\n      <use x=\"186.181641\" xlink:href=\"#DejaVuSans-63\"/>\r\n      <use x=\"241.162109\" xlink:href=\"#DejaVuSans-68\"/>\r\n     </g>\r\n    </g>\r\n   </g>\r\n   <g id=\"matplotlib.axis_2\">\r\n    <g id=\"ytick_1\">\r\n     <g id=\"line2d_16\">\r\n      <path clip-path=\"url(#p89fe175174)\" d=\"M 30.103125 123.95 \r\nL 225.403125 123.95 \r\n\" style=\"fill:none;stroke:#b0b0b0;stroke-linecap:square;stroke-width:0.8;\"/>\r\n     </g>\r\n     <g id=\"line2d_17\">\r\n      <defs>\r\n       <path d=\"M 0 0 \r\nL -3.5 0 \r\n\" id=\"m7dcd1e06b8\" style=\"stroke:#000000;stroke-width:0.8;\"/>\r\n      </defs>\r\n      <g>\r\n       <use style=\"stroke:#000000;stroke-width:0.8;\" x=\"30.103125\" xlink:href=\"#m7dcd1e06b8\" y=\"123.95\"/>\r\n      </g>\r\n     </g>\r\n     <g id=\"line2d_18\">\r\n      <defs>\r\n       <path d=\"M 0 0 \r\nL 3.5 0 \r\n\" id=\"m218b375429\" style=\"stroke:#000000;stroke-width:0.8;\"/>\r\n      </defs>\r\n      <g>\r\n       <use style=\"stroke:#000000;stroke-width:0.8;\" x=\"225.403125\" xlink:href=\"#m218b375429\" y=\"123.95\"/>\r\n      </g>\r\n     </g>\r\n     <g id=\"text_7\">\r\n      <!-- 0.4 -->\r\n      <g transform=\"translate(7.2 127.749219)scale(0.1 -0.1)\">\r\n       <defs>\r\n        <path d=\"M 684 794 \r\nL 1344 794 \r\nL 1344 0 \r\nL 684 0 \r\nL 684 794 \r\nz\r\n\" id=\"DejaVuSans-2e\" transform=\"scale(0.015625)\"/>\r\n       </defs>\r\n       <use xlink:href=\"#DejaVuSans-30\"/>\r\n       <use x=\"63.623047\" xlink:href=\"#DejaVuSans-2e\"/>\r\n       <use x=\"95.410156\" xlink:href=\"#DejaVuSans-34\"/>\r\n      </g>\r\n     </g>\r\n    </g>\r\n    <g id=\"ytick_2\">\r\n     <g id=\"line2d_19\">\r\n      <path clip-path=\"url(#p89fe175174)\" d=\"M 30.103125 78.65 \r\nL 225.403125 78.65 \r\n\" style=\"fill:none;stroke:#b0b0b0;stroke-linecap:square;stroke-width:0.8;\"/>\r\n     </g>\r\n     <g id=\"line2d_20\">\r\n      <g>\r\n       <use style=\"stroke:#000000;stroke-width:0.8;\" x=\"30.103125\" xlink:href=\"#m7dcd1e06b8\" y=\"78.65\"/>\r\n      </g>\r\n     </g>\r\n     <g id=\"line2d_21\">\r\n      <g>\r\n       <use style=\"stroke:#000000;stroke-width:0.8;\" x=\"225.403125\" xlink:href=\"#m218b375429\" y=\"78.65\"/>\r\n      </g>\r\n     </g>\r\n     <g id=\"text_8\">\r\n      <!-- 0.6 -->\r\n      <g transform=\"translate(7.2 82.449219)scale(0.1 -0.1)\">\r\n       <use xlink:href=\"#DejaVuSans-30\"/>\r\n       <use x=\"63.623047\" xlink:href=\"#DejaVuSans-2e\"/>\r\n       <use x=\"95.410156\" xlink:href=\"#DejaVuSans-36\"/>\r\n      </g>\r\n     </g>\r\n    </g>\r\n    <g id=\"ytick_3\">\r\n     <g id=\"line2d_22\">\r\n      <path clip-path=\"url(#p89fe175174)\" d=\"M 30.103125 33.35 \r\nL 225.403125 33.35 \r\n\" style=\"fill:none;stroke:#b0b0b0;stroke-linecap:square;stroke-width:0.8;\"/>\r\n     </g>\r\n     <g id=\"line2d_23\">\r\n      <g>\r\n       <use style=\"stroke:#000000;stroke-width:0.8;\" x=\"30.103125\" xlink:href=\"#m7dcd1e06b8\" y=\"33.35\"/>\r\n      </g>\r\n     </g>\r\n     <g id=\"line2d_24\">\r\n      <g>\r\n       <use style=\"stroke:#000000;stroke-width:0.8;\" x=\"225.403125\" xlink:href=\"#m218b375429\" y=\"33.35\"/>\r\n      </g>\r\n     </g>\r\n     <g id=\"text_9\">\r\n      <!-- 0.8 -->\r\n      <g transform=\"translate(7.2 37.149219)scale(0.1 -0.1)\">\r\n       <use xlink:href=\"#DejaVuSans-30\"/>\r\n       <use x=\"63.623047\" xlink:href=\"#DejaVuSans-2e\"/>\r\n       <use x=\"95.410156\" xlink:href=\"#DejaVuSans-38\"/>\r\n      </g>\r\n     </g>\r\n    </g>\r\n   </g>\r\n   <g id=\"line2d_25\">\r\n    <path clip-path=\"url(#p89fe175174)\" d=\"M 47.477063 -1 \r\nL 51.803125 103.982548 \r\nL 73.503125 114.175526 \r\nL 95.203125 119.617653 \r\nL 116.903125 124.115505 \r\nL 138.603125 127.082233 \r\nL 160.303125 130.435476 \r\nL 182.003125 131.355286 \r\nL 203.703125 133.179662 \r\nL 225.403125 135.590597 \r\n\" style=\"fill:none;stroke:#1f77b4;stroke-linecap:square;stroke-width:1.5;\"/>\r\n   </g>\r\n   <g id=\"line2d_26\">\r\n    <path clip-path=\"url(#p89fe175174)\" d=\"M 30.103125 48.32165 \r\nL 51.803125 27.630875 \r\nL 73.503125 23.991775 \r\nL 95.203125 22.15335 \r\nL 116.903125 20.397975 \r\nL 138.603125 19.861925 \r\nL 160.303125 18.4312 \r\nL 182.003125 18.027275 \r\nL 203.703125 17.4648 \r\nL 225.403125 16.2568 \r\n\" style=\"fill:none;stroke:#bf00bf;stroke-dasharray:5.55,2.4;stroke-dashoffset:0;stroke-width:1.5;\"/>\r\n   </g>\r\n   <g id=\"line2d_27\">\r\n    <path clip-path=\"url(#p89fe175174)\" d=\"M 30.103125 35.68295 \r\nL 51.803125 26.89475 \r\nL 73.503125 39.80525 \r\nL 95.203125 24.40325 \r\nL 116.903125 29.38625 \r\nL 138.603125 23.9276 \r\nL 160.303125 22.18355 \r\nL 182.003125 24.62975 \r\nL 203.703125 22.1609 \r\nL 225.403125 23.27075 \r\n\" style=\"fill:none;stroke:#008000;stroke-dasharray:9.6,2.4,1.5,2.4;stroke-dashoffset:0;stroke-width:1.5;\"/>\r\n   </g>\r\n   <g id=\"patch_3\">\r\n    <path d=\"M 30.103125 146.6 \r\nL 30.103125 10.7 \r\n\" style=\"fill:none;stroke:#000000;stroke-linecap:square;stroke-linejoin:miter;stroke-width:0.8;\"/>\r\n   </g>\r\n   <g id=\"patch_4\">\r\n    <path d=\"M 225.403125 146.6 \r\nL 225.403125 10.7 \r\n\" style=\"fill:none;stroke:#000000;stroke-linecap:square;stroke-linejoin:miter;stroke-width:0.8;\"/>\r\n   </g>\r\n   <g id=\"patch_5\">\r\n    <path d=\"M 30.103125 146.6 \r\nL 225.403125 146.6 \r\n\" style=\"fill:none;stroke:#000000;stroke-linecap:square;stroke-linejoin:miter;stroke-width:0.8;\"/>\r\n   </g>\r\n   <g id=\"patch_6\">\r\n    <path d=\"M 30.103125 10.7 \r\nL 225.403125 10.7 \r\n\" style=\"fill:none;stroke:#000000;stroke-linecap:square;stroke-linejoin:miter;stroke-width:0.8;\"/>\r\n   </g>\r\n   <g id=\"legend_1\">\r\n    <g id=\"patch_7\">\r\n     <path d=\"M 140.634375 102.167187 \r\nL 218.403125 102.167187 \r\nQ 220.403125 102.167187 220.403125 100.167187 \r\nL 220.403125 57.132812 \r\nQ 220.403125 55.132812 218.403125 55.132812 \r\nL 140.634375 55.132812 \r\nQ 138.634375 55.132812 138.634375 57.132812 \r\nL 138.634375 100.167187 \r\nQ 138.634375 102.167187 140.634375 102.167187 \r\nz\r\n\" style=\"fill:#ffffff;opacity:0.8;stroke:#cccccc;stroke-linejoin:miter;\"/>\r\n    </g>\r\n    <g id=\"line2d_28\">\r\n     <path d=\"M 142.634375 63.23125 \r\nL 162.634375 63.23125 \r\n\" style=\"fill:none;stroke:#1f77b4;stroke-linecap:square;stroke-width:1.5;\"/>\r\n    </g>\r\n    <g id=\"line2d_29\"/>\r\n    <g id=\"text_10\">\r\n     <!-- train loss -->\r\n     <g transform=\"translate(170.634375 66.73125)scale(0.1 -0.1)\">\r\n      <defs>\r\n       <path d=\"M 1172 4494 \r\nL 1172 3500 \r\nL 2356 3500 \r\nL 2356 3053 \r\nL 1172 3053 \r\nL 1172 1153 \r\nQ 1172 725 1289 603 \r\nQ 1406 481 1766 481 \r\nL 2356 481 \r\nL 2356 0 \r\nL 1766 0 \r\nQ 1100 0 847 248 \r\nQ 594 497 594 1153 \r\nL 594 3053 \r\nL 172 3053 \r\nL 172 3500 \r\nL 594 3500 \r\nL 594 4494 \r\nL 1172 4494 \r\nz\r\n\" id=\"DejaVuSans-74\" transform=\"scale(0.015625)\"/>\r\n       <path d=\"M 2631 2963 \r\nQ 2534 3019 2420 3045 \r\nQ 2306 3072 2169 3072 \r\nQ 1681 3072 1420 2755 \r\nQ 1159 2438 1159 1844 \r\nL 1159 0 \r\nL 581 0 \r\nL 581 3500 \r\nL 1159 3500 \r\nL 1159 2956 \r\nQ 1341 3275 1631 3429 \r\nQ 1922 3584 2338 3584 \r\nQ 2397 3584 2469 3576 \r\nQ 2541 3569 2628 3553 \r\nL 2631 2963 \r\nz\r\n\" id=\"DejaVuSans-72\" transform=\"scale(0.015625)\"/>\r\n       <path d=\"M 2194 1759 \r\nQ 1497 1759 1228 1600 \r\nQ 959 1441 959 1056 \r\nQ 959 750 1161 570 \r\nQ 1363 391 1709 391 \r\nQ 2188 391 2477 730 \r\nQ 2766 1069 2766 1631 \r\nL 2766 1759 \r\nL 2194 1759 \r\nz\r\nM 3341 1997 \r\nL 3341 0 \r\nL 2766 0 \r\nL 2766 531 \r\nQ 2569 213 2275 61 \r\nQ 1981 -91 1556 -91 \r\nQ 1019 -91 701 211 \r\nQ 384 513 384 1019 \r\nQ 384 1609 779 1909 \r\nQ 1175 2209 1959 2209 \r\nL 2766 2209 \r\nL 2766 2266 \r\nQ 2766 2663 2505 2880 \r\nQ 2244 3097 1772 3097 \r\nQ 1472 3097 1187 3025 \r\nQ 903 2953 641 2809 \r\nL 641 3341 \r\nQ 956 3463 1253 3523 \r\nQ 1550 3584 1831 3584 \r\nQ 2591 3584 2966 3190 \r\nQ 3341 2797 3341 1997 \r\nz\r\n\" id=\"DejaVuSans-61\" transform=\"scale(0.015625)\"/>\r\n       <path d=\"M 603 3500 \r\nL 1178 3500 \r\nL 1178 0 \r\nL 603 0 \r\nL 603 3500 \r\nz\r\nM 603 4863 \r\nL 1178 4863 \r\nL 1178 4134 \r\nL 603 4134 \r\nL 603 4863 \r\nz\r\n\" id=\"DejaVuSans-69\" transform=\"scale(0.015625)\"/>\r\n       <path d=\"M 3513 2113 \r\nL 3513 0 \r\nL 2938 0 \r\nL 2938 2094 \r\nQ 2938 2591 2744 2837 \r\nQ 2550 3084 2163 3084 \r\nQ 1697 3084 1428 2787 \r\nQ 1159 2491 1159 1978 \r\nL 1159 0 \r\nL 581 0 \r\nL 581 3500 \r\nL 1159 3500 \r\nL 1159 2956 \r\nQ 1366 3272 1645 3428 \r\nQ 1925 3584 2291 3584 \r\nQ 2894 3584 3203 3211 \r\nQ 3513 2838 3513 2113 \r\nz\r\n\" id=\"DejaVuSans-6e\" transform=\"scale(0.015625)\"/>\r\n       <path id=\"DejaVuSans-20\" transform=\"scale(0.015625)\"/>\r\n       <path d=\"M 603 4863 \r\nL 1178 4863 \r\nL 1178 0 \r\nL 603 0 \r\nL 603 4863 \r\nz\r\n\" id=\"DejaVuSans-6c\" transform=\"scale(0.015625)\"/>\r\n       <path d=\"M 2834 3397 \r\nL 2834 2853 \r\nQ 2591 2978 2328 3040 \r\nQ 2066 3103 1784 3103 \r\nQ 1356 3103 1142 2972 \r\nQ 928 2841 928 2578 \r\nQ 928 2378 1081 2264 \r\nQ 1234 2150 1697 2047 \r\nL 1894 2003 \r\nQ 2506 1872 2764 1633 \r\nQ 3022 1394 3022 966 \r\nQ 3022 478 2636 193 \r\nQ 2250 -91 1575 -91 \r\nQ 1294 -91 989 -36 \r\nQ 684 19 347 128 \r\nL 347 722 \r\nQ 666 556 975 473 \r\nQ 1284 391 1588 391 \r\nQ 1994 391 2212 530 \r\nQ 2431 669 2431 922 \r\nQ 2431 1156 2273 1281 \r\nQ 2116 1406 1581 1522 \r\nL 1381 1569 \r\nQ 847 1681 609 1914 \r\nQ 372 2147 372 2553 \r\nQ 372 3047 722 3315 \r\nQ 1072 3584 1716 3584 \r\nQ 2034 3584 2315 3537 \r\nQ 2597 3491 2834 3397 \r\nz\r\n\" id=\"DejaVuSans-73\" transform=\"scale(0.015625)\"/>\r\n      </defs>\r\n      <use xlink:href=\"#DejaVuSans-74\"/>\r\n      <use x=\"39.208984\" xlink:href=\"#DejaVuSans-72\"/>\r\n      <use x=\"80.322266\" xlink:href=\"#DejaVuSans-61\"/>\r\n      <use x=\"141.601562\" xlink:href=\"#DejaVuSans-69\"/>\r\n      <use x=\"169.384766\" xlink:href=\"#DejaVuSans-6e\"/>\r\n      <use x=\"232.763672\" xlink:href=\"#DejaVuSans-20\"/>\r\n      <use x=\"264.550781\" xlink:href=\"#DejaVuSans-6c\"/>\r\n      <use x=\"292.333984\" xlink:href=\"#DejaVuSans-6f\"/>\r\n      <use x=\"353.515625\" xlink:href=\"#DejaVuSans-73\"/>\r\n      <use x=\"405.615234\" xlink:href=\"#DejaVuSans-73\"/>\r\n     </g>\r\n    </g>\r\n    <g id=\"line2d_30\">\r\n     <path d=\"M 142.634375 77.909375 \r\nL 162.634375 77.909375 \r\n\" style=\"fill:none;stroke:#bf00bf;stroke-dasharray:5.55,2.4;stroke-dashoffset:0;stroke-width:1.5;\"/>\r\n    </g>\r\n    <g id=\"line2d_31\"/>\r\n    <g id=\"text_11\">\r\n     <!-- train acc -->\r\n     <g transform=\"translate(170.634375 81.409375)scale(0.1 -0.1)\">\r\n      <use xlink:href=\"#DejaVuSans-74\"/>\r\n      <use x=\"39.208984\" xlink:href=\"#DejaVuSans-72\"/>\r\n      <use x=\"80.322266\" xlink:href=\"#DejaVuSans-61\"/>\r\n      <use x=\"141.601562\" xlink:href=\"#DejaVuSans-69\"/>\r\n      <use x=\"169.384766\" xlink:href=\"#DejaVuSans-6e\"/>\r\n      <use x=\"232.763672\" xlink:href=\"#DejaVuSans-20\"/>\r\n      <use x=\"264.550781\" xlink:href=\"#DejaVuSans-61\"/>\r\n      <use x=\"325.830078\" xlink:href=\"#DejaVuSans-63\"/>\r\n      <use x=\"380.810547\" xlink:href=\"#DejaVuSans-63\"/>\r\n     </g>\r\n    </g>\r\n    <g id=\"line2d_32\">\r\n     <path d=\"M 142.634375 92.5875 \r\nL 162.634375 92.5875 \r\n\" style=\"fill:none;stroke:#008000;stroke-dasharray:9.6,2.4,1.5,2.4;stroke-dashoffset:0;stroke-width:1.5;\"/>\r\n    </g>\r\n    <g id=\"line2d_33\"/>\r\n    <g id=\"text_12\">\r\n     <!-- test acc -->\r\n     <g transform=\"translate(170.634375 96.0875)scale(0.1 -0.1)\">\r\n      <use xlink:href=\"#DejaVuSans-74\"/>\r\n      <use x=\"39.208984\" xlink:href=\"#DejaVuSans-65\"/>\r\n      <use x=\"100.732422\" xlink:href=\"#DejaVuSans-73\"/>\r\n      <use x=\"152.832031\" xlink:href=\"#DejaVuSans-74\"/>\r\n      <use x=\"192.041016\" xlink:href=\"#DejaVuSans-20\"/>\r\n      <use x=\"223.828125\" xlink:href=\"#DejaVuSans-61\"/>\r\n      <use x=\"285.107422\" xlink:href=\"#DejaVuSans-63\"/>\r\n      <use x=\"340.087891\" xlink:href=\"#DejaVuSans-63\"/>\r\n     </g>\r\n    </g>\r\n   </g>\r\n  </g>\r\n </g>\r\n <defs>\r\n  <clipPath id=\"p89fe175174\">\r\n   <rect height=\"135.9\" width=\"195.3\" x=\"30.103125\" y=\"10.7\"/>\r\n  </clipPath>\r\n </defs>\r\n</svg>\r\n"
     },
     "metadata": {
      "needs_background": "light"
     }
    }
   ],
   "metadata": {}
  },
  {
   "cell_type": "markdown",
   "source": [
    "## 对图像进行分类预测"
   ],
   "metadata": {}
  },
  {
   "cell_type": "code",
   "execution_count": 43,
   "source": [
    "def show_image(imgs, rows, cols, titles=None, scale=2):\r\n",
    "    figsize = (cols*scale, rows*scale)\r\n",
    "    _, axes = plt.subplots(rows, cols, figsize=figsize)\r\n",
    "    axes = axes.flatten()\r\n",
    "    for i, (ax, img) in enumerate(zip(axes, imgs)):\r\n",
    "        if torch.is_tensor(img):\r\n",
    "            ax.imshow(img.numpy())\r\n",
    "        else:\r\n",
    "            ax.imshow(img)\r\n",
    "        ax.axes.get_xaxis().set_visible(False)\r\n",
    "        ax.axes.get_yaxis().set_visible(False)\r\n",
    "        if titles:\r\n",
    "            ax.set_title(titles[i])\r\n",
    "    return axes\r\n",
    "\r\n",
    "\r\n",
    "def get_labels(labels):\r\n",
    "    text_labels = ['T-shirt/top', 'Trouser', 'Pullover', 'Dress',\r\n",
    "                   'Coat', 'Sandal', 'Shirt', 'Sneaker', 'Bag', 'Ankle boot']\r\n",
    "    return [text_labels[int(i)] for i in labels]\r\n",
    "\r\n",
    "def predict(net, test_iter, n=6):\r\n",
    "    for X, y in test_iter:\r\n",
    "        break\r\n",
    "    trues = get_labels(y)\r\n",
    "    preds = get_labels(net(X).argmax(axis=1))\r\n",
    "    titles = [true + '\\n' + pred for true, pred in zip(trues, preds)]\r\n",
    "    show_image(\r\n",
    "        X[0:n].reshape((n, 28, 28)), 1, n,\r\n",
    "        titles=titles[0:n]\r\n",
    "    )\r\n",
    "\r\n",
    "\r\n",
    "predict(net, test_iter)"
   ],
   "outputs": [
    {
     "output_type": "display_data",
     "data": {
      "text/plain": [
       "<Figure size 864x144 with 6 Axes>"
      ],
      "image/svg+xml": "<?xml version=\"1.0\" encoding=\"utf-8\" standalone=\"no\"?>\r\n<!DOCTYPE svg PUBLIC \"-//W3C//DTD SVG 1.1//EN\"\r\n  \"http://www.w3.org/Graphics/SVG/1.1/DTD/svg11.dtd\">\r\n<svg height=\"142.112643pt\" version=\"1.1\" viewBox=\"0 0 687.5 142.112643\" width=\"687.5pt\" xmlns=\"http://www.w3.org/2000/svg\" xmlns:xlink=\"http://www.w3.org/1999/xlink\">\r\n <metadata>\r\n  <rdf:RDF xmlns:cc=\"http://creativecommons.org/ns#\" xmlns:dc=\"http://purl.org/dc/elements/1.1/\" xmlns:rdf=\"http://www.w3.org/1999/02/22-rdf-syntax-ns#\">\r\n   <cc:Work>\r\n    <dc:type rdf:resource=\"http://purl.org/dc/dcmitype/StillImage\"/>\r\n    <dc:date>2021-08-23T17:48:42.423601</dc:date>\r\n    <dc:format>image/svg+xml</dc:format>\r\n    <dc:creator>\r\n     <cc:Agent>\r\n      <dc:title>Matplotlib v3.4.2, https://matplotlib.org/</dc:title>\r\n     </cc:Agent>\r\n    </dc:creator>\r\n   </cc:Work>\r\n  </rdf:RDF>\r\n </metadata>\r\n <defs>\r\n  <style type=\"text/css\">*{stroke-linecap:butt;stroke-linejoin:round;}</style>\r\n </defs>\r\n <g id=\"figure_1\">\r\n  <g id=\"patch_1\">\r\n   <path d=\"M 0 142.112643 \r\nL 687.5 142.112643 \r\nL 687.5 0 \r\nL 0 0 \r\nz\r\n\" style=\"fill:none;\"/>\r\n  </g>\r\n  <g id=\"axes_1\">\r\n   <g id=\"patch_2\">\r\n    <path d=\"M 10.7 131.412643 \r\nL 106.357143 131.412643 \r\nL 106.357143 35.7555 \r\nL 10.7 35.7555 \r\nz\r\n\" style=\"fill:#ffffff;\"/>\r\n   </g>\r\n   <g clip-path=\"url(#pba7a9488e7)\">\r\n    <image height=\"96\" id=\"image26029c3e6e\" transform=\"scale(1 -1)translate(0 -96)\" width=\"96\" x=\"10.7\" xlink:href=\"data:image/png;base64,\r\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\" y=\"-35.412643\"/>\r\n   </g>\r\n   <g id=\"patch_3\">\r\n    <path d=\"M 10.7 131.412643 \r\nL 10.7 35.7555 \r\n\" style=\"fill:none;stroke:#000000;stroke-linecap:square;stroke-linejoin:miter;stroke-width:0.8;\"/>\r\n   </g>\r\n   <g id=\"patch_4\">\r\n    <path d=\"M 106.357143 131.412643 \r\nL 106.357143 35.7555 \r\n\" style=\"fill:none;stroke:#000000;stroke-linecap:square;stroke-linejoin:miter;stroke-width:0.8;\"/>\r\n   </g>\r\n   <g id=\"patch_5\">\r\n    <path d=\"M 10.7 131.412643 \r\nL 106.357143 131.412643 \r\n\" style=\"fill:none;stroke:#000000;stroke-linecap:square;stroke-linejoin:miter;stroke-width:0.8;\"/>\r\n   </g>\r\n   <g id=\"patch_6\">\r\n    <path d=\"M 10.7 35.7555 \r\nL 106.357143 35.7555 \r\n\" style=\"fill:none;stroke:#000000;stroke-linecap:square;stroke-linejoin:miter;stroke-width:0.8;\"/>\r\n   </g>\r\n   <g id=\"text_1\">\r\n    <!-- Ankle boot -->\r\n    <g transform=\"translate(26.377946 16.318125)scale(0.12 -0.12)\">\r\n     <defs>\r\n      <path d=\"M 2188 4044 \r\nL 1331 1722 \r\nL 3047 1722 \r\nL 2188 4044 \r\nz\r\nM 1831 4666 \r\nL 2547 4666 \r\nL 4325 0 \r\nL 3669 0 \r\nL 3244 1197 \r\nL 1141 1197 \r\nL 716 0 \r\nL 50 0 \r\nL 1831 4666 \r\nz\r\n\" id=\"DejaVuSans-41\" transform=\"scale(0.015625)\"/>\r\n      <path d=\"M 3513 2113 \r\nL 3513 0 \r\nL 2938 0 \r\nL 2938 2094 \r\nQ 2938 2591 2744 2837 \r\nQ 2550 3084 2163 3084 \r\nQ 1697 3084 1428 2787 \r\nQ 1159 2491 1159 1978 \r\nL 1159 0 \r\nL 581 0 \r\nL 581 3500 \r\nL 1159 3500 \r\nL 1159 2956 \r\nQ 1366 3272 1645 3428 \r\nQ 1925 3584 2291 3584 \r\nQ 2894 3584 3203 3211 \r\nQ 3513 2838 3513 2113 \r\nz\r\n\" id=\"DejaVuSans-6e\" transform=\"scale(0.015625)\"/>\r\n      <path d=\"M 581 4863 \r\nL 1159 4863 \r\nL 1159 1991 \r\nL 2875 3500 \r\nL 3609 3500 \r\nL 1753 1863 \r\nL 3688 0 \r\nL 2938 0 \r\nL 1159 1709 \r\nL 1159 0 \r\nL 581 0 \r\nL 581 4863 \r\nz\r\n\" id=\"DejaVuSans-6b\" transform=\"scale(0.015625)\"/>\r\n      <path d=\"M 603 4863 \r\nL 1178 4863 \r\nL 1178 0 \r\nL 603 0 \r\nL 603 4863 \r\nz\r\n\" id=\"DejaVuSans-6c\" transform=\"scale(0.015625)\"/>\r\n      <path d=\"M 3597 1894 \r\nL 3597 1613 \r\nL 953 1613 \r\nQ 991 1019 1311 708 \r\nQ 1631 397 2203 397 \r\nQ 2534 397 2845 478 \r\nQ 3156 559 3463 722 \r\nL 3463 178 \r\nQ 3153 47 2828 -22 \r\nQ 2503 -91 2169 -91 \r\nQ 1331 -91 842 396 \r\nQ 353 884 353 1716 \r\nQ 353 2575 817 3079 \r\nQ 1281 3584 2069 3584 \r\nQ 2775 3584 3186 3129 \r\nQ 3597 2675 3597 1894 \r\nz\r\nM 3022 2063 \r\nQ 3016 2534 2758 2815 \r\nQ 2500 3097 2075 3097 \r\nQ 1594 3097 1305 2825 \r\nQ 1016 2553 972 2059 \r\nL 3022 2063 \r\nz\r\n\" id=\"DejaVuSans-65\" transform=\"scale(0.015625)\"/>\r\n      <path id=\"DejaVuSans-20\" transform=\"scale(0.015625)\"/>\r\n      <path d=\"M 3116 1747 \r\nQ 3116 2381 2855 2742 \r\nQ 2594 3103 2138 3103 \r\nQ 1681 3103 1420 2742 \r\nQ 1159 2381 1159 1747 \r\nQ 1159 1113 1420 752 \r\nQ 1681 391 2138 391 \r\nQ 2594 391 2855 752 \r\nQ 3116 1113 3116 1747 \r\nz\r\nM 1159 2969 \r\nQ 1341 3281 1617 3432 \r\nQ 1894 3584 2278 3584 \r\nQ 2916 3584 3314 3078 \r\nQ 3713 2572 3713 1747 \r\nQ 3713 922 3314 415 \r\nQ 2916 -91 2278 -91 \r\nQ 1894 -91 1617 61 \r\nQ 1341 213 1159 525 \r\nL 1159 0 \r\nL 581 0 \r\nL 581 4863 \r\nL 1159 4863 \r\nL 1159 2969 \r\nz\r\n\" id=\"DejaVuSans-62\" transform=\"scale(0.015625)\"/>\r\n      <path d=\"M 1959 3097 \r\nQ 1497 3097 1228 2736 \r\nQ 959 2375 959 1747 \r\nQ 959 1119 1226 758 \r\nQ 1494 397 1959 397 \r\nQ 2419 397 2687 759 \r\nQ 2956 1122 2956 1747 \r\nQ 2956 2369 2687 2733 \r\nQ 2419 3097 1959 3097 \r\nz\r\nM 1959 3584 \r\nQ 2709 3584 3137 3096 \r\nQ 3566 2609 3566 1747 \r\nQ 3566 888 3137 398 \r\nQ 2709 -91 1959 -91 \r\nQ 1206 -91 779 398 \r\nQ 353 888 353 1747 \r\nQ 353 2609 779 3096 \r\nQ 1206 3584 1959 3584 \r\nz\r\n\" id=\"DejaVuSans-6f\" transform=\"scale(0.015625)\"/>\r\n      <path d=\"M 1172 4494 \r\nL 1172 3500 \r\nL 2356 3500 \r\nL 2356 3053 \r\nL 1172 3053 \r\nL 1172 1153 \r\nQ 1172 725 1289 603 \r\nQ 1406 481 1766 481 \r\nL 2356 481 \r\nL 2356 0 \r\nL 1766 0 \r\nQ 1100 0 847 248 \r\nQ 594 497 594 1153 \r\nL 594 3053 \r\nL 172 3053 \r\nL 172 3500 \r\nL 594 3500 \r\nL 594 4494 \r\nL 1172 4494 \r\nz\r\n\" id=\"DejaVuSans-74\" transform=\"scale(0.015625)\"/>\r\n     </defs>\r\n     <use xlink:href=\"#DejaVuSans-41\"/>\r\n     <use x=\"68.408203\" xlink:href=\"#DejaVuSans-6e\"/>\r\n     <use x=\"131.787109\" xlink:href=\"#DejaVuSans-6b\"/>\r\n     <use x=\"189.697266\" xlink:href=\"#DejaVuSans-6c\"/>\r\n     <use x=\"217.480469\" xlink:href=\"#DejaVuSans-65\"/>\r\n     <use x=\"279.003906\" xlink:href=\"#DejaVuSans-20\"/>\r\n     <use x=\"310.791016\" xlink:href=\"#DejaVuSans-62\"/>\r\n     <use x=\"374.267578\" xlink:href=\"#DejaVuSans-6f\"/>\r\n     <use x=\"435.449219\" xlink:href=\"#DejaVuSans-6f\"/>\r\n     <use x=\"496.630859\" xlink:href=\"#DejaVuSans-74\"/>\r\n    </g>\r\n    <!-- Ankle boot -->\r\n    <g transform=\"translate(26.377946 29.7555)scale(0.12 -0.12)\">\r\n     <use xlink:href=\"#DejaVuSans-41\"/>\r\n     <use x=\"68.408203\" xlink:href=\"#DejaVuSans-6e\"/>\r\n     <use x=\"131.787109\" xlink:href=\"#DejaVuSans-6b\"/>\r\n     <use x=\"189.697266\" xlink:href=\"#DejaVuSans-6c\"/>\r\n     <use x=\"217.480469\" xlink:href=\"#DejaVuSans-65\"/>\r\n     <use x=\"279.003906\" xlink:href=\"#DejaVuSans-20\"/>\r\n     <use x=\"310.791016\" xlink:href=\"#DejaVuSans-62\"/>\r\n     <use x=\"374.267578\" xlink:href=\"#DejaVuSans-6f\"/>\r\n     <use x=\"435.449219\" xlink:href=\"#DejaVuSans-6f\"/>\r\n     <use x=\"496.630859\" xlink:href=\"#DejaVuSans-74\"/>\r\n    </g>\r\n   </g>\r\n  </g>\r\n  <g id=\"axes_2\">\r\n   <g id=\"patch_7\">\r\n    <path d=\"M 125.488571 131.412643 \r\nL 221.145714 131.412643 \r\nL 221.145714 35.7555 \r\nL 125.488571 35.7555 \r\nz\r\n\" style=\"fill:#ffffff;\"/>\r\n   </g>\r\n   <g clip-path=\"url(#p08b886edf6)\">\r\n    <image height=\"96\" id=\"imageacc9039a70\" transform=\"scale(1 -1)translate(0 -96)\" width=\"96\" x=\"125.488571\" xlink:href=\"data:image/png;base64,\r\niVBORw0KGgoAAAANSUhEUgAAAGAAAABgCAYAAADimHc4AAAI00lEQVR4nO1da2xURRSee+9u99XSUtDyrjaAJAgSedR3RHwAGnzEkEpMxNcvXz+MmJj4w8RE/ePjjy9MVBJjNEQSjQg+oT7QiAYFigWr0gJtacEtW7a7e/fe6w+TOeeMzLIM6KTmfL++mzM797bnzjlnzpyZ61zt3BoJAwRXXij5pS98R2RHSrWS/3ZNEn6THSLtnHiN5FHZpzdwXJPHMoLjOuQ6KpdBFotJnv9wKmk3pTYrefdzM4kss57+T3T47/5KxgnBCrCM2MmbnBi5qQnJnzhrN5ENhSOSr6pfCQLFBEV+SX+DKDB9tFNGFFYQzpsl6Qez1xJRvZuSfMaiWUTWsr66e/MIsAxWgGWwAizD2AcMLIDotbc8TGQFHNi6o1vHTglC0qMB9Uu5EP7ucq2Zzxrd/53/AVgBlmFsghYt2Ct5LqIzyUmeB7K5TZLf9dE20m71mMOSv5UbR2RxpyyqgSf0E3nPgfiyFHlElg8hjMbPIYQQM7feIfn0JwuSnxuvJe12FIuSt17wK5H9WemhEXgEWAYrwDJYAZZh7AOOFDKSJx1qh2tdyIC6JZAtTO4n7bp8CN3mJUZEtQgE+JwQ+R/X0fuDpEPDxALyCUFUQ2STx2clL04Yr+0zgfrccXAykTWLo9rfYfAIsAxWgGUYm6BUDBZQmryEtl3xwaOoHU07dvppyeOOfiYZRvr3BJujuKB94N8VHE8r6ypT83d/8xeSr7lhlfbeSRTmln2zfyWPAMtgBVgGK8AyjH1AbQym4UGkhH8oM3EkC9P3/oDqG6cRagT1DyX0bqj+Af8O+wA11PRRH7jd3zK4nhnPEFnbT8skr+CahIe6DEY8fcMK4BFgGawAyzA2QQkPspWDIV1cn+bCzNLdB6FmtpWGq2d5EP4NBCkiS1aZDcWmRTUzlVCI4qQXjGxPg+RNswckL0a0dom8vWWzd5lHgGWwAizDfCbswXAsRPqh7/og+3HkXCK7s75T8p5ynMiqNUGVFmQw4g6NsiqZoOb34frip/dBKyXaw3FPPMtR0KgEK8AyWAGWYewDGuPHJVcXZDBwIvOdnvlE9sBYWKDxI+NHQX3o36eEYueTjq9pKUR61yHJr6gDPzWshKFpF+y+l68+BMbgEWAZrADLMB73IwGEcUlHP/xK02G2e7B3LBXOBXo8VGfJOclPZYaLgX/nK+9axsGzdxpCllqglmlpGpKOe0pK/RP67yGLfErgEWAZrADLYAVYhrEPKIbgAyppcWELhJo/bZ6lbecpqQIf1e24iszEJxSU2tBGD2o+/ShJZPmJJy4yKEbqwj6EtqkBo82mPAJsgxVgGcYm6LdhKCcf66a07SYns5L3/KLfjph2iuQamxn1LdGtCavAtT+V1pX3+HSGq0vu/nNdGfpIDVSXvVXBI8AyWAGWwQqwDGMfcGCoXnJPOVgD75pcWPu75FvGtmr7G+MWtDJ11ataH4DD14KSbXUFpCKyIQ1DDy+s7jnO9qCeyAk5DB2VYAVYhrEJGh7Sh577yyBbloHFjXVtdIdMNzJV2ZDuksSL5g1unsjSLoSs+VBfGl+HzFpWaXcULfr3leuJbPW1W7R96pDso+nQSud/YPAIsAxWgGUYmyB3sObkjQQ9U+et6fQQnU4fZHjh42/A9V6fDm9cxtgSP6a99x9lqMy+LEn7SKPyyfkJeo5RkIFt1t1lMH9xR1/7E+3ep5VVAo8Ay2AFWAYrwDLMa0P79brDmUcfTRCPK4ezTYrBgn3Lew8TWRSDH957yVYie2w81Oo80ne55OckB0m7+xp6JN8yQme7z8y5CJ5rQxORtc/ZIHmlulfyvGXOho5KsAIsw9gEJSusgeJS8CIyO3llOOPNcTPu1580276AZsfWrVkkefPKnZL/LOhs2uuAe7/0yo1ENqURZuWHdlETJOYAxWvJcWV+OxzqE4jVgkeAZbACLIMVYBnGPqCuR3/scEhsPfgKfJacEEK0YxPqUtnmAz9Ifn3rFCJrXnlA8js7wZa31dGT2vCZbu/uoc/72jfvSP7U4cVEhrO0HqobbXCpD9icnyBOFzwCLIMVYBnmYWjv8MkbCSFyIcwQJ8bosY8fH0PxXqg/lKF/Kf1wwri1YILeaFsu+brjSlgYQyFkx3YiuufK2yWPhmhGddpOeE5sxtLK6/plDn+0gWfCoxKsAMtgBViGsQ+IuvZrZTgVkQ1BxxOVdtsGYed8THRr+9v+xEvk+rq18yTfu7oO7psbQ9pN2ww+oXALrUlK9YLMrafnBVWLz7rBB0wSHUZ98AiwDFaAZRiboLCgzwRiE6SeA4SRuA0WZCp9/uDnEr1X0zZkai7+Vvu7FR1HJMeLM0IIsXzOVZLve/Q8bR/46LSkUoLp76xXm58yeARYBivAMk7/gAYhxJ8BLR2k1ct6HXc+C0m2lldpwq0YfS95X7mOyNY1t0v++36YkX+Sp58TvDTVJfnXBVqauHHn55J/nP+SyPDHJGbU9EnuK982m/SV/ryJasEjwDJYAZbBCrCMM+IDOn39cZR4w3V7gdrQriWvw8US2udu9P2upEtt7aY83G8qqi26qZbWZ+4oNkheo+yS3JSH8vdGj2Z2x3lQR5oNIYzuD2gNaaqjV3KzXCiPAOtgBViGY/pFbYyDj15Crnc99KLkeN23ENKjKUOkf1epucGb9ugRkxTk5FzlyLKMq5a8499BW3WXDb7fsjSsM6/45WbayZID4nTBI8AyWAGWwQqwjDPiA1TsfRlqNzcufV7ylji15f0B2Oi+gNrhHNo8PUEJE+tdCClr0Hl1WWVr4iGUwlC/TdmIfMwEZedRwoHo/KGDUDPU3Wp4MFwF8AiwDFaAZfwrJgjDzcB6a9fjc4ns7us/lfz8FF0waU3AYsqhgNqIuTV0t4sOgwGYDPX7Nbjs/MHONiIL3zxb8jFv6xd8zgR4BFgGK8AyWAGW8a/7gGrhjWsk18cWz5A8s16/fakSgsUXSh47RtMS0Q+7jfo80+ARYBmsAMv4CxCplKmNZbZmAAAAAElFTkSuQmCC\" y=\"-35.412643\"/>\r\n   </g>\r\n   <g id=\"patch_8\">\r\n    <path d=\"M 125.488571 131.412643 \r\nL 125.488571 35.7555 \r\n\" style=\"fill:none;stroke:#000000;stroke-linecap:square;stroke-linejoin:miter;stroke-width:0.8;\"/>\r\n   </g>\r\n   <g id=\"patch_9\">\r\n    <path d=\"M 221.145714 131.412643 \r\nL 221.145714 35.7555 \r\n\" style=\"fill:none;stroke:#000000;stroke-linecap:square;stroke-linejoin:miter;stroke-width:0.8;\"/>\r\n   </g>\r\n   <g id=\"patch_10\">\r\n    <path d=\"M 125.488571 131.412643 \r\nL 221.145714 131.412643 \r\n\" style=\"fill:none;stroke:#000000;stroke-linecap:square;stroke-linejoin:miter;stroke-width:0.8;\"/>\r\n   </g>\r\n   <g id=\"patch_11\">\r\n    <path d=\"M 125.488571 35.7555 \r\nL 221.145714 35.7555 \r\n\" style=\"fill:none;stroke:#000000;stroke-linecap:square;stroke-linejoin:miter;stroke-width:0.8;\"/>\r\n   </g>\r\n   <g id=\"text_2\">\r\n    <!-- Pullover -->\r\n    <g transform=\"translate(149.287143 16.318125)scale(0.12 -0.12)\">\r\n     <defs>\r\n      <path d=\"M 1259 4147 \r\nL 1259 2394 \r\nL 2053 2394 \r\nQ 2494 2394 2734 2622 \r\nQ 2975 2850 2975 3272 \r\nQ 2975 3691 2734 3919 \r\nQ 2494 4147 2053 4147 \r\nL 1259 4147 \r\nz\r\nM 628 4666 \r\nL 2053 4666 \r\nQ 2838 4666 3239 4311 \r\nQ 3641 3956 3641 3272 \r\nQ 3641 2581 3239 2228 \r\nQ 2838 1875 2053 1875 \r\nL 1259 1875 \r\nL 1259 0 \r\nL 628 0 \r\nL 628 4666 \r\nz\r\n\" id=\"DejaVuSans-50\" transform=\"scale(0.015625)\"/>\r\n      <path d=\"M 544 1381 \r\nL 544 3500 \r\nL 1119 3500 \r\nL 1119 1403 \r\nQ 1119 906 1312 657 \r\nQ 1506 409 1894 409 \r\nQ 2359 409 2629 706 \r\nQ 2900 1003 2900 1516 \r\nL 2900 3500 \r\nL 3475 3500 \r\nL 3475 0 \r\nL 2900 0 \r\nL 2900 538 \r\nQ 2691 219 2414 64 \r\nQ 2138 -91 1772 -91 \r\nQ 1169 -91 856 284 \r\nQ 544 659 544 1381 \r\nz\r\nM 1991 3584 \r\nL 1991 3584 \r\nz\r\n\" id=\"DejaVuSans-75\" transform=\"scale(0.015625)\"/>\r\n      <path d=\"M 191 3500 \r\nL 800 3500 \r\nL 1894 563 \r\nL 2988 3500 \r\nL 3597 3500 \r\nL 2284 0 \r\nL 1503 0 \r\nL 191 3500 \r\nz\r\n\" id=\"DejaVuSans-76\" transform=\"scale(0.015625)\"/>\r\n      <path d=\"M 2631 2963 \r\nQ 2534 3019 2420 3045 \r\nQ 2306 3072 2169 3072 \r\nQ 1681 3072 1420 2755 \r\nQ 1159 2438 1159 1844 \r\nL 1159 0 \r\nL 581 0 \r\nL 581 3500 \r\nL 1159 3500 \r\nL 1159 2956 \r\nQ 1341 3275 1631 3429 \r\nQ 1922 3584 2338 3584 \r\nQ 2397 3584 2469 3576 \r\nQ 2541 3569 2628 3553 \r\nL 2631 2963 \r\nz\r\n\" id=\"DejaVuSans-72\" transform=\"scale(0.015625)\"/>\r\n     </defs>\r\n     <use xlink:href=\"#DejaVuSans-50\"/>\r\n     <use x=\"58.552734\" xlink:href=\"#DejaVuSans-75\"/>\r\n     <use x=\"121.931641\" xlink:href=\"#DejaVuSans-6c\"/>\r\n     <use x=\"149.714844\" xlink:href=\"#DejaVuSans-6c\"/>\r\n     <use x=\"177.498047\" xlink:href=\"#DejaVuSans-6f\"/>\r\n     <use x=\"238.679688\" xlink:href=\"#DejaVuSans-76\"/>\r\n     <use x=\"297.859375\" xlink:href=\"#DejaVuSans-65\"/>\r\n     <use x=\"359.382812\" xlink:href=\"#DejaVuSans-72\"/>\r\n    </g>\r\n    <!-- Pullover -->\r\n    <g transform=\"translate(149.287143 29.7555)scale(0.12 -0.12)\">\r\n     <use xlink:href=\"#DejaVuSans-50\"/>\r\n     <use x=\"58.552734\" xlink:href=\"#DejaVuSans-75\"/>\r\n     <use x=\"121.931641\" xlink:href=\"#DejaVuSans-6c\"/>\r\n     <use x=\"149.714844\" xlink:href=\"#DejaVuSans-6c\"/>\r\n     <use x=\"177.498047\" xlink:href=\"#DejaVuSans-6f\"/>\r\n     <use x=\"238.679688\" xlink:href=\"#DejaVuSans-76\"/>\r\n     <use x=\"297.859375\" xlink:href=\"#DejaVuSans-65\"/>\r\n     <use x=\"359.382812\" xlink:href=\"#DejaVuSans-72\"/>\r\n    </g>\r\n   </g>\r\n  </g>\r\n  <g id=\"axes_3\">\r\n   <g id=\"patch_12\">\r\n    <path d=\"M 240.277143 131.412643 \r\nL 335.934286 131.412643 \r\nL 335.934286 35.7555 \r\nL 240.277143 35.7555 \r\nz\r\n\" style=\"fill:#ffffff;\"/>\r\n   </g>\r\n   <g clip-path=\"url(#p8b9db3f0d1)\">\r\n    <image height=\"96\" id=\"imageb0aaec35f9\" transform=\"scale(1 -1)translate(0 -96)\" width=\"96\" x=\"240.277143\" xlink:href=\"data:image/png;base64,\r\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\" y=\"-35.412643\"/>\r\n   </g>\r\n   <g id=\"patch_13\">\r\n    <path d=\"M 240.277143 131.412643 \r\nL 240.277143 35.7555 \r\n\" style=\"fill:none;stroke:#000000;stroke-linecap:square;stroke-linejoin:miter;stroke-width:0.8;\"/>\r\n   </g>\r\n   <g id=\"patch_14\">\r\n    <path d=\"M 335.934286 131.412643 \r\nL 335.934286 35.7555 \r\n\" style=\"fill:none;stroke:#000000;stroke-linecap:square;stroke-linejoin:miter;stroke-width:0.8;\"/>\r\n   </g>\r\n   <g id=\"patch_15\">\r\n    <path d=\"M 240.277143 131.412643 \r\nL 335.934286 131.412643 \r\n\" style=\"fill:none;stroke:#000000;stroke-linecap:square;stroke-linejoin:miter;stroke-width:0.8;\"/>\r\n   </g>\r\n   <g id=\"patch_16\">\r\n    <path d=\"M 240.277143 35.7555 \r\nL 335.934286 35.7555 \r\n\" style=\"fill:none;stroke:#000000;stroke-linecap:square;stroke-linejoin:miter;stroke-width:0.8;\"/>\r\n   </g>\r\n   <g id=\"text_3\">\r\n    <!-- Trouser -->\r\n    <g transform=\"translate(266.236652 16.318125)scale(0.12 -0.12)\">\r\n     <defs>\r\n      <path d=\"M -19 4666 \r\nL 3928 4666 \r\nL 3928 4134 \r\nL 2272 4134 \r\nL 2272 0 \r\nL 1638 0 \r\nL 1638 4134 \r\nL -19 4134 \r\nL -19 4666 \r\nz\r\n\" id=\"DejaVuSans-54\" transform=\"scale(0.015625)\"/>\r\n      <path d=\"M 2834 3397 \r\nL 2834 2853 \r\nQ 2591 2978 2328 3040 \r\nQ 2066 3103 1784 3103 \r\nQ 1356 3103 1142 2972 \r\nQ 928 2841 928 2578 \r\nQ 928 2378 1081 2264 \r\nQ 1234 2150 1697 2047 \r\nL 1894 2003 \r\nQ 2506 1872 2764 1633 \r\nQ 3022 1394 3022 966 \r\nQ 3022 478 2636 193 \r\nQ 2250 -91 1575 -91 \r\nQ 1294 -91 989 -36 \r\nQ 684 19 347 128 \r\nL 347 722 \r\nQ 666 556 975 473 \r\nQ 1284 391 1588 391 \r\nQ 1994 391 2212 530 \r\nQ 2431 669 2431 922 \r\nQ 2431 1156 2273 1281 \r\nQ 2116 1406 1581 1522 \r\nL 1381 1569 \r\nQ 847 1681 609 1914 \r\nQ 372 2147 372 2553 \r\nQ 372 3047 722 3315 \r\nQ 1072 3584 1716 3584 \r\nQ 2034 3584 2315 3537 \r\nQ 2597 3491 2834 3397 \r\nz\r\n\" id=\"DejaVuSans-73\" transform=\"scale(0.015625)\"/>\r\n     </defs>\r\n     <use xlink:href=\"#DejaVuSans-54\"/>\r\n     <use x=\"46.333984\" xlink:href=\"#DejaVuSans-72\"/>\r\n     <use x=\"85.197266\" xlink:href=\"#DejaVuSans-6f\"/>\r\n     <use x=\"146.378906\" xlink:href=\"#DejaVuSans-75\"/>\r\n     <use x=\"209.757812\" xlink:href=\"#DejaVuSans-73\"/>\r\n     <use x=\"261.857422\" xlink:href=\"#DejaVuSans-65\"/>\r\n     <use x=\"323.380859\" xlink:href=\"#DejaVuSans-72\"/>\r\n    </g>\r\n    <!-- Trouser -->\r\n    <g transform=\"translate(266.236652 29.7555)scale(0.12 -0.12)\">\r\n     <use xlink:href=\"#DejaVuSans-54\"/>\r\n     <use x=\"46.333984\" xlink:href=\"#DejaVuSans-72\"/>\r\n     <use x=\"85.197266\" xlink:href=\"#DejaVuSans-6f\"/>\r\n     <use x=\"146.378906\" xlink:href=\"#DejaVuSans-75\"/>\r\n     <use x=\"209.757812\" xlink:href=\"#DejaVuSans-73\"/>\r\n     <use x=\"261.857422\" xlink:href=\"#DejaVuSans-65\"/>\r\n     <use x=\"323.380859\" xlink:href=\"#DejaVuSans-72\"/>\r\n    </g>\r\n   </g>\r\n  </g>\r\n  <g id=\"axes_4\">\r\n   <g id=\"patch_17\">\r\n    <path d=\"M 355.065714 131.412643 \r\nL 450.722857 131.412643 \r\nL 450.722857 35.7555 \r\nL 355.065714 35.7555 \r\nz\r\n\" style=\"fill:#ffffff;\"/>\r\n   </g>\r\n   <g clip-path=\"url(#p66801ac582)\">\r\n    <image height=\"96\" id=\"imagefb5baf64b5\" transform=\"scale(1 -1)translate(0 -96)\" width=\"96\" x=\"355.065714\" xlink:href=\"data:image/png;base64,\r\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\" y=\"-35.412643\"/>\r\n   </g>\r\n   <g id=\"patch_18\">\r\n    <path d=\"M 355.065714 131.412643 \r\nL 355.065714 35.7555 \r\n\" style=\"fill:none;stroke:#000000;stroke-linecap:square;stroke-linejoin:miter;stroke-width:0.8;\"/>\r\n   </g>\r\n   <g id=\"patch_19\">\r\n    <path d=\"M 450.722857 131.412643 \r\nL 450.722857 35.7555 \r\n\" style=\"fill:none;stroke:#000000;stroke-linecap:square;stroke-linejoin:miter;stroke-width:0.8;\"/>\r\n   </g>\r\n   <g id=\"patch_20\">\r\n    <path d=\"M 355.065714 131.412643 \r\nL 450.722857 131.412643 \r\n\" style=\"fill:none;stroke:#000000;stroke-linecap:square;stroke-linejoin:miter;stroke-width:0.8;\"/>\r\n   </g>\r\n   <g id=\"patch_21\">\r\n    <path d=\"M 355.065714 35.7555 \r\nL 450.722857 35.7555 \r\n\" style=\"fill:none;stroke:#000000;stroke-linecap:square;stroke-linejoin:miter;stroke-width:0.8;\"/>\r\n   </g>\r\n   <g id=\"text_4\">\r\n    <!-- Trouser -->\r\n    <g transform=\"translate(381.025223 16.318125)scale(0.12 -0.12)\">\r\n     <use xlink:href=\"#DejaVuSans-54\"/>\r\n     <use x=\"46.333984\" xlink:href=\"#DejaVuSans-72\"/>\r\n     <use x=\"85.197266\" xlink:href=\"#DejaVuSans-6f\"/>\r\n     <use x=\"146.378906\" xlink:href=\"#DejaVuSans-75\"/>\r\n     <use x=\"209.757812\" xlink:href=\"#DejaVuSans-73\"/>\r\n     <use x=\"261.857422\" xlink:href=\"#DejaVuSans-65\"/>\r\n     <use x=\"323.380859\" xlink:href=\"#DejaVuSans-72\"/>\r\n    </g>\r\n    <!-- Trouser -->\r\n    <g transform=\"translate(381.025223 29.7555)scale(0.12 -0.12)\">\r\n     <use xlink:href=\"#DejaVuSans-54\"/>\r\n     <use x=\"46.333984\" xlink:href=\"#DejaVuSans-72\"/>\r\n     <use x=\"85.197266\" xlink:href=\"#DejaVuSans-6f\"/>\r\n     <use x=\"146.378906\" xlink:href=\"#DejaVuSans-75\"/>\r\n     <use x=\"209.757812\" xlink:href=\"#DejaVuSans-73\"/>\r\n     <use x=\"261.857422\" xlink:href=\"#DejaVuSans-65\"/>\r\n     <use x=\"323.380859\" xlink:href=\"#DejaVuSans-72\"/>\r\n    </g>\r\n   </g>\r\n  </g>\r\n  <g id=\"axes_5\">\r\n   <g id=\"patch_22\">\r\n    <path d=\"M 469.854286 131.412643 \r\nL 565.511429 131.412643 \r\nL 565.511429 35.7555 \r\nL 469.854286 35.7555 \r\nz\r\n\" style=\"fill:#ffffff;\"/>\r\n   </g>\r\n   <g clip-path=\"url(#pa519b8e665)\">\r\n    <image height=\"96\" id=\"imaged37e1c81af\" transform=\"scale(1 -1)translate(0 -96)\" width=\"96\" x=\"469.854286\" xlink:href=\"data:image/png;base64,\r\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\" y=\"-35.412643\"/>\r\n   </g>\r\n   <g id=\"patch_23\">\r\n    <path d=\"M 469.854286 131.412643 \r\nL 469.854286 35.7555 \r\n\" style=\"fill:none;stroke:#000000;stroke-linecap:square;stroke-linejoin:miter;stroke-width:0.8;\"/>\r\n   </g>\r\n   <g id=\"patch_24\">\r\n    <path d=\"M 565.511429 131.412643 \r\nL 565.511429 35.7555 \r\n\" style=\"fill:none;stroke:#000000;stroke-linecap:square;stroke-linejoin:miter;stroke-width:0.8;\"/>\r\n   </g>\r\n   <g id=\"patch_25\">\r\n    <path d=\"M 469.854286 131.412643 \r\nL 565.511429 131.412643 \r\n\" style=\"fill:none;stroke:#000000;stroke-linecap:square;stroke-linejoin:miter;stroke-width:0.8;\"/>\r\n   </g>\r\n   <g id=\"patch_26\">\r\n    <path d=\"M 469.854286 35.7555 \r\nL 565.511429 35.7555 \r\n\" style=\"fill:none;stroke:#000000;stroke-linecap:square;stroke-linejoin:miter;stroke-width:0.8;\"/>\r\n   </g>\r\n   <g id=\"text_5\">\r\n    <!-- Shirt -->\r\n    <g transform=\"translate(503.58567 16.318125)scale(0.12 -0.12)\">\r\n     <defs>\r\n      <path d=\"M 3425 4513 \r\nL 3425 3897 \r\nQ 3066 4069 2747 4153 \r\nQ 2428 4238 2131 4238 \r\nQ 1616 4238 1336 4038 \r\nQ 1056 3838 1056 3469 \r\nQ 1056 3159 1242 3001 \r\nQ 1428 2844 1947 2747 \r\nL 2328 2669 \r\nQ 3034 2534 3370 2195 \r\nQ 3706 1856 3706 1288 \r\nQ 3706 609 3251 259 \r\nQ 2797 -91 1919 -91 \r\nQ 1588 -91 1214 -16 \r\nQ 841 59 441 206 \r\nL 441 856 \r\nQ 825 641 1194 531 \r\nQ 1563 422 1919 422 \r\nQ 2459 422 2753 634 \r\nQ 3047 847 3047 1241 \r\nQ 3047 1584 2836 1778 \r\nQ 2625 1972 2144 2069 \r\nL 1759 2144 \r\nQ 1053 2284 737 2584 \r\nQ 422 2884 422 3419 \r\nQ 422 4038 858 4394 \r\nQ 1294 4750 2059 4750 \r\nQ 2388 4750 2728 4690 \r\nQ 3069 4631 3425 4513 \r\nz\r\n\" id=\"DejaVuSans-53\" transform=\"scale(0.015625)\"/>\r\n      <path d=\"M 3513 2113 \r\nL 3513 0 \r\nL 2938 0 \r\nL 2938 2094 \r\nQ 2938 2591 2744 2837 \r\nQ 2550 3084 2163 3084 \r\nQ 1697 3084 1428 2787 \r\nQ 1159 2491 1159 1978 \r\nL 1159 0 \r\nL 581 0 \r\nL 581 4863 \r\nL 1159 4863 \r\nL 1159 2956 \r\nQ 1366 3272 1645 3428 \r\nQ 1925 3584 2291 3584 \r\nQ 2894 3584 3203 3211 \r\nQ 3513 2838 3513 2113 \r\nz\r\n\" id=\"DejaVuSans-68\" transform=\"scale(0.015625)\"/>\r\n      <path d=\"M 603 3500 \r\nL 1178 3500 \r\nL 1178 0 \r\nL 603 0 \r\nL 603 3500 \r\nz\r\nM 603 4863 \r\nL 1178 4863 \r\nL 1178 4134 \r\nL 603 4134 \r\nL 603 4863 \r\nz\r\n\" id=\"DejaVuSans-69\" transform=\"scale(0.015625)\"/>\r\n     </defs>\r\n     <use xlink:href=\"#DejaVuSans-53\"/>\r\n     <use x=\"63.476562\" xlink:href=\"#DejaVuSans-68\"/>\r\n     <use x=\"126.855469\" xlink:href=\"#DejaVuSans-69\"/>\r\n     <use x=\"154.638672\" xlink:href=\"#DejaVuSans-72\"/>\r\n     <use x=\"195.751953\" xlink:href=\"#DejaVuSans-74\"/>\r\n    </g>\r\n    <!-- Shirt -->\r\n    <g transform=\"translate(503.58567 29.7555)scale(0.12 -0.12)\">\r\n     <use xlink:href=\"#DejaVuSans-53\"/>\r\n     <use x=\"63.476562\" xlink:href=\"#DejaVuSans-68\"/>\r\n     <use x=\"126.855469\" xlink:href=\"#DejaVuSans-69\"/>\r\n     <use x=\"154.638672\" xlink:href=\"#DejaVuSans-72\"/>\r\n     <use x=\"195.751953\" xlink:href=\"#DejaVuSans-74\"/>\r\n    </g>\r\n   </g>\r\n  </g>\r\n  <g id=\"axes_6\">\r\n   <g id=\"patch_27\">\r\n    <path d=\"M 584.642857 131.412643 \r\nL 680.3 131.412643 \r\nL 680.3 35.7555 \r\nL 584.642857 35.7555 \r\nz\r\n\" style=\"fill:#ffffff;\"/>\r\n   </g>\r\n   <g clip-path=\"url(#p3da89db560)\">\r\n    <image height=\"96\" id=\"imageb11c055376\" transform=\"scale(1 -1)translate(0 -96)\" width=\"96\" x=\"584.642857\" xlink:href=\"data:image/png;base64,\r\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\" y=\"-35.412643\"/>\r\n   </g>\r\n   <g id=\"patch_28\">\r\n    <path d=\"M 584.642857 131.412643 \r\nL 584.642857 35.7555 \r\n\" style=\"fill:none;stroke:#000000;stroke-linecap:square;stroke-linejoin:miter;stroke-width:0.8;\"/>\r\n   </g>\r\n   <g id=\"patch_29\">\r\n    <path d=\"M 680.3 131.412643 \r\nL 680.3 35.7555 \r\n\" style=\"fill:none;stroke:#000000;stroke-linecap:square;stroke-linejoin:miter;stroke-width:0.8;\"/>\r\n   </g>\r\n   <g id=\"patch_30\">\r\n    <path d=\"M 584.642857 131.412643 \r\nL 680.3 131.412643 \r\n\" style=\"fill:none;stroke:#000000;stroke-linecap:square;stroke-linejoin:miter;stroke-width:0.8;\"/>\r\n   </g>\r\n   <g id=\"patch_31\">\r\n    <path d=\"M 584.642857 35.7555 \r\nL 680.3 35.7555 \r\n\" style=\"fill:none;stroke:#000000;stroke-linecap:square;stroke-linejoin:miter;stroke-width:0.8;\"/>\r\n   </g>\r\n   <g id=\"text_6\">\r\n    <!-- Trouser -->\r\n    <g transform=\"translate(610.602366 16.318125)scale(0.12 -0.12)\">\r\n     <use xlink:href=\"#DejaVuSans-54\"/>\r\n     <use x=\"46.333984\" xlink:href=\"#DejaVuSans-72\"/>\r\n     <use x=\"85.197266\" xlink:href=\"#DejaVuSans-6f\"/>\r\n     <use x=\"146.378906\" xlink:href=\"#DejaVuSans-75\"/>\r\n     <use x=\"209.757812\" xlink:href=\"#DejaVuSans-73\"/>\r\n     <use x=\"261.857422\" xlink:href=\"#DejaVuSans-65\"/>\r\n     <use x=\"323.380859\" xlink:href=\"#DejaVuSans-72\"/>\r\n    </g>\r\n    <!-- Trouser -->\r\n    <g transform=\"translate(610.602366 29.7555)scale(0.12 -0.12)\">\r\n     <use xlink:href=\"#DejaVuSans-54\"/>\r\n     <use x=\"46.333984\" xlink:href=\"#DejaVuSans-72\"/>\r\n     <use x=\"85.197266\" xlink:href=\"#DejaVuSans-6f\"/>\r\n     <use x=\"146.378906\" xlink:href=\"#DejaVuSans-75\"/>\r\n     <use x=\"209.757812\" xlink:href=\"#DejaVuSans-73\"/>\r\n     <use x=\"261.857422\" xlink:href=\"#DejaVuSans-65\"/>\r\n     <use x=\"323.380859\" xlink:href=\"#DejaVuSans-72\"/>\r\n    </g>\r\n   </g>\r\n  </g>\r\n </g>\r\n <defs>\r\n  <clipPath id=\"pba7a9488e7\">\r\n   <rect height=\"95.657143\" width=\"95.657143\" x=\"10.7\" y=\"35.7555\"/>\r\n  </clipPath>\r\n  <clipPath id=\"p08b886edf6\">\r\n   <rect height=\"95.657143\" width=\"95.657143\" x=\"125.488571\" y=\"35.7555\"/>\r\n  </clipPath>\r\n  <clipPath id=\"p8b9db3f0d1\">\r\n   <rect height=\"95.657143\" width=\"95.657143\" x=\"240.277143\" y=\"35.7555\"/>\r\n  </clipPath>\r\n  <clipPath id=\"p66801ac582\">\r\n   <rect height=\"95.657143\" width=\"95.657143\" x=\"355.065714\" y=\"35.7555\"/>\r\n  </clipPath>\r\n  <clipPath id=\"pa519b8e665\">\r\n   <rect height=\"95.657143\" width=\"95.657143\" x=\"469.854286\" y=\"35.7555\"/>\r\n  </clipPath>\r\n  <clipPath id=\"p3da89db560\">\r\n   <rect height=\"95.657143\" width=\"95.657143\" x=\"584.642857\" y=\"35.7555\"/>\r\n  </clipPath>\r\n </defs>\r\n</svg>\r\n"
     },
     "metadata": {
      "needs_background": "light"
     }
    }
   ],
   "metadata": {}
  }
 ],
 "metadata": {
  "orig_nbformat": 4,
  "language_info": {
   "name": "python",
   "version": "3.8.11",
   "mimetype": "text/x-python",
   "codemirror_mode": {
    "name": "ipython",
    "version": 3
   },
   "pygments_lexer": "ipython3",
   "nbconvert_exporter": "python",
   "file_extension": ".py"
  },
  "kernelspec": {
   "name": "python3",
   "display_name": "Python 3.8.11 64-bit ('mlbook': conda)"
  },
  "interpreter": {
   "hash": "df52a5b7526142d82888917fca7750cf4b04f7df5e3a8380609227b064ad199b"
  }
 },
 "nbformat": 4,
 "nbformat_minor": 2
}