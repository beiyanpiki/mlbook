{
 "cells": [
  {
   "cell_type": "markdown",
   "source": [
    "# 002 线性回归的简洁实现"
   ],
   "metadata": {}
  },
  {
   "cell_type": "code",
   "execution_count": 10,
   "source": [
    "# import package\r\n",
    "import numpy as np\r\n",
    "import torch\r\n",
    "from torch.utils import data\r\n",
    "from torch import nn\r\n"
   ],
   "outputs": [],
   "metadata": {}
  },
  {
   "cell_type": "markdown",
   "source": [
    "## 构造一个人造的数据集"
   ],
   "metadata": {}
  },
  {
   "cell_type": "markdown",
   "source": [
    "### 定义线性模型参数\r\n",
    "\r\n",
    "- Weight: $w=[2, -3.4]^T$\r\n",
    "- Bias: $b=4.2$\r\n",
    "- 噪声: $\\epsilon$\r\n",
    "- 标签: $y = Xw + b + \\epsilon$"
   ],
   "metadata": {}
  },
  {
   "cell_type": "code",
   "execution_count": 11,
   "source": [
    "def create_data(w, b, size):\r\n",
    "    # X: 均值为0, 方差为1, 大小为size*len(w)\r\n",
    "    X = torch.normal(0, 1, (size, len(w)))\r\n",
    "    y = torch.matmul(X, w) + b\r\n",
    "    # 创造噪音epsilon\r\n",
    "    epsilon = torch.normal(0, 0.01, y.shape)\r\n",
    "    y += epsilon\r\n",
    "    # reshape(x, y): 将张量变形，值为-1时表示自动.\r\n",
    "    return X, y.reshape((-1, 1))\r\n",
    "\r\n",
    "\r\n",
    "real_w, real_b = torch.tensor([2, -3.4]), 4.2\r\n",
    "features, labels = create_data(w=real_w, b=real_b, size=1000)\r\n",
    "\r\n",
    "features[0], labels[0]\r\n"
   ],
   "outputs": [
    {
     "output_type": "execute_result",
     "data": {
      "text/plain": [
       "(tensor([ 1.3460, -0.2042]), tensor([7.5630]))"
      ]
     },
     "metadata": {},
     "execution_count": 11
    }
   ],
   "metadata": {}
  },
  {
   "cell_type": "markdown",
   "source": [
    "### 调用API读取参数"
   ],
   "metadata": {}
  },
  {
   "cell_type": "code",
   "execution_count": 12,
   "source": [
    "def load_data(data_arrays, batch_size, is_train=True):\r\n",
    "    dataset = data.TensorDataset(*data_arrays)\r\n",
    "    return data.DataLoader(dataset, batch_size, shuffle=is_train)\r\n",
    "\r\n",
    "\r\n",
    "batch_size = 10\r\n",
    "data_iter = load_data((features, labels), batch_size)\r\n",
    "\r\n",
    "next(iter(data_iter))\r\n"
   ],
   "outputs": [
    {
     "output_type": "execute_result",
     "data": {
      "text/plain": [
       "[tensor([[-0.5221, -0.5272],\n",
       "         [-0.3410,  0.3007],\n",
       "         [ 1.1999,  1.0283],\n",
       "         [-1.3056,  1.4035],\n",
       "         [-0.4998, -1.0790],\n",
       "         [-0.9055,  0.8544],\n",
       "         [-1.5474, -0.3380],\n",
       "         [ 3.4811,  0.1132],\n",
       "         [-0.8072, -0.4314],\n",
       "         [ 0.0929, -1.6041]]),\n",
       " tensor([[ 4.9640],\n",
       "         [ 2.4994],\n",
       "         [ 3.1153],\n",
       "         [-3.1794],\n",
       "         [ 6.8618],\n",
       "         [-0.5141],\n",
       "         [ 2.2528],\n",
       "         [10.7894],\n",
       "         [ 4.0489],\n",
       "         [ 9.8325]])]"
      ]
     },
     "metadata": {},
     "execution_count": 12
    }
   ],
   "metadata": {}
  },
  {
   "cell_type": "markdown",
   "source": [
    "## 定义模型"
   ],
   "metadata": {}
  },
  {
   "cell_type": "markdown",
   "source": [
    "### 使用框架预定义好的层并初始化模型参数"
   ],
   "metadata": {}
  },
  {
   "cell_type": "code",
   "execution_count": 13,
   "source": [
    "net = nn.Sequential(nn.Linear(2, 1))\r\n",
    "net[0].weight.data.normal_(0, 0.01)\r\n",
    "net[0].bias.data.fill_(0)\r\n"
   ],
   "outputs": [
    {
     "output_type": "execute_result",
     "data": {
      "text/plain": [
       "tensor([0.])"
      ]
     },
     "metadata": {},
     "execution_count": 13
    }
   ],
   "metadata": {}
  },
  {
   "cell_type": "markdown",
   "source": [
    "### 定义Loss函数MSELoss"
   ],
   "metadata": {}
  },
  {
   "cell_type": "code",
   "execution_count": 14,
   "source": [
    "loss = nn.MSELoss()\r\n"
   ],
   "outputs": [],
   "metadata": {}
  },
  {
   "cell_type": "markdown",
   "source": [
    "### 实例化SGD实例"
   ],
   "metadata": {}
  },
  {
   "cell_type": "code",
   "execution_count": 15,
   "source": [
    "trainer = torch.optim.SGD(net.parameters(), lr=0.03)\r\n"
   ],
   "outputs": [],
   "metadata": {}
  },
  {
   "cell_type": "markdown",
   "source": [
    "## 开始训练"
   ],
   "metadata": {}
  },
  {
   "cell_type": "code",
   "execution_count": 16,
   "source": [
    "epoch_times = 10\r\n",
    "for epoch in range(epoch_times):\r\n",
    "    for X, y in data_iter:\r\n",
    "        l = loss(net(X), y)\r\n",
    "        trainer.zero_grad()\r\n",
    "        l.backward()\r\n",
    "        trainer.step()\r\n",
    "    l = loss(net(features), labels)\r\n",
    "    print(f'epoch: {epoch+1}, loss: {l:f}')\r\n"
   ],
   "outputs": [
    {
     "output_type": "stream",
     "name": "stdout",
     "text": [
      "epoch: 1, loss: 0.000309\n",
      "epoch: 2, loss: 0.000100\n",
      "epoch: 3, loss: 0.000100\n"
     ]
    }
   ],
   "metadata": {}
  }
 ],
 "metadata": {
  "orig_nbformat": 4,
  "language_info": {
   "name": "python",
   "version": "3.8.11",
   "mimetype": "text/x-python",
   "codemirror_mode": {
    "name": "ipython",
    "version": 3
   },
   "pygments_lexer": "ipython3",
   "nbconvert_exporter": "python",
   "file_extension": ".py"
  },
  "kernelspec": {
   "name": "python3",
   "display_name": "Python 3.8.11 64-bit ('mlbook': conda)"
  },
  "interpreter": {
   "hash": "ea64c712707e49a20f050f4e48b68e51b1a6570ba2a7e0b1ff22890beb7f7edb"
  }
 },
 "nbformat": 4,
 "nbformat_minor": 2
}