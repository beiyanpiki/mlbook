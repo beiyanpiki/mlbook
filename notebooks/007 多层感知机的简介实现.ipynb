{
 "cells": [
  {
   "cell_type": "markdown",
   "source": [
    "# 007 多层感知机的简洁实现"
   ],
   "metadata": {}
  },
  {
   "cell_type": "code",
   "execution_count": 7,
   "source": [
    "# Import package\n",
    "import torch\n",
    "from torch import nn\n",
    "from torch.utils import data\n",
    "import torchvision\n",
    "from torchvision import transforms\n",
    "from IPython import display\n",
    "import matplotlib.pyplot as plt\n",
    "%matplotlib inline"
   ],
   "outputs": [],
   "metadata": {}
  },
  {
   "cell_type": "markdown",
   "source": [
    "## 读取数据并处理数据"
   ],
   "metadata": {}
  },
  {
   "cell_type": "markdown",
   "source": [
    "### 读取 Fashion-MNIST 数据集"
   ],
   "metadata": {}
  },
  {
   "cell_type": "code",
   "execution_count": 8,
   "source": [
    "def load_data_fashion_mnist(batch_size, resize=None, workers=4):\n",
    "    trans = [transforms.ToTensor()]\n",
    "    if resize:\n",
    "        trans.insert(0, transforms.Resize(resize))\n",
    "    trans = transforms.Compose(trans)\n",
    "    mnist_train = torchvision.datasets.FashionMNIST(\n",
    "        root=\"../data\",\n",
    "        train=True,\n",
    "        transform=trans,\n",
    "        download=True\n",
    "    )\n",
    "    mnist_test = torchvision.datasets.FashionMNIST(\n",
    "        root=\"../data\",\n",
    "        train=False,\n",
    "        transform=trans, download=True\n",
    "    )\n",
    "    return (\n",
    "        data.DataLoader(\n",
    "            mnist_train,\n",
    "            batch_size,\n",
    "            shuffle=True,\n",
    "            num_workers=workers\n",
    "        ),\n",
    "        data.DataLoader(\n",
    "            mnist_test,\n",
    "            batch_size,\n",
    "            shuffle=False,\n",
    "            num_workers=workers\n",
    "        )\n",
    "    )\n",
    "\n",
    "\n",
    "batch_size = 256\n",
    "train_iter, test_iter = load_data_fashion_mnist(\n",
    "    batch_size=batch_size,\n",
    "    workers=4\n",
    ")\n"
   ],
   "outputs": [],
   "metadata": {}
  },
  {
   "cell_type": "markdown",
   "source": [
    "## 定义模型"
   ],
   "metadata": {}
  },
  {
   "cell_type": "markdown",
   "source": [
    "### 多层感知机\n",
    "\n",
    "实现一个具有但隐藏层的多层感知机, 包含256个隐藏单元, 并使用激活函数"
   ],
   "metadata": {}
  },
  {
   "cell_type": "code",
   "execution_count": 9,
   "source": [
    "net = nn.Sequential(\n",
    "    nn.Flatten(),\n",
    "    nn.Linear(784, 256),\n",
    "    nn.ReLU(),\n",
    "    nn.Linear(256, 10)\n",
    ")\n",
    "\n",
    "\n",
    "def init_weights(m):\n",
    "    if type(m) == nn.Linear:\n",
    "        nn.init.normal_(m.weight, std=0.01)\n",
    "\n",
    "\n",
    "net.apply(init_weights)\n"
   ],
   "outputs": [
    {
     "output_type": "execute_result",
     "data": {
      "text/plain": [
       "Sequential(\n",
       "  (0): Flatten(start_dim=1, end_dim=-1)\n",
       "  (1): Linear(in_features=784, out_features=256, bias=True)\n",
       "  (2): ReLU()\n",
       "  (3): Linear(in_features=256, out_features=10, bias=True)\n",
       ")"
      ]
     },
     "metadata": {},
     "execution_count": 9
    }
   ],
   "metadata": {}
  },
  {
   "cell_type": "markdown",
   "source": [
    "## Loss 与 优化函数"
   ],
   "metadata": {}
  },
  {
   "cell_type": "code",
   "execution_count": 10,
   "source": [
    "batch_size, lr, num_epochs = 256, 0.1, 10\n",
    "loss = nn.CrossEntropyLoss()\n",
    "trainer = torch.optim.SGD(net.parameters(), lr=lr)\n"
   ],
   "outputs": [],
   "metadata": {}
  },
  {
   "cell_type": "markdown",
   "source": [
    "## 开始训练"
   ],
   "metadata": {}
  },
  {
   "cell_type": "markdown",
   "source": [
    "### 训练前准备"
   ],
   "metadata": {}
  },
  {
   "cell_type": "code",
   "execution_count": 11,
   "source": [
    "def set_axes(axes, xlabel, ylabel, xlim, ylim, xscale, yscale, legend):\n",
    "    axes.set_xlabel(xlabel)\n",
    "    axes.set_ylabel(ylabel)\n",
    "    axes.set_xscale(xscale)\n",
    "    axes.set_yscale(yscale)\n",
    "    axes.set_xlim(xlim)\n",
    "    axes.set_ylim(ylim)\n",
    "    if legend:\n",
    "        axes.legend(legend)\n",
    "    axes.grid()\n",
    "\n",
    "\n",
    "class Animator:\n",
    "    \"\"\"在动画中绘制数据。\"\"\"\n",
    "\n",
    "    def __init__(self, xlabel=None, ylabel=None, legend=None, xlim=None,\n",
    "                 ylim=None, xscale='linear', yscale='linear',\n",
    "                 fmts=('-', 'm--', 'g-.', 'r:'), nrows=1, ncols=1,\n",
    "                 figsize=(3.5, 2.5)):\n",
    "        if legend is None:\n",
    "            legend = []\n",
    "        display.set_matplotlib_formats('svg')\n",
    "        self.fig, self.axes = plt.subplots(nrows, ncols, figsize=figsize)\n",
    "        if nrows * ncols == 1:\n",
    "            self.axes = [self.axes, ]\n",
    "        self.config_axes = lambda: set_axes(\n",
    "            self.axes[0], xlabel, ylabel, xlim, ylim, xscale, yscale, legend)\n",
    "        self.X, self.Y, self.fmts = None, None, fmts\n",
    "\n",
    "    def add(self, x, y):\n",
    "        if not hasattr(y, \"__len__\"):\n",
    "            y = [y]\n",
    "        n = len(y)\n",
    "        if not hasattr(x, \"__len__\"):\n",
    "            x = [x] * n\n",
    "        if not self.X:\n",
    "            self.X = [[] for _ in range(n)]\n",
    "        if not self.Y:\n",
    "            self.Y = [[] for _ in range(n)]\n",
    "        for i, (a, b) in enumerate(zip(x, y)):\n",
    "            if a is not None and b is not None:\n",
    "                self.X[i].append(a)\n",
    "                self.Y[i].append(b)\n",
    "        self.axes[0].cla()\n",
    "        for x, y, fmt in zip(self.X, self.Y, self.fmts):\n",
    "            self.axes[0].plot(x, y, fmt)\n",
    "        self.config_axes()\n",
    "        display.display(self.fig)\n",
    "        display.clear_output(wait=True)\n",
    "\n",
    "\n",
    "class Accumulator:\n",
    "    def __init__(self, n):\n",
    "        self.data = [0.0] * n\n",
    "\n",
    "    def add(self, *args):\n",
    "        self.data = [a + float(b) for a, b in zip(self.data, args)]\n",
    "\n",
    "    def reset(self):\n",
    "        self.data = [0.0] * len(self.data)\n",
    "\n",
    "    def __getitem__(self, idx):\n",
    "        return self.data[idx]\n",
    "\n",
    "\n",
    "def accuracy(y_hat, y):\n",
    "    if len(y_hat.shape) > 1 and y_hat.shape[1] > 1:\n",
    "        y_hat = y_hat.argmax(axis=1)\n",
    "    cmp = y_hat.type(y.dtype) == y\n",
    "    return float(cmp.type(y.dtype).sum())\n",
    "\n",
    "\n",
    "def evaluate_accuracy(net, data_iter):\n",
    "    if isinstance(net, torch.nn.Module):\n",
    "        net.eval()\n",
    "    metric = Accumulator(2)\n",
    "    for X, y in data_iter:\n",
    "        metric.add(accuracy(net(X), y), y.numel())\n",
    "    return metric[0] / metric[1]\n",
    "\n",
    "\n",
    "def train_epoch(net, train_iter, loss, updater):\n",
    "    if isinstance(net, torch.nn.Module):\n",
    "        net.train()\n",
    "    metric = Accumulator(3)\n",
    "    for X, y in train_iter:\n",
    "        y_hat = net(X)\n",
    "        l = loss(y_hat, y)\n",
    "        if isinstance(updater, torch.optim.Optimizer):\n",
    "            updater.zero_grad()\n",
    "            l.backward()\n",
    "            updater.step()\n",
    "            metric.add(float(l) * len(y), accuracy(y_hat, y),\n",
    "                       y.size().numel())\n",
    "        else:\n",
    "            l.sum().backward()\n",
    "            updater(X.shape[0])\n",
    "            metric.add(float(l.sum()), accuracy(y_hat, y), y.numel())\n",
    "    return metric[0] / metric[2], metric[1] / metric[2]\n",
    "\n",
    "\n",
    "def train(net, train_iter, test_iter, loss, num_epochs, updater):\n",
    "    animator = Animator(\n",
    "        xlabel='epoch',\n",
    "        xlim=[1, num_epochs],\n",
    "        ylim=[0.3, 0.9],\n",
    "        legend=['train loss', 'train acc', 'test acc']\n",
    "    )\n",
    "    for epoch in range(num_epochs):\n",
    "        train_metrics = train_epoch(net, train_iter, loss, updater)\n",
    "        test_acc = evaluate_accuracy(net, test_iter)\n",
    "        animator.add(epoch + 1, train_metrics + (test_acc,))\n",
    "    train_loss, train_acc = train_metrics\n",
    "    assert train_loss < 0.5, train_loss\n",
    "    assert train_acc <= 1 and train_acc > 0.7, train_acc\n",
    "    assert test_acc <= 1 and test_acc > 0.7, test_acc\n"
   ],
   "outputs": [],
   "metadata": {}
  },
  {
   "cell_type": "markdown",
   "source": [
    "### 开始训练"
   ],
   "metadata": {}
  },
  {
   "cell_type": "code",
   "execution_count": 12,
   "source": [
    "train(net, train_iter, test_iter, loss, num_epochs, trainer)\n"
   ],
   "outputs": [
    {
     "output_type": "display_data",
     "data": {
      "text/plain": [
       "<Figure size 252x180 with 1 Axes>"
      ],
      "image/svg+xml": "<?xml version=\"1.0\" encoding=\"utf-8\" standalone=\"no\"?>\n<!DOCTYPE svg PUBLIC \"-//W3C//DTD SVG 1.1//EN\"\n  \"http://www.w3.org/Graphics/SVG/1.1/DTD/svg11.dtd\">\n<svg height=\"184.15625pt\" version=\"1.1\" viewBox=\"0 0 238.965625 184.15625\" width=\"238.965625pt\" xmlns=\"http://www.w3.org/2000/svg\" xmlns:xlink=\"http://www.w3.org/1999/xlink\">\n <metadata>\n  <rdf:RDF xmlns:cc=\"http://creativecommons.org/ns#\" xmlns:dc=\"http://purl.org/dc/elements/1.1/\" xmlns:rdf=\"http://www.w3.org/1999/02/22-rdf-syntax-ns#\">\n   <cc:Work>\n    <dc:type rdf:resource=\"http://purl.org/dc/dcmitype/StillImage\"/>\n    <dc:date>2021-08-23T17:58:19.706178</dc:date>\n    <dc:format>image/svg+xml</dc:format>\n    <dc:creator>\n     <cc:Agent>\n      <dc:title>Matplotlib v3.4.2, https://matplotlib.org/</dc:title>\n     </cc:Agent>\n    </dc:creator>\n   </cc:Work>\n  </rdf:RDF>\n </metadata>\n <defs>\n  <style type=\"text/css\">*{stroke-linecap:butt;stroke-linejoin:round;}</style>\n </defs>\n <g id=\"figure_1\">\n  <g id=\"patch_1\">\n   <path d=\"M 0 184.15625 \nL 238.965625 184.15625 \nL 238.965625 -0 \nL 0 -0 \nz\n\" style=\"fill:none;\"/>\n  </g>\n  <g id=\"axes_1\">\n   <g id=\"patch_2\">\n    <path d=\"M 30.103125 146.6 \nL 225.403125 146.6 \nL 225.403125 10.7 \nL 30.103125 10.7 \nz\n\" style=\"fill:#ffffff;\"/>\n   </g>\n   <g id=\"matplotlib.axis_1\">\n    <g id=\"xtick_1\">\n     <g id=\"line2d_1\">\n      <path clip-path=\"url(#p74e8a5d334)\" d=\"M 51.803125 146.6 \nL 51.803125 10.7 \n\" style=\"fill:none;stroke:#b0b0b0;stroke-linecap:square;stroke-width:0.8;\"/>\n     </g>\n     <g id=\"line2d_2\">\n      <defs>\n       <path d=\"M 0 0 \nL 0 3.5 \n\" id=\"ma46a9bfb81\" style=\"stroke:#000000;stroke-width:0.8;\"/>\n      </defs>\n      <g>\n       <use style=\"stroke:#000000;stroke-width:0.8;\" x=\"51.803125\" xlink:href=\"#ma46a9bfb81\" y=\"146.6\"/>\n      </g>\n     </g>\n     <g id=\"line2d_3\">\n      <defs>\n       <path d=\"M 0 0 \nL 0 -3.5 \n\" id=\"m8e01d84e7f\" style=\"stroke:#000000;stroke-width:0.8;\"/>\n      </defs>\n      <g>\n       <use style=\"stroke:#000000;stroke-width:0.8;\" x=\"51.803125\" xlink:href=\"#m8e01d84e7f\" y=\"10.7\"/>\n      </g>\n     </g>\n     <g id=\"text_1\">\n      <!-- 2 -->\n      <g transform=\"translate(48.621875 161.198437)scale(0.1 -0.1)\">\n       <defs>\n        <path d=\"M 1228 531 \nL 3431 531 \nL 3431 0 \nL 469 0 \nL 469 531 \nQ 828 903 1448 1529 \nQ 2069 2156 2228 2338 \nQ 2531 2678 2651 2914 \nQ 2772 3150 2772 3378 \nQ 2772 3750 2511 3984 \nQ 2250 4219 1831 4219 \nQ 1534 4219 1204 4116 \nQ 875 4013 500 3803 \nL 500 4441 \nQ 881 4594 1212 4672 \nQ 1544 4750 1819 4750 \nQ 2544 4750 2975 4387 \nQ 3406 4025 3406 3419 \nQ 3406 3131 3298 2873 \nQ 3191 2616 2906 2266 \nQ 2828 2175 2409 1742 \nQ 1991 1309 1228 531 \nz\n\" id=\"DejaVuSans-32\" transform=\"scale(0.015625)\"/>\n       </defs>\n       <use xlink:href=\"#DejaVuSans-32\"/>\n      </g>\n     </g>\n    </g>\n    <g id=\"xtick_2\">\n     <g id=\"line2d_4\">\n      <path clip-path=\"url(#p74e8a5d334)\" d=\"M 95.203125 146.6 \nL 95.203125 10.7 \n\" style=\"fill:none;stroke:#b0b0b0;stroke-linecap:square;stroke-width:0.8;\"/>\n     </g>\n     <g id=\"line2d_5\">\n      <g>\n       <use style=\"stroke:#000000;stroke-width:0.8;\" x=\"95.203125\" xlink:href=\"#ma46a9bfb81\" y=\"146.6\"/>\n      </g>\n     </g>\n     <g id=\"line2d_6\">\n      <g>\n       <use style=\"stroke:#000000;stroke-width:0.8;\" x=\"95.203125\" xlink:href=\"#m8e01d84e7f\" y=\"10.7\"/>\n      </g>\n     </g>\n     <g id=\"text_2\">\n      <!-- 4 -->\n      <g transform=\"translate(92.021875 161.198437)scale(0.1 -0.1)\">\n       <defs>\n        <path d=\"M 2419 4116 \nL 825 1625 \nL 2419 1625 \nL 2419 4116 \nz\nM 2253 4666 \nL 3047 4666 \nL 3047 1625 \nL 3713 1625 \nL 3713 1100 \nL 3047 1100 \nL 3047 0 \nL 2419 0 \nL 2419 1100 \nL 313 1100 \nL 313 1709 \nL 2253 4666 \nz\n\" id=\"DejaVuSans-34\" transform=\"scale(0.015625)\"/>\n       </defs>\n       <use xlink:href=\"#DejaVuSans-34\"/>\n      </g>\n     </g>\n    </g>\n    <g id=\"xtick_3\">\n     <g id=\"line2d_7\">\n      <path clip-path=\"url(#p74e8a5d334)\" d=\"M 138.603125 146.6 \nL 138.603125 10.7 \n\" style=\"fill:none;stroke:#b0b0b0;stroke-linecap:square;stroke-width:0.8;\"/>\n     </g>\n     <g id=\"line2d_8\">\n      <g>\n       <use style=\"stroke:#000000;stroke-width:0.8;\" x=\"138.603125\" xlink:href=\"#ma46a9bfb81\" y=\"146.6\"/>\n      </g>\n     </g>\n     <g id=\"line2d_9\">\n      <g>\n       <use style=\"stroke:#000000;stroke-width:0.8;\" x=\"138.603125\" xlink:href=\"#m8e01d84e7f\" y=\"10.7\"/>\n      </g>\n     </g>\n     <g id=\"text_3\">\n      <!-- 6 -->\n      <g transform=\"translate(135.421875 161.198437)scale(0.1 -0.1)\">\n       <defs>\n        <path d=\"M 2113 2584 \nQ 1688 2584 1439 2293 \nQ 1191 2003 1191 1497 \nQ 1191 994 1439 701 \nQ 1688 409 2113 409 \nQ 2538 409 2786 701 \nQ 3034 994 3034 1497 \nQ 3034 2003 2786 2293 \nQ 2538 2584 2113 2584 \nz\nM 3366 4563 \nL 3366 3988 \nQ 3128 4100 2886 4159 \nQ 2644 4219 2406 4219 \nQ 1781 4219 1451 3797 \nQ 1122 3375 1075 2522 \nQ 1259 2794 1537 2939 \nQ 1816 3084 2150 3084 \nQ 2853 3084 3261 2657 \nQ 3669 2231 3669 1497 \nQ 3669 778 3244 343 \nQ 2819 -91 2113 -91 \nQ 1303 -91 875 529 \nQ 447 1150 447 2328 \nQ 447 3434 972 4092 \nQ 1497 4750 2381 4750 \nQ 2619 4750 2861 4703 \nQ 3103 4656 3366 4563 \nz\n\" id=\"DejaVuSans-36\" transform=\"scale(0.015625)\"/>\n       </defs>\n       <use xlink:href=\"#DejaVuSans-36\"/>\n      </g>\n     </g>\n    </g>\n    <g id=\"xtick_4\">\n     <g id=\"line2d_10\">\n      <path clip-path=\"url(#p74e8a5d334)\" d=\"M 182.003125 146.6 \nL 182.003125 10.7 \n\" style=\"fill:none;stroke:#b0b0b0;stroke-linecap:square;stroke-width:0.8;\"/>\n     </g>\n     <g id=\"line2d_11\">\n      <g>\n       <use style=\"stroke:#000000;stroke-width:0.8;\" x=\"182.003125\" xlink:href=\"#ma46a9bfb81\" y=\"146.6\"/>\n      </g>\n     </g>\n     <g id=\"line2d_12\">\n      <g>\n       <use style=\"stroke:#000000;stroke-width:0.8;\" x=\"182.003125\" xlink:href=\"#m8e01d84e7f\" y=\"10.7\"/>\n      </g>\n     </g>\n     <g id=\"text_4\">\n      <!-- 8 -->\n      <g transform=\"translate(178.821875 161.198437)scale(0.1 -0.1)\">\n       <defs>\n        <path d=\"M 2034 2216 \nQ 1584 2216 1326 1975 \nQ 1069 1734 1069 1313 \nQ 1069 891 1326 650 \nQ 1584 409 2034 409 \nQ 2484 409 2743 651 \nQ 3003 894 3003 1313 \nQ 3003 1734 2745 1975 \nQ 2488 2216 2034 2216 \nz\nM 1403 2484 \nQ 997 2584 770 2862 \nQ 544 3141 544 3541 \nQ 544 4100 942 4425 \nQ 1341 4750 2034 4750 \nQ 2731 4750 3128 4425 \nQ 3525 4100 3525 3541 \nQ 3525 3141 3298 2862 \nQ 3072 2584 2669 2484 \nQ 3125 2378 3379 2068 \nQ 3634 1759 3634 1313 \nQ 3634 634 3220 271 \nQ 2806 -91 2034 -91 \nQ 1263 -91 848 271 \nQ 434 634 434 1313 \nQ 434 1759 690 2068 \nQ 947 2378 1403 2484 \nz\nM 1172 3481 \nQ 1172 3119 1398 2916 \nQ 1625 2713 2034 2713 \nQ 2441 2713 2670 2916 \nQ 2900 3119 2900 3481 \nQ 2900 3844 2670 4047 \nQ 2441 4250 2034 4250 \nQ 1625 4250 1398 4047 \nQ 1172 3844 1172 3481 \nz\n\" id=\"DejaVuSans-38\" transform=\"scale(0.015625)\"/>\n       </defs>\n       <use xlink:href=\"#DejaVuSans-38\"/>\n      </g>\n     </g>\n    </g>\n    <g id=\"xtick_5\">\n     <g id=\"line2d_13\">\n      <path clip-path=\"url(#p74e8a5d334)\" d=\"M 225.403125 146.6 \nL 225.403125 10.7 \n\" style=\"fill:none;stroke:#b0b0b0;stroke-linecap:square;stroke-width:0.8;\"/>\n     </g>\n     <g id=\"line2d_14\">\n      <g>\n       <use style=\"stroke:#000000;stroke-width:0.8;\" x=\"225.403125\" xlink:href=\"#ma46a9bfb81\" y=\"146.6\"/>\n      </g>\n     </g>\n     <g id=\"line2d_15\">\n      <g>\n       <use style=\"stroke:#000000;stroke-width:0.8;\" x=\"225.403125\" xlink:href=\"#m8e01d84e7f\" y=\"10.7\"/>\n      </g>\n     </g>\n     <g id=\"text_5\">\n      <!-- 10 -->\n      <g transform=\"translate(219.040625 161.198437)scale(0.1 -0.1)\">\n       <defs>\n        <path d=\"M 794 531 \nL 1825 531 \nL 1825 4091 \nL 703 3866 \nL 703 4441 \nL 1819 4666 \nL 2450 4666 \nL 2450 531 \nL 3481 531 \nL 3481 0 \nL 794 0 \nL 794 531 \nz\n\" id=\"DejaVuSans-31\" transform=\"scale(0.015625)\"/>\n        <path d=\"M 2034 4250 \nQ 1547 4250 1301 3770 \nQ 1056 3291 1056 2328 \nQ 1056 1369 1301 889 \nQ 1547 409 2034 409 \nQ 2525 409 2770 889 \nQ 3016 1369 3016 2328 \nQ 3016 3291 2770 3770 \nQ 2525 4250 2034 4250 \nz\nM 2034 4750 \nQ 2819 4750 3233 4129 \nQ 3647 3509 3647 2328 \nQ 3647 1150 3233 529 \nQ 2819 -91 2034 -91 \nQ 1250 -91 836 529 \nQ 422 1150 422 2328 \nQ 422 3509 836 4129 \nQ 1250 4750 2034 4750 \nz\n\" id=\"DejaVuSans-30\" transform=\"scale(0.015625)\"/>\n       </defs>\n       <use xlink:href=\"#DejaVuSans-31\"/>\n       <use x=\"63.623047\" xlink:href=\"#DejaVuSans-30\"/>\n      </g>\n     </g>\n    </g>\n    <g id=\"text_6\">\n     <!-- epoch -->\n     <g transform=\"translate(112.525 174.876562)scale(0.1 -0.1)\">\n      <defs>\n       <path d=\"M 3597 1894 \nL 3597 1613 \nL 953 1613 \nQ 991 1019 1311 708 \nQ 1631 397 2203 397 \nQ 2534 397 2845 478 \nQ 3156 559 3463 722 \nL 3463 178 \nQ 3153 47 2828 -22 \nQ 2503 -91 2169 -91 \nQ 1331 -91 842 396 \nQ 353 884 353 1716 \nQ 353 2575 817 3079 \nQ 1281 3584 2069 3584 \nQ 2775 3584 3186 3129 \nQ 3597 2675 3597 1894 \nz\nM 3022 2063 \nQ 3016 2534 2758 2815 \nQ 2500 3097 2075 3097 \nQ 1594 3097 1305 2825 \nQ 1016 2553 972 2059 \nL 3022 2063 \nz\n\" id=\"DejaVuSans-65\" transform=\"scale(0.015625)\"/>\n       <path d=\"M 1159 525 \nL 1159 -1331 \nL 581 -1331 \nL 581 3500 \nL 1159 3500 \nL 1159 2969 \nQ 1341 3281 1617 3432 \nQ 1894 3584 2278 3584 \nQ 2916 3584 3314 3078 \nQ 3713 2572 3713 1747 \nQ 3713 922 3314 415 \nQ 2916 -91 2278 -91 \nQ 1894 -91 1617 61 \nQ 1341 213 1159 525 \nz\nM 3116 1747 \nQ 3116 2381 2855 2742 \nQ 2594 3103 2138 3103 \nQ 1681 3103 1420 2742 \nQ 1159 2381 1159 1747 \nQ 1159 1113 1420 752 \nQ 1681 391 2138 391 \nQ 2594 391 2855 752 \nQ 3116 1113 3116 1747 \nz\n\" id=\"DejaVuSans-70\" transform=\"scale(0.015625)\"/>\n       <path d=\"M 1959 3097 \nQ 1497 3097 1228 2736 \nQ 959 2375 959 1747 \nQ 959 1119 1226 758 \nQ 1494 397 1959 397 \nQ 2419 397 2687 759 \nQ 2956 1122 2956 1747 \nQ 2956 2369 2687 2733 \nQ 2419 3097 1959 3097 \nz\nM 1959 3584 \nQ 2709 3584 3137 3096 \nQ 3566 2609 3566 1747 \nQ 3566 888 3137 398 \nQ 2709 -91 1959 -91 \nQ 1206 -91 779 398 \nQ 353 888 353 1747 \nQ 353 2609 779 3096 \nQ 1206 3584 1959 3584 \nz\n\" id=\"DejaVuSans-6f\" transform=\"scale(0.015625)\"/>\n       <path d=\"M 3122 3366 \nL 3122 2828 \nQ 2878 2963 2633 3030 \nQ 2388 3097 2138 3097 \nQ 1578 3097 1268 2742 \nQ 959 2388 959 1747 \nQ 959 1106 1268 751 \nQ 1578 397 2138 397 \nQ 2388 397 2633 464 \nQ 2878 531 3122 666 \nL 3122 134 \nQ 2881 22 2623 -34 \nQ 2366 -91 2075 -91 \nQ 1284 -91 818 406 \nQ 353 903 353 1747 \nQ 353 2603 823 3093 \nQ 1294 3584 2113 3584 \nQ 2378 3584 2631 3529 \nQ 2884 3475 3122 3366 \nz\n\" id=\"DejaVuSans-63\" transform=\"scale(0.015625)\"/>\n       <path d=\"M 3513 2113 \nL 3513 0 \nL 2938 0 \nL 2938 2094 \nQ 2938 2591 2744 2837 \nQ 2550 3084 2163 3084 \nQ 1697 3084 1428 2787 \nQ 1159 2491 1159 1978 \nL 1159 0 \nL 581 0 \nL 581 4863 \nL 1159 4863 \nL 1159 2956 \nQ 1366 3272 1645 3428 \nQ 1925 3584 2291 3584 \nQ 2894 3584 3203 3211 \nQ 3513 2838 3513 2113 \nz\n\" id=\"DejaVuSans-68\" transform=\"scale(0.015625)\"/>\n      </defs>\n      <use xlink:href=\"#DejaVuSans-65\"/>\n      <use x=\"61.523438\" xlink:href=\"#DejaVuSans-70\"/>\n      <use x=\"125\" xlink:href=\"#DejaVuSans-6f\"/>\n      <use x=\"186.181641\" xlink:href=\"#DejaVuSans-63\"/>\n      <use x=\"241.162109\" xlink:href=\"#DejaVuSans-68\"/>\n     </g>\n    </g>\n   </g>\n   <g id=\"matplotlib.axis_2\">\n    <g id=\"ytick_1\">\n     <g id=\"line2d_16\">\n      <path clip-path=\"url(#p74e8a5d334)\" d=\"M 30.103125 123.95 \nL 225.403125 123.95 \n\" style=\"fill:none;stroke:#b0b0b0;stroke-linecap:square;stroke-width:0.8;\"/>\n     </g>\n     <g id=\"line2d_17\">\n      <defs>\n       <path d=\"M 0 0 \nL -3.5 0 \n\" id=\"me0c3eb7fb7\" style=\"stroke:#000000;stroke-width:0.8;\"/>\n      </defs>\n      <g>\n       <use style=\"stroke:#000000;stroke-width:0.8;\" x=\"30.103125\" xlink:href=\"#me0c3eb7fb7\" y=\"123.95\"/>\n      </g>\n     </g>\n     <g id=\"line2d_18\">\n      <defs>\n       <path d=\"M 0 0 \nL 3.5 0 \n\" id=\"m0bf1f40569\" style=\"stroke:#000000;stroke-width:0.8;\"/>\n      </defs>\n      <g>\n       <use style=\"stroke:#000000;stroke-width:0.8;\" x=\"225.403125\" xlink:href=\"#m0bf1f40569\" y=\"123.95\"/>\n      </g>\n     </g>\n     <g id=\"text_7\">\n      <!-- 0.4 -->\n      <g transform=\"translate(7.2 127.749219)scale(0.1 -0.1)\">\n       <defs>\n        <path d=\"M 684 794 \nL 1344 794 \nL 1344 0 \nL 684 0 \nL 684 794 \nz\n\" id=\"DejaVuSans-2e\" transform=\"scale(0.015625)\"/>\n       </defs>\n       <use xlink:href=\"#DejaVuSans-30\"/>\n       <use x=\"63.623047\" xlink:href=\"#DejaVuSans-2e\"/>\n       <use x=\"95.410156\" xlink:href=\"#DejaVuSans-34\"/>\n      </g>\n     </g>\n    </g>\n    <g id=\"ytick_2\">\n     <g id=\"line2d_19\">\n      <path clip-path=\"url(#p74e8a5d334)\" d=\"M 30.103125 78.65 \nL 225.403125 78.65 \n\" style=\"fill:none;stroke:#b0b0b0;stroke-linecap:square;stroke-width:0.8;\"/>\n     </g>\n     <g id=\"line2d_20\">\n      <g>\n       <use style=\"stroke:#000000;stroke-width:0.8;\" x=\"30.103125\" xlink:href=\"#me0c3eb7fb7\" y=\"78.65\"/>\n      </g>\n     </g>\n     <g id=\"line2d_21\">\n      <g>\n       <use style=\"stroke:#000000;stroke-width:0.8;\" x=\"225.403125\" xlink:href=\"#m0bf1f40569\" y=\"78.65\"/>\n      </g>\n     </g>\n     <g id=\"text_8\">\n      <!-- 0.6 -->\n      <g transform=\"translate(7.2 82.449219)scale(0.1 -0.1)\">\n       <use xlink:href=\"#DejaVuSans-30\"/>\n       <use x=\"63.623047\" xlink:href=\"#DejaVuSans-2e\"/>\n       <use x=\"95.410156\" xlink:href=\"#DejaVuSans-36\"/>\n      </g>\n     </g>\n    </g>\n    <g id=\"ytick_3\">\n     <g id=\"line2d_22\">\n      <path clip-path=\"url(#p74e8a5d334)\" d=\"M 30.103125 33.35 \nL 225.403125 33.35 \n\" style=\"fill:none;stroke:#b0b0b0;stroke-linecap:square;stroke-width:0.8;\"/>\n     </g>\n     <g id=\"line2d_23\">\n      <g>\n       <use style=\"stroke:#000000;stroke-width:0.8;\" x=\"30.103125\" xlink:href=\"#me0c3eb7fb7\" y=\"33.35\"/>\n      </g>\n     </g>\n     <g id=\"line2d_24\">\n      <g>\n       <use style=\"stroke:#000000;stroke-width:0.8;\" x=\"225.403125\" xlink:href=\"#m0bf1f40569\" y=\"33.35\"/>\n      </g>\n     </g>\n     <g id=\"text_9\">\n      <!-- 0.8 -->\n      <g transform=\"translate(7.2 37.149219)scale(0.1 -0.1)\">\n       <use xlink:href=\"#DejaVuSans-30\"/>\n       <use x=\"63.623047\" xlink:href=\"#DejaVuSans-2e\"/>\n       <use x=\"95.410156\" xlink:href=\"#DejaVuSans-38\"/>\n      </g>\n     </g>\n    </g>\n   </g>\n   <g id=\"line2d_25\">\n    <path clip-path=\"url(#p74e8a5d334)\" d=\"M 34.708192 -1 \nL 51.803125 78.509902 \nL 73.503125 97.010496 \nL 95.203125 105.21237 \nL 116.903125 111.149463 \nL 138.603125 115.891089 \nL 160.303125 120.21781 \nL 182.003125 122.805345 \nL 203.703125 125.562274 \nL 225.403125 127.356891 \n\" style=\"fill:none;stroke:#1f77b4;stroke-linecap:square;stroke-width:1.5;\"/>\n   </g>\n   <g id=\"line2d_26\">\n    <path clip-path=\"url(#p74e8a5d334)\" d=\"M 30.103125 68.72175 \nL 51.803125 35.74335 \nL 73.503125 29.095575 \nL 95.203125 26.377575 \nL 116.903125 24.331525 \nL 138.603125 22.7649 \nL 160.303125 20.9378 \nL 182.003125 20.25075 \nL 203.703125 19.46555 \nL 225.403125 19.005 \n\" style=\"fill:none;stroke:#bf00bf;stroke-dasharray:5.55,2.4;stroke-dashoffset:0;stroke-width:1.5;\"/>\n   </g>\n   <g id=\"line2d_27\">\n    <path clip-path=\"url(#p74e8a5d334)\" d=\"M 30.103125 44.9015 \nL 51.803125 37.6535 \nL 73.503125 32.33075 \nL 95.203125 28.70675 \nL 116.903125 38.31035 \nL 138.603125 38.8313 \nL 160.303125 28.367 \nL 182.003125 25.12805 \nL 203.703125 26.03405 \nL 225.403125 26.53235 \n\" style=\"fill:none;stroke:#008000;stroke-dasharray:9.6,2.4,1.5,2.4;stroke-dashoffset:0;stroke-width:1.5;\"/>\n   </g>\n   <g id=\"patch_3\">\n    <path d=\"M 30.103125 146.6 \nL 30.103125 10.7 \n\" style=\"fill:none;stroke:#000000;stroke-linecap:square;stroke-linejoin:miter;stroke-width:0.8;\"/>\n   </g>\n   <g id=\"patch_4\">\n    <path d=\"M 225.403125 146.6 \nL 225.403125 10.7 \n\" style=\"fill:none;stroke:#000000;stroke-linecap:square;stroke-linejoin:miter;stroke-width:0.8;\"/>\n   </g>\n   <g id=\"patch_5\">\n    <path d=\"M 30.103125 146.6 \nL 225.403125 146.6 \n\" style=\"fill:none;stroke:#000000;stroke-linecap:square;stroke-linejoin:miter;stroke-width:0.8;\"/>\n   </g>\n   <g id=\"patch_6\">\n    <path d=\"M 30.103125 10.7 \nL 225.403125 10.7 \n\" style=\"fill:none;stroke:#000000;stroke-linecap:square;stroke-linejoin:miter;stroke-width:0.8;\"/>\n   </g>\n   <g id=\"legend_1\">\n    <g id=\"patch_7\">\n     <path d=\"M 140.634375 102.167187 \nL 218.403125 102.167187 \nQ 220.403125 102.167187 220.403125 100.167187 \nL 220.403125 57.132812 \nQ 220.403125 55.132812 218.403125 55.132812 \nL 140.634375 55.132812 \nQ 138.634375 55.132812 138.634375 57.132812 \nL 138.634375 100.167187 \nQ 138.634375 102.167187 140.634375 102.167187 \nz\n\" style=\"fill:#ffffff;opacity:0.8;stroke:#cccccc;stroke-linejoin:miter;\"/>\n    </g>\n    <g id=\"line2d_28\">\n     <path d=\"M 142.634375 63.23125 \nL 162.634375 63.23125 \n\" style=\"fill:none;stroke:#1f77b4;stroke-linecap:square;stroke-width:1.5;\"/>\n    </g>\n    <g id=\"line2d_29\"/>\n    <g id=\"text_10\">\n     <!-- train loss -->\n     <g transform=\"translate(170.634375 66.73125)scale(0.1 -0.1)\">\n      <defs>\n       <path d=\"M 1172 4494 \nL 1172 3500 \nL 2356 3500 \nL 2356 3053 \nL 1172 3053 \nL 1172 1153 \nQ 1172 725 1289 603 \nQ 1406 481 1766 481 \nL 2356 481 \nL 2356 0 \nL 1766 0 \nQ 1100 0 847 248 \nQ 594 497 594 1153 \nL 594 3053 \nL 172 3053 \nL 172 3500 \nL 594 3500 \nL 594 4494 \nL 1172 4494 \nz\n\" id=\"DejaVuSans-74\" transform=\"scale(0.015625)\"/>\n       <path d=\"M 2631 2963 \nQ 2534 3019 2420 3045 \nQ 2306 3072 2169 3072 \nQ 1681 3072 1420 2755 \nQ 1159 2438 1159 1844 \nL 1159 0 \nL 581 0 \nL 581 3500 \nL 1159 3500 \nL 1159 2956 \nQ 1341 3275 1631 3429 \nQ 1922 3584 2338 3584 \nQ 2397 3584 2469 3576 \nQ 2541 3569 2628 3553 \nL 2631 2963 \nz\n\" id=\"DejaVuSans-72\" transform=\"scale(0.015625)\"/>\n       <path d=\"M 2194 1759 \nQ 1497 1759 1228 1600 \nQ 959 1441 959 1056 \nQ 959 750 1161 570 \nQ 1363 391 1709 391 \nQ 2188 391 2477 730 \nQ 2766 1069 2766 1631 \nL 2766 1759 \nL 2194 1759 \nz\nM 3341 1997 \nL 3341 0 \nL 2766 0 \nL 2766 531 \nQ 2569 213 2275 61 \nQ 1981 -91 1556 -91 \nQ 1019 -91 701 211 \nQ 384 513 384 1019 \nQ 384 1609 779 1909 \nQ 1175 2209 1959 2209 \nL 2766 2209 \nL 2766 2266 \nQ 2766 2663 2505 2880 \nQ 2244 3097 1772 3097 \nQ 1472 3097 1187 3025 \nQ 903 2953 641 2809 \nL 641 3341 \nQ 956 3463 1253 3523 \nQ 1550 3584 1831 3584 \nQ 2591 3584 2966 3190 \nQ 3341 2797 3341 1997 \nz\n\" id=\"DejaVuSans-61\" transform=\"scale(0.015625)\"/>\n       <path d=\"M 603 3500 \nL 1178 3500 \nL 1178 0 \nL 603 0 \nL 603 3500 \nz\nM 603 4863 \nL 1178 4863 \nL 1178 4134 \nL 603 4134 \nL 603 4863 \nz\n\" id=\"DejaVuSans-69\" transform=\"scale(0.015625)\"/>\n       <path d=\"M 3513 2113 \nL 3513 0 \nL 2938 0 \nL 2938 2094 \nQ 2938 2591 2744 2837 \nQ 2550 3084 2163 3084 \nQ 1697 3084 1428 2787 \nQ 1159 2491 1159 1978 \nL 1159 0 \nL 581 0 \nL 581 3500 \nL 1159 3500 \nL 1159 2956 \nQ 1366 3272 1645 3428 \nQ 1925 3584 2291 3584 \nQ 2894 3584 3203 3211 \nQ 3513 2838 3513 2113 \nz\n\" id=\"DejaVuSans-6e\" transform=\"scale(0.015625)\"/>\n       <path id=\"DejaVuSans-20\" transform=\"scale(0.015625)\"/>\n       <path d=\"M 603 4863 \nL 1178 4863 \nL 1178 0 \nL 603 0 \nL 603 4863 \nz\n\" id=\"DejaVuSans-6c\" transform=\"scale(0.015625)\"/>\n       <path d=\"M 2834 3397 \nL 2834 2853 \nQ 2591 2978 2328 3040 \nQ 2066 3103 1784 3103 \nQ 1356 3103 1142 2972 \nQ 928 2841 928 2578 \nQ 928 2378 1081 2264 \nQ 1234 2150 1697 2047 \nL 1894 2003 \nQ 2506 1872 2764 1633 \nQ 3022 1394 3022 966 \nQ 3022 478 2636 193 \nQ 2250 -91 1575 -91 \nQ 1294 -91 989 -36 \nQ 684 19 347 128 \nL 347 722 \nQ 666 556 975 473 \nQ 1284 391 1588 391 \nQ 1994 391 2212 530 \nQ 2431 669 2431 922 \nQ 2431 1156 2273 1281 \nQ 2116 1406 1581 1522 \nL 1381 1569 \nQ 847 1681 609 1914 \nQ 372 2147 372 2553 \nQ 372 3047 722 3315 \nQ 1072 3584 1716 3584 \nQ 2034 3584 2315 3537 \nQ 2597 3491 2834 3397 \nz\n\" id=\"DejaVuSans-73\" transform=\"scale(0.015625)\"/>\n      </defs>\n      <use xlink:href=\"#DejaVuSans-74\"/>\n      <use x=\"39.208984\" xlink:href=\"#DejaVuSans-72\"/>\n      <use x=\"80.322266\" xlink:href=\"#DejaVuSans-61\"/>\n      <use x=\"141.601562\" xlink:href=\"#DejaVuSans-69\"/>\n      <use x=\"169.384766\" xlink:href=\"#DejaVuSans-6e\"/>\n      <use x=\"232.763672\" xlink:href=\"#DejaVuSans-20\"/>\n      <use x=\"264.550781\" xlink:href=\"#DejaVuSans-6c\"/>\n      <use x=\"292.333984\" xlink:href=\"#DejaVuSans-6f\"/>\n      <use x=\"353.515625\" xlink:href=\"#DejaVuSans-73\"/>\n      <use x=\"405.615234\" xlink:href=\"#DejaVuSans-73\"/>\n     </g>\n    </g>\n    <g id=\"line2d_30\">\n     <path d=\"M 142.634375 77.909375 \nL 162.634375 77.909375 \n\" style=\"fill:none;stroke:#bf00bf;stroke-dasharray:5.55,2.4;stroke-dashoffset:0;stroke-width:1.5;\"/>\n    </g>\n    <g id=\"line2d_31\"/>\n    <g id=\"text_11\">\n     <!-- train acc -->\n     <g transform=\"translate(170.634375 81.409375)scale(0.1 -0.1)\">\n      <use xlink:href=\"#DejaVuSans-74\"/>\n      <use x=\"39.208984\" xlink:href=\"#DejaVuSans-72\"/>\n      <use x=\"80.322266\" xlink:href=\"#DejaVuSans-61\"/>\n      <use x=\"141.601562\" xlink:href=\"#DejaVuSans-69\"/>\n      <use x=\"169.384766\" xlink:href=\"#DejaVuSans-6e\"/>\n      <use x=\"232.763672\" xlink:href=\"#DejaVuSans-20\"/>\n      <use x=\"264.550781\" xlink:href=\"#DejaVuSans-61\"/>\n      <use x=\"325.830078\" xlink:href=\"#DejaVuSans-63\"/>\n      <use x=\"380.810547\" xlink:href=\"#DejaVuSans-63\"/>\n     </g>\n    </g>\n    <g id=\"line2d_32\">\n     <path d=\"M 142.634375 92.5875 \nL 162.634375 92.5875 \n\" style=\"fill:none;stroke:#008000;stroke-dasharray:9.6,2.4,1.5,2.4;stroke-dashoffset:0;stroke-width:1.5;\"/>\n    </g>\n    <g id=\"line2d_33\"/>\n    <g id=\"text_12\">\n     <!-- test acc -->\n     <g transform=\"translate(170.634375 96.0875)scale(0.1 -0.1)\">\n      <use xlink:href=\"#DejaVuSans-74\"/>\n      <use x=\"39.208984\" xlink:href=\"#DejaVuSans-65\"/>\n      <use x=\"100.732422\" xlink:href=\"#DejaVuSans-73\"/>\n      <use x=\"152.832031\" xlink:href=\"#DejaVuSans-74\"/>\n      <use x=\"192.041016\" xlink:href=\"#DejaVuSans-20\"/>\n      <use x=\"223.828125\" xlink:href=\"#DejaVuSans-61\"/>\n      <use x=\"285.107422\" xlink:href=\"#DejaVuSans-63\"/>\n      <use x=\"340.087891\" xlink:href=\"#DejaVuSans-63\"/>\n     </g>\n    </g>\n   </g>\n  </g>\n </g>\n <defs>\n  <clipPath id=\"p74e8a5d334\">\n   <rect height=\"135.9\" width=\"195.3\" x=\"30.103125\" y=\"10.7\"/>\n  </clipPath>\n </defs>\n</svg>\n"
     },
     "metadata": {
      "needs_background": "light"
     }
    }
   ],
   "metadata": {}
  },
  {
   "cell_type": "markdown",
   "source": [
    "## 对图像进行分类预测"
   ],
   "metadata": {}
  },
  {
   "cell_type": "code",
   "execution_count": 13,
   "source": [
    "def show_image(imgs, rows, cols, titles=None, scale=2):\n",
    "    figsize = (cols*scale, rows*scale)\n",
    "    _, axes = plt.subplots(rows, cols, figsize=figsize)\n",
    "    axes = axes.flatten()\n",
    "    for i, (ax, img) in enumerate(zip(axes, imgs)):\n",
    "        if torch.is_tensor(img):\n",
    "            ax.imshow(img.numpy())\n",
    "        else:\n",
    "            ax.imshow(img)\n",
    "        ax.axes.get_xaxis().set_visible(False)\n",
    "        ax.axes.get_yaxis().set_visible(False)\n",
    "        if titles:\n",
    "            ax.set_title(titles[i])\n",
    "    return axes\n",
    "\n",
    "\n",
    "def get_labels(labels):\n",
    "    text_labels = ['T-shirt/top', 'Trouser', 'Pullover', 'Dress',\n",
    "                   'Coat', 'Sandal', 'Shirt', 'Sneaker', 'Bag', 'Ankle boot']\n",
    "    return [text_labels[int(i)] for i in labels]\n",
    "\n",
    "def predict(net, test_iter, n=6):\n",
    "    for X, y in test_iter:\n",
    "        break\n",
    "    trues = get_labels(y)\n",
    "    preds = get_labels(net(X).argmax(axis=1))\n",
    "    titles = [true + '\\n' + pred for true, pred in zip(trues, preds)]\n",
    "    show_image(\n",
    "        X[0:n].reshape((n, 28, 28)), 1, n,\n",
    "        titles=titles[0:n]\n",
    "    )\n",
    "\n",
    "\n",
    "predict(net, test_iter)"
   ],
   "outputs": [
    {
     "output_type": "display_data",
     "data": {
      "text/plain": [
       "<Figure size 864x144 with 6 Axes>"
      ],
      "image/svg+xml": "<?xml version=\"1.0\" encoding=\"utf-8\" standalone=\"no\"?>\n<!DOCTYPE svg PUBLIC \"-//W3C//DTD SVG 1.1//EN\"\n  \"http://www.w3.org/Graphics/SVG/1.1/DTD/svg11.dtd\">\n<svg height=\"142.112643pt\" version=\"1.1\" viewBox=\"0 0 687.5 142.112643\" width=\"687.5pt\" xmlns=\"http://www.w3.org/2000/svg\" xmlns:xlink=\"http://www.w3.org/1999/xlink\">\n <metadata>\n  <rdf:RDF xmlns:cc=\"http://creativecommons.org/ns#\" xmlns:dc=\"http://purl.org/dc/elements/1.1/\" xmlns:rdf=\"http://www.w3.org/1999/02/22-rdf-syntax-ns#\">\n   <cc:Work>\n    <dc:type rdf:resource=\"http://purl.org/dc/dcmitype/StillImage\"/>\n    <dc:date>2021-08-23T17:58:20.365944</dc:date>\n    <dc:format>image/svg+xml</dc:format>\n    <dc:creator>\n     <cc:Agent>\n      <dc:title>Matplotlib v3.4.2, https://matplotlib.org/</dc:title>\n     </cc:Agent>\n    </dc:creator>\n   </cc:Work>\n  </rdf:RDF>\n </metadata>\n <defs>\n  <style type=\"text/css\">*{stroke-linecap:butt;stroke-linejoin:round;}</style>\n </defs>\n <g id=\"figure_1\">\n  <g id=\"patch_1\">\n   <path d=\"M 0 142.112643 \nL 687.5 142.112643 \nL 687.5 0 \nL 0 0 \nz\n\" style=\"fill:none;\"/>\n  </g>\n  <g id=\"axes_1\">\n   <g id=\"patch_2\">\n    <path d=\"M 10.7 131.412643 \nL 106.357143 131.412643 \nL 106.357143 35.7555 \nL 10.7 35.7555 \nz\n\" style=\"fill:#ffffff;\"/>\n   </g>\n   <g clip-path=\"url(#p7b417e1740)\">\n    <image height=\"96\" id=\"image65c83fd220\" transform=\"scale(1 -1)translate(0 -96)\" width=\"96\" x=\"10.7\" xlink:href=\"data:image/png;base64,\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\" y=\"-35.412643\"/>\n   </g>\n   <g id=\"patch_3\">\n    <path d=\"M 10.7 131.412643 \nL 10.7 35.7555 \n\" style=\"fill:none;stroke:#000000;stroke-linecap:square;stroke-linejoin:miter;stroke-width:0.8;\"/>\n   </g>\n   <g id=\"patch_4\">\n    <path d=\"M 106.357143 131.412643 \nL 106.357143 35.7555 \n\" style=\"fill:none;stroke:#000000;stroke-linecap:square;stroke-linejoin:miter;stroke-width:0.8;\"/>\n   </g>\n   <g id=\"patch_5\">\n    <path d=\"M 10.7 131.412643 \nL 106.357143 131.412643 \n\" style=\"fill:none;stroke:#000000;stroke-linecap:square;stroke-linejoin:miter;stroke-width:0.8;\"/>\n   </g>\n   <g id=\"patch_6\">\n    <path d=\"M 10.7 35.7555 \nL 106.357143 35.7555 \n\" style=\"fill:none;stroke:#000000;stroke-linecap:square;stroke-linejoin:miter;stroke-width:0.8;\"/>\n   </g>\n   <g id=\"text_1\">\n    <!-- Ankle boot -->\n    <g transform=\"translate(26.377946 16.318125)scale(0.12 -0.12)\">\n     <defs>\n      <path d=\"M 2188 4044 \nL 1331 1722 \nL 3047 1722 \nL 2188 4044 \nz\nM 1831 4666 \nL 2547 4666 \nL 4325 0 \nL 3669 0 \nL 3244 1197 \nL 1141 1197 \nL 716 0 \nL 50 0 \nL 1831 4666 \nz\n\" id=\"DejaVuSans-41\" transform=\"scale(0.015625)\"/>\n      <path d=\"M 3513 2113 \nL 3513 0 \nL 2938 0 \nL 2938 2094 \nQ 2938 2591 2744 2837 \nQ 2550 3084 2163 3084 \nQ 1697 3084 1428 2787 \nQ 1159 2491 1159 1978 \nL 1159 0 \nL 581 0 \nL 581 3500 \nL 1159 3500 \nL 1159 2956 \nQ 1366 3272 1645 3428 \nQ 1925 3584 2291 3584 \nQ 2894 3584 3203 3211 \nQ 3513 2838 3513 2113 \nz\n\" id=\"DejaVuSans-6e\" transform=\"scale(0.015625)\"/>\n      <path d=\"M 581 4863 \nL 1159 4863 \nL 1159 1991 \nL 2875 3500 \nL 3609 3500 \nL 1753 1863 \nL 3688 0 \nL 2938 0 \nL 1159 1709 \nL 1159 0 \nL 581 0 \nL 581 4863 \nz\n\" id=\"DejaVuSans-6b\" transform=\"scale(0.015625)\"/>\n      <path d=\"M 603 4863 \nL 1178 4863 \nL 1178 0 \nL 603 0 \nL 603 4863 \nz\n\" id=\"DejaVuSans-6c\" transform=\"scale(0.015625)\"/>\n      <path d=\"M 3597 1894 \nL 3597 1613 \nL 953 1613 \nQ 991 1019 1311 708 \nQ 1631 397 2203 397 \nQ 2534 397 2845 478 \nQ 3156 559 3463 722 \nL 3463 178 \nQ 3153 47 2828 -22 \nQ 2503 -91 2169 -91 \nQ 1331 -91 842 396 \nQ 353 884 353 1716 \nQ 353 2575 817 3079 \nQ 1281 3584 2069 3584 \nQ 2775 3584 3186 3129 \nQ 3597 2675 3597 1894 \nz\nM 3022 2063 \nQ 3016 2534 2758 2815 \nQ 2500 3097 2075 3097 \nQ 1594 3097 1305 2825 \nQ 1016 2553 972 2059 \nL 3022 2063 \nz\n\" id=\"DejaVuSans-65\" transform=\"scale(0.015625)\"/>\n      <path id=\"DejaVuSans-20\" transform=\"scale(0.015625)\"/>\n      <path d=\"M 3116 1747 \nQ 3116 2381 2855 2742 \nQ 2594 3103 2138 3103 \nQ 1681 3103 1420 2742 \nQ 1159 2381 1159 1747 \nQ 1159 1113 1420 752 \nQ 1681 391 2138 391 \nQ 2594 391 2855 752 \nQ 3116 1113 3116 1747 \nz\nM 1159 2969 \nQ 1341 3281 1617 3432 \nQ 1894 3584 2278 3584 \nQ 2916 3584 3314 3078 \nQ 3713 2572 3713 1747 \nQ 3713 922 3314 415 \nQ 2916 -91 2278 -91 \nQ 1894 -91 1617 61 \nQ 1341 213 1159 525 \nL 1159 0 \nL 581 0 \nL 581 4863 \nL 1159 4863 \nL 1159 2969 \nz\n\" id=\"DejaVuSans-62\" transform=\"scale(0.015625)\"/>\n      <path d=\"M 1959 3097 \nQ 1497 3097 1228 2736 \nQ 959 2375 959 1747 \nQ 959 1119 1226 758 \nQ 1494 397 1959 397 \nQ 2419 397 2687 759 \nQ 2956 1122 2956 1747 \nQ 2956 2369 2687 2733 \nQ 2419 3097 1959 3097 \nz\nM 1959 3584 \nQ 2709 3584 3137 3096 \nQ 3566 2609 3566 1747 \nQ 3566 888 3137 398 \nQ 2709 -91 1959 -91 \nQ 1206 -91 779 398 \nQ 353 888 353 1747 \nQ 353 2609 779 3096 \nQ 1206 3584 1959 3584 \nz\n\" id=\"DejaVuSans-6f\" transform=\"scale(0.015625)\"/>\n      <path d=\"M 1172 4494 \nL 1172 3500 \nL 2356 3500 \nL 2356 3053 \nL 1172 3053 \nL 1172 1153 \nQ 1172 725 1289 603 \nQ 1406 481 1766 481 \nL 2356 481 \nL 2356 0 \nL 1766 0 \nQ 1100 0 847 248 \nQ 594 497 594 1153 \nL 594 3053 \nL 172 3053 \nL 172 3500 \nL 594 3500 \nL 594 4494 \nL 1172 4494 \nz\n\" id=\"DejaVuSans-74\" transform=\"scale(0.015625)\"/>\n     </defs>\n     <use xlink:href=\"#DejaVuSans-41\"/>\n     <use x=\"68.408203\" xlink:href=\"#DejaVuSans-6e\"/>\n     <use x=\"131.787109\" xlink:href=\"#DejaVuSans-6b\"/>\n     <use x=\"189.697266\" xlink:href=\"#DejaVuSans-6c\"/>\n     <use x=\"217.480469\" xlink:href=\"#DejaVuSans-65\"/>\n     <use x=\"279.003906\" xlink:href=\"#DejaVuSans-20\"/>\n     <use x=\"310.791016\" xlink:href=\"#DejaVuSans-62\"/>\n     <use x=\"374.267578\" xlink:href=\"#DejaVuSans-6f\"/>\n     <use x=\"435.449219\" xlink:href=\"#DejaVuSans-6f\"/>\n     <use x=\"496.630859\" xlink:href=\"#DejaVuSans-74\"/>\n    </g>\n    <!-- Ankle boot -->\n    <g transform=\"translate(26.377946 29.7555)scale(0.12 -0.12)\">\n     <use xlink:href=\"#DejaVuSans-41\"/>\n     <use x=\"68.408203\" xlink:href=\"#DejaVuSans-6e\"/>\n     <use x=\"131.787109\" xlink:href=\"#DejaVuSans-6b\"/>\n     <use x=\"189.697266\" xlink:href=\"#DejaVuSans-6c\"/>\n     <use x=\"217.480469\" xlink:href=\"#DejaVuSans-65\"/>\n     <use x=\"279.003906\" xlink:href=\"#DejaVuSans-20\"/>\n     <use x=\"310.791016\" xlink:href=\"#DejaVuSans-62\"/>\n     <use x=\"374.267578\" xlink:href=\"#DejaVuSans-6f\"/>\n     <use x=\"435.449219\" xlink:href=\"#DejaVuSans-6f\"/>\n     <use x=\"496.630859\" xlink:href=\"#DejaVuSans-74\"/>\n    </g>\n   </g>\n  </g>\n  <g id=\"axes_2\">\n   <g id=\"patch_7\">\n    <path d=\"M 125.488571 131.412643 \nL 221.145714 131.412643 \nL 221.145714 35.7555 \nL 125.488571 35.7555 \nz\n\" style=\"fill:#ffffff;\"/>\n   </g>\n   <g clip-path=\"url(#p9a0ce1f29c)\">\n    <image height=\"96\" id=\"image2c91f2479a\" transform=\"scale(1 -1)translate(0 -96)\" width=\"96\" x=\"125.488571\" xlink:href=\"data:image/png;base64,\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\" y=\"-35.412643\"/>\n   </g>\n   <g id=\"patch_8\">\n    <path d=\"M 125.488571 131.412643 \nL 125.488571 35.7555 \n\" style=\"fill:none;stroke:#000000;stroke-linecap:square;stroke-linejoin:miter;stroke-width:0.8;\"/>\n   </g>\n   <g id=\"patch_9\">\n    <path d=\"M 221.145714 131.412643 \nL 221.145714 35.7555 \n\" style=\"fill:none;stroke:#000000;stroke-linecap:square;stroke-linejoin:miter;stroke-width:0.8;\"/>\n   </g>\n   <g id=\"patch_10\">\n    <path d=\"M 125.488571 131.412643 \nL 221.145714 131.412643 \n\" style=\"fill:none;stroke:#000000;stroke-linecap:square;stroke-linejoin:miter;stroke-width:0.8;\"/>\n   </g>\n   <g id=\"patch_11\">\n    <path d=\"M 125.488571 35.7555 \nL 221.145714 35.7555 \n\" style=\"fill:none;stroke:#000000;stroke-linecap:square;stroke-linejoin:miter;stroke-width:0.8;\"/>\n   </g>\n   <g id=\"text_2\">\n    <!-- Pullover -->\n    <g transform=\"translate(149.287143 16.318125)scale(0.12 -0.12)\">\n     <defs>\n      <path d=\"M 1259 4147 \nL 1259 2394 \nL 2053 2394 \nQ 2494 2394 2734 2622 \nQ 2975 2850 2975 3272 \nQ 2975 3691 2734 3919 \nQ 2494 4147 2053 4147 \nL 1259 4147 \nz\nM 628 4666 \nL 2053 4666 \nQ 2838 4666 3239 4311 \nQ 3641 3956 3641 3272 \nQ 3641 2581 3239 2228 \nQ 2838 1875 2053 1875 \nL 1259 1875 \nL 1259 0 \nL 628 0 \nL 628 4666 \nz\n\" id=\"DejaVuSans-50\" transform=\"scale(0.015625)\"/>\n      <path d=\"M 544 1381 \nL 544 3500 \nL 1119 3500 \nL 1119 1403 \nQ 1119 906 1312 657 \nQ 1506 409 1894 409 \nQ 2359 409 2629 706 \nQ 2900 1003 2900 1516 \nL 2900 3500 \nL 3475 3500 \nL 3475 0 \nL 2900 0 \nL 2900 538 \nQ 2691 219 2414 64 \nQ 2138 -91 1772 -91 \nQ 1169 -91 856 284 \nQ 544 659 544 1381 \nz\nM 1991 3584 \nL 1991 3584 \nz\n\" id=\"DejaVuSans-75\" transform=\"scale(0.015625)\"/>\n      <path d=\"M 191 3500 \nL 800 3500 \nL 1894 563 \nL 2988 3500 \nL 3597 3500 \nL 2284 0 \nL 1503 0 \nL 191 3500 \nz\n\" id=\"DejaVuSans-76\" transform=\"scale(0.015625)\"/>\n      <path d=\"M 2631 2963 \nQ 2534 3019 2420 3045 \nQ 2306 3072 2169 3072 \nQ 1681 3072 1420 2755 \nQ 1159 2438 1159 1844 \nL 1159 0 \nL 581 0 \nL 581 3500 \nL 1159 3500 \nL 1159 2956 \nQ 1341 3275 1631 3429 \nQ 1922 3584 2338 3584 \nQ 2397 3584 2469 3576 \nQ 2541 3569 2628 3553 \nL 2631 2963 \nz\n\" id=\"DejaVuSans-72\" transform=\"scale(0.015625)\"/>\n     </defs>\n     <use xlink:href=\"#DejaVuSans-50\"/>\n     <use x=\"58.552734\" xlink:href=\"#DejaVuSans-75\"/>\n     <use x=\"121.931641\" xlink:href=\"#DejaVuSans-6c\"/>\n     <use x=\"149.714844\" xlink:href=\"#DejaVuSans-6c\"/>\n     <use x=\"177.498047\" xlink:href=\"#DejaVuSans-6f\"/>\n     <use x=\"238.679688\" xlink:href=\"#DejaVuSans-76\"/>\n     <use x=\"297.859375\" xlink:href=\"#DejaVuSans-65\"/>\n     <use x=\"359.382812\" xlink:href=\"#DejaVuSans-72\"/>\n    </g>\n    <!-- Pullover -->\n    <g transform=\"translate(149.287143 29.7555)scale(0.12 -0.12)\">\n     <use xlink:href=\"#DejaVuSans-50\"/>\n     <use x=\"58.552734\" xlink:href=\"#DejaVuSans-75\"/>\n     <use x=\"121.931641\" xlink:href=\"#DejaVuSans-6c\"/>\n     <use x=\"149.714844\" xlink:href=\"#DejaVuSans-6c\"/>\n     <use x=\"177.498047\" xlink:href=\"#DejaVuSans-6f\"/>\n     <use x=\"238.679688\" xlink:href=\"#DejaVuSans-76\"/>\n     <use x=\"297.859375\" xlink:href=\"#DejaVuSans-65\"/>\n     <use x=\"359.382812\" xlink:href=\"#DejaVuSans-72\"/>\n    </g>\n   </g>\n  </g>\n  <g id=\"axes_3\">\n   <g id=\"patch_12\">\n    <path d=\"M 240.277143 131.412643 \nL 335.934286 131.412643 \nL 335.934286 35.7555 \nL 240.277143 35.7555 \nz\n\" style=\"fill:#ffffff;\"/>\n   </g>\n   <g clip-path=\"url(#p666903884e)\">\n    <image height=\"96\" id=\"image324249395b\" transform=\"scale(1 -1)translate(0 -96)\" width=\"96\" x=\"240.277143\" xlink:href=\"data:image/png;base64,\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\" y=\"-35.412643\"/>\n   </g>\n   <g id=\"patch_13\">\n    <path d=\"M 240.277143 131.412643 \nL 240.277143 35.7555 \n\" style=\"fill:none;stroke:#000000;stroke-linecap:square;stroke-linejoin:miter;stroke-width:0.8;\"/>\n   </g>\n   <g id=\"patch_14\">\n    <path d=\"M 335.934286 131.412643 \nL 335.934286 35.7555 \n\" style=\"fill:none;stroke:#000000;stroke-linecap:square;stroke-linejoin:miter;stroke-width:0.8;\"/>\n   </g>\n   <g id=\"patch_15\">\n    <path d=\"M 240.277143 131.412643 \nL 335.934286 131.412643 \n\" style=\"fill:none;stroke:#000000;stroke-linecap:square;stroke-linejoin:miter;stroke-width:0.8;\"/>\n   </g>\n   <g id=\"patch_16\">\n    <path d=\"M 240.277143 35.7555 \nL 335.934286 35.7555 \n\" style=\"fill:none;stroke:#000000;stroke-linecap:square;stroke-linejoin:miter;stroke-width:0.8;\"/>\n   </g>\n   <g id=\"text_3\">\n    <!-- Trouser -->\n    <g transform=\"translate(266.236652 16.318125)scale(0.12 -0.12)\">\n     <defs>\n      <path d=\"M -19 4666 \nL 3928 4666 \nL 3928 4134 \nL 2272 4134 \nL 2272 0 \nL 1638 0 \nL 1638 4134 \nL -19 4134 \nL -19 4666 \nz\n\" id=\"DejaVuSans-54\" transform=\"scale(0.015625)\"/>\n      <path d=\"M 2834 3397 \nL 2834 2853 \nQ 2591 2978 2328 3040 \nQ 2066 3103 1784 3103 \nQ 1356 3103 1142 2972 \nQ 928 2841 928 2578 \nQ 928 2378 1081 2264 \nQ 1234 2150 1697 2047 \nL 1894 2003 \nQ 2506 1872 2764 1633 \nQ 3022 1394 3022 966 \nQ 3022 478 2636 193 \nQ 2250 -91 1575 -91 \nQ 1294 -91 989 -36 \nQ 684 19 347 128 \nL 347 722 \nQ 666 556 975 473 \nQ 1284 391 1588 391 \nQ 1994 391 2212 530 \nQ 2431 669 2431 922 \nQ 2431 1156 2273 1281 \nQ 2116 1406 1581 1522 \nL 1381 1569 \nQ 847 1681 609 1914 \nQ 372 2147 372 2553 \nQ 372 3047 722 3315 \nQ 1072 3584 1716 3584 \nQ 2034 3584 2315 3537 \nQ 2597 3491 2834 3397 \nz\n\" id=\"DejaVuSans-73\" transform=\"scale(0.015625)\"/>\n     </defs>\n     <use xlink:href=\"#DejaVuSans-54\"/>\n     <use x=\"46.333984\" xlink:href=\"#DejaVuSans-72\"/>\n     <use x=\"85.197266\" xlink:href=\"#DejaVuSans-6f\"/>\n     <use x=\"146.378906\" xlink:href=\"#DejaVuSans-75\"/>\n     <use x=\"209.757812\" xlink:href=\"#DejaVuSans-73\"/>\n     <use x=\"261.857422\" xlink:href=\"#DejaVuSans-65\"/>\n     <use x=\"323.380859\" xlink:href=\"#DejaVuSans-72\"/>\n    </g>\n    <!-- Trouser -->\n    <g transform=\"translate(266.236652 29.7555)scale(0.12 -0.12)\">\n     <use xlink:href=\"#DejaVuSans-54\"/>\n     <use x=\"46.333984\" xlink:href=\"#DejaVuSans-72\"/>\n     <use x=\"85.197266\" xlink:href=\"#DejaVuSans-6f\"/>\n     <use x=\"146.378906\" xlink:href=\"#DejaVuSans-75\"/>\n     <use x=\"209.757812\" xlink:href=\"#DejaVuSans-73\"/>\n     <use x=\"261.857422\" xlink:href=\"#DejaVuSans-65\"/>\n     <use x=\"323.380859\" xlink:href=\"#DejaVuSans-72\"/>\n    </g>\n   </g>\n  </g>\n  <g id=\"axes_4\">\n   <g id=\"patch_17\">\n    <path d=\"M 355.065714 131.412643 \nL 450.722857 131.412643 \nL 450.722857 35.7555 \nL 355.065714 35.7555 \nz\n\" style=\"fill:#ffffff;\"/>\n   </g>\n   <g clip-path=\"url(#pc7fa11f29a)\">\n    <image height=\"96\" id=\"image6185dfc183\" transform=\"scale(1 -1)translate(0 -96)\" width=\"96\" x=\"355.065714\" xlink:href=\"data:image/png;base64,\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\" y=\"-35.412643\"/>\n   </g>\n   <g id=\"patch_18\">\n    <path d=\"M 355.065714 131.412643 \nL 355.065714 35.7555 \n\" style=\"fill:none;stroke:#000000;stroke-linecap:square;stroke-linejoin:miter;stroke-width:0.8;\"/>\n   </g>\n   <g id=\"patch_19\">\n    <path d=\"M 450.722857 131.412643 \nL 450.722857 35.7555 \n\" style=\"fill:none;stroke:#000000;stroke-linecap:square;stroke-linejoin:miter;stroke-width:0.8;\"/>\n   </g>\n   <g id=\"patch_20\">\n    <path d=\"M 355.065714 131.412643 \nL 450.722857 131.412643 \n\" style=\"fill:none;stroke:#000000;stroke-linecap:square;stroke-linejoin:miter;stroke-width:0.8;\"/>\n   </g>\n   <g id=\"patch_21\">\n    <path d=\"M 355.065714 35.7555 \nL 450.722857 35.7555 \n\" style=\"fill:none;stroke:#000000;stroke-linecap:square;stroke-linejoin:miter;stroke-width:0.8;\"/>\n   </g>\n   <g id=\"text_4\">\n    <!-- Trouser -->\n    <g transform=\"translate(381.025223 16.318125)scale(0.12 -0.12)\">\n     <use xlink:href=\"#DejaVuSans-54\"/>\n     <use x=\"46.333984\" xlink:href=\"#DejaVuSans-72\"/>\n     <use x=\"85.197266\" xlink:href=\"#DejaVuSans-6f\"/>\n     <use x=\"146.378906\" xlink:href=\"#DejaVuSans-75\"/>\n     <use x=\"209.757812\" xlink:href=\"#DejaVuSans-73\"/>\n     <use x=\"261.857422\" xlink:href=\"#DejaVuSans-65\"/>\n     <use x=\"323.380859\" xlink:href=\"#DejaVuSans-72\"/>\n    </g>\n    <!-- Trouser -->\n    <g transform=\"translate(381.025223 29.7555)scale(0.12 -0.12)\">\n     <use xlink:href=\"#DejaVuSans-54\"/>\n     <use x=\"46.333984\" xlink:href=\"#DejaVuSans-72\"/>\n     <use x=\"85.197266\" xlink:href=\"#DejaVuSans-6f\"/>\n     <use x=\"146.378906\" xlink:href=\"#DejaVuSans-75\"/>\n     <use x=\"209.757812\" xlink:href=\"#DejaVuSans-73\"/>\n     <use x=\"261.857422\" xlink:href=\"#DejaVuSans-65\"/>\n     <use x=\"323.380859\" xlink:href=\"#DejaVuSans-72\"/>\n    </g>\n   </g>\n  </g>\n  <g id=\"axes_5\">\n   <g id=\"patch_22\">\n    <path d=\"M 469.854286 131.412643 \nL 565.511429 131.412643 \nL 565.511429 35.7555 \nL 469.854286 35.7555 \nz\n\" style=\"fill:#ffffff;\"/>\n   </g>\n   <g clip-path=\"url(#p190f02fb7e)\">\n    <image height=\"96\" id=\"imageeeb0a595b3\" transform=\"scale(1 -1)translate(0 -96)\" width=\"96\" x=\"469.854286\" xlink:href=\"data:image/png;base64,\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\" y=\"-35.412643\"/>\n   </g>\n   <g id=\"patch_23\">\n    <path d=\"M 469.854286 131.412643 \nL 469.854286 35.7555 \n\" style=\"fill:none;stroke:#000000;stroke-linecap:square;stroke-linejoin:miter;stroke-width:0.8;\"/>\n   </g>\n   <g id=\"patch_24\">\n    <path d=\"M 565.511429 131.412643 \nL 565.511429 35.7555 \n\" style=\"fill:none;stroke:#000000;stroke-linecap:square;stroke-linejoin:miter;stroke-width:0.8;\"/>\n   </g>\n   <g id=\"patch_25\">\n    <path d=\"M 469.854286 131.412643 \nL 565.511429 131.412643 \n\" style=\"fill:none;stroke:#000000;stroke-linecap:square;stroke-linejoin:miter;stroke-width:0.8;\"/>\n   </g>\n   <g id=\"patch_26\">\n    <path d=\"M 469.854286 35.7555 \nL 565.511429 35.7555 \n\" style=\"fill:none;stroke:#000000;stroke-linecap:square;stroke-linejoin:miter;stroke-width:0.8;\"/>\n   </g>\n   <g id=\"text_5\">\n    <!-- Shirt -->\n    <g transform=\"translate(503.58567 16.318125)scale(0.12 -0.12)\">\n     <defs>\n      <path d=\"M 3425 4513 \nL 3425 3897 \nQ 3066 4069 2747 4153 \nQ 2428 4238 2131 4238 \nQ 1616 4238 1336 4038 \nQ 1056 3838 1056 3469 \nQ 1056 3159 1242 3001 \nQ 1428 2844 1947 2747 \nL 2328 2669 \nQ 3034 2534 3370 2195 \nQ 3706 1856 3706 1288 \nQ 3706 609 3251 259 \nQ 2797 -91 1919 -91 \nQ 1588 -91 1214 -16 \nQ 841 59 441 206 \nL 441 856 \nQ 825 641 1194 531 \nQ 1563 422 1919 422 \nQ 2459 422 2753 634 \nQ 3047 847 3047 1241 \nQ 3047 1584 2836 1778 \nQ 2625 1972 2144 2069 \nL 1759 2144 \nQ 1053 2284 737 2584 \nQ 422 2884 422 3419 \nQ 422 4038 858 4394 \nQ 1294 4750 2059 4750 \nQ 2388 4750 2728 4690 \nQ 3069 4631 3425 4513 \nz\n\" id=\"DejaVuSans-53\" transform=\"scale(0.015625)\"/>\n      <path d=\"M 3513 2113 \nL 3513 0 \nL 2938 0 \nL 2938 2094 \nQ 2938 2591 2744 2837 \nQ 2550 3084 2163 3084 \nQ 1697 3084 1428 2787 \nQ 1159 2491 1159 1978 \nL 1159 0 \nL 581 0 \nL 581 4863 \nL 1159 4863 \nL 1159 2956 \nQ 1366 3272 1645 3428 \nQ 1925 3584 2291 3584 \nQ 2894 3584 3203 3211 \nQ 3513 2838 3513 2113 \nz\n\" id=\"DejaVuSans-68\" transform=\"scale(0.015625)\"/>\n      <path d=\"M 603 3500 \nL 1178 3500 \nL 1178 0 \nL 603 0 \nL 603 3500 \nz\nM 603 4863 \nL 1178 4863 \nL 1178 4134 \nL 603 4134 \nL 603 4863 \nz\n\" id=\"DejaVuSans-69\" transform=\"scale(0.015625)\"/>\n     </defs>\n     <use xlink:href=\"#DejaVuSans-53\"/>\n     <use x=\"63.476562\" xlink:href=\"#DejaVuSans-68\"/>\n     <use x=\"126.855469\" xlink:href=\"#DejaVuSans-69\"/>\n     <use x=\"154.638672\" xlink:href=\"#DejaVuSans-72\"/>\n     <use x=\"195.751953\" xlink:href=\"#DejaVuSans-74\"/>\n    </g>\n    <!-- Shirt -->\n    <g transform=\"translate(503.58567 29.7555)scale(0.12 -0.12)\">\n     <use xlink:href=\"#DejaVuSans-53\"/>\n     <use x=\"63.476562\" xlink:href=\"#DejaVuSans-68\"/>\n     <use x=\"126.855469\" xlink:href=\"#DejaVuSans-69\"/>\n     <use x=\"154.638672\" xlink:href=\"#DejaVuSans-72\"/>\n     <use x=\"195.751953\" xlink:href=\"#DejaVuSans-74\"/>\n    </g>\n   </g>\n  </g>\n  <g id=\"axes_6\">\n   <g id=\"patch_27\">\n    <path d=\"M 584.642857 131.412643 \nL 680.3 131.412643 \nL 680.3 35.7555 \nL 584.642857 35.7555 \nz\n\" style=\"fill:#ffffff;\"/>\n   </g>\n   <g clip-path=\"url(#p1138a14bfb)\">\n    <image height=\"96\" id=\"image68287e77cc\" transform=\"scale(1 -1)translate(0 -96)\" width=\"96\" x=\"584.642857\" xlink:href=\"data:image/png;base64,\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\" y=\"-35.412643\"/>\n   </g>\n   <g id=\"patch_28\">\n    <path d=\"M 584.642857 131.412643 \nL 584.642857 35.7555 \n\" style=\"fill:none;stroke:#000000;stroke-linecap:square;stroke-linejoin:miter;stroke-width:0.8;\"/>\n   </g>\n   <g id=\"patch_29\">\n    <path d=\"M 680.3 131.412643 \nL 680.3 35.7555 \n\" style=\"fill:none;stroke:#000000;stroke-linecap:square;stroke-linejoin:miter;stroke-width:0.8;\"/>\n   </g>\n   <g id=\"patch_30\">\n    <path d=\"M 584.642857 131.412643 \nL 680.3 131.412643 \n\" style=\"fill:none;stroke:#000000;stroke-linecap:square;stroke-linejoin:miter;stroke-width:0.8;\"/>\n   </g>\n   <g id=\"patch_31\">\n    <path d=\"M 584.642857 35.7555 \nL 680.3 35.7555 \n\" style=\"fill:none;stroke:#000000;stroke-linecap:square;stroke-linejoin:miter;stroke-width:0.8;\"/>\n   </g>\n   <g id=\"text_6\">\n    <!-- Trouser -->\n    <g transform=\"translate(610.602366 16.318125)scale(0.12 -0.12)\">\n     <use xlink:href=\"#DejaVuSans-54\"/>\n     <use x=\"46.333984\" xlink:href=\"#DejaVuSans-72\"/>\n     <use x=\"85.197266\" xlink:href=\"#DejaVuSans-6f\"/>\n     <use x=\"146.378906\" xlink:href=\"#DejaVuSans-75\"/>\n     <use x=\"209.757812\" xlink:href=\"#DejaVuSans-73\"/>\n     <use x=\"261.857422\" xlink:href=\"#DejaVuSans-65\"/>\n     <use x=\"323.380859\" xlink:href=\"#DejaVuSans-72\"/>\n    </g>\n    <!-- Trouser -->\n    <g transform=\"translate(610.602366 29.7555)scale(0.12 -0.12)\">\n     <use xlink:href=\"#DejaVuSans-54\"/>\n     <use x=\"46.333984\" xlink:href=\"#DejaVuSans-72\"/>\n     <use x=\"85.197266\" xlink:href=\"#DejaVuSans-6f\"/>\n     <use x=\"146.378906\" xlink:href=\"#DejaVuSans-75\"/>\n     <use x=\"209.757812\" xlink:href=\"#DejaVuSans-73\"/>\n     <use x=\"261.857422\" xlink:href=\"#DejaVuSans-65\"/>\n     <use x=\"323.380859\" xlink:href=\"#DejaVuSans-72\"/>\n    </g>\n   </g>\n  </g>\n </g>\n <defs>\n  <clipPath id=\"p7b417e1740\">\n   <rect height=\"95.657143\" width=\"95.657143\" x=\"10.7\" y=\"35.7555\"/>\n  </clipPath>\n  <clipPath id=\"p9a0ce1f29c\">\n   <rect height=\"95.657143\" width=\"95.657143\" x=\"125.488571\" y=\"35.7555\"/>\n  </clipPath>\n  <clipPath id=\"p666903884e\">\n   <rect height=\"95.657143\" width=\"95.657143\" x=\"240.277143\" y=\"35.7555\"/>\n  </clipPath>\n  <clipPath id=\"pc7fa11f29a\">\n   <rect height=\"95.657143\" width=\"95.657143\" x=\"355.065714\" y=\"35.7555\"/>\n  </clipPath>\n  <clipPath id=\"p190f02fb7e\">\n   <rect height=\"95.657143\" width=\"95.657143\" x=\"469.854286\" y=\"35.7555\"/>\n  </clipPath>\n  <clipPath id=\"p1138a14bfb\">\n   <rect height=\"95.657143\" width=\"95.657143\" x=\"584.642857\" y=\"35.7555\"/>\n  </clipPath>\n </defs>\n</svg>\n"
     },
     "metadata": {
      "needs_background": "light"
     }
    }
   ],
   "metadata": {}
  }
 ],
 "metadata": {
  "orig_nbformat": 4,
  "language_info": {
   "name": "python",
   "version": "3.8.11",
   "mimetype": "text/x-python",
   "codemirror_mode": {
    "name": "ipython",
    "version": 3
   },
   "pygments_lexer": "ipython3",
   "nbconvert_exporter": "python",
   "file_extension": ".py"
  },
  "kernelspec": {
   "name": "python3",
   "display_name": "Python 3.8.11 64-bit ('mlbook': conda)"
  },
  "interpreter": {
   "hash": "df52a5b7526142d82888917fca7750cf4b04f7df5e3a8380609227b064ad199b"
  }
 },
 "nbformat": 4,
 "nbformat_minor": 2
}